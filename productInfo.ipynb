{
 "cells": [
  {
   "cell_type": "code",
   "execution_count": 2,
   "metadata": {},
   "outputs": [],
   "source": [
    "import pandas as pd"
   ]
  },
  {
   "cell_type": "code",
   "execution_count": 3,
   "metadata": {},
   "outputs": [],
   "source": [
    "df = pd.read_csv('productlist.csv');\n",
    "df1 = pd.read_csv('productReviews_soup.csv');"
   ]
  },
  {
   "cell_type": "code",
   "execution_count": 4,
   "metadata": {},
   "outputs": [
    {
     "name": "stdout",
     "output_type": "stream",
     "text": [
      "$95 $1.80\n"
     ]
    }
   ],
   "source": [
    "max =df['price'].max()\n",
    "min = df['price'].min()\n",
    "print(max,min)"
   ]
  },
  {
   "cell_type": "code",
   "execution_count": 5,
   "metadata": {},
   "outputs": [
    {
     "data": {
      "text/plain": [
       "NEOGEN                 37\n",
       "COSRX                  28\n",
       "BENTON                 24\n",
       "HANSKIN                21\n",
       "KLAIRS                 19\n",
       "NATURIUM               18\n",
       "SOKO GLAM EXCLUSIVE    16\n",
       "ETUDE HOUSE            14\n",
       "Name: product_brand, dtype: int64"
      ]
     },
     "execution_count": 5,
     "metadata": {},
     "output_type": "execute_result"
    }
   ],
   "source": [
    "df['product_brand'].value_counts().head(8)"
   ]
  },
  {
   "cell_type": "code",
   "execution_count": 6,
   "metadata": {},
   "outputs": [
    {
     "data": {
      "text/html": [
       "<div>\n",
       "<style scoped>\n",
       "    .dataframe tbody tr th:only-of-type {\n",
       "        vertical-align: middle;\n",
       "    }\n",
       "\n",
       "    .dataframe tbody tr th {\n",
       "        vertical-align: top;\n",
       "    }\n",
       "\n",
       "    .dataframe thead th {\n",
       "        text-align: right;\n",
       "    }\n",
       "</style>\n",
       "<table border=\"1\" class=\"dataframe\">\n",
       "  <thead>\n",
       "    <tr style=\"text-align: right;\">\n",
       "      <th></th>\n",
       "      <th>Unnamed: 0</th>\n",
       "      <th>product_ID</th>\n",
       "      <th>product_name</th>\n",
       "      <th>product_link</th>\n",
       "      <th>product_brand</th>\n",
       "      <th>price</th>\n",
       "      <th>product_description</th>\n",
       "      <th>product_type</th>\n",
       "      <th>skin_type</th>\n",
       "      <th>skin_concern</th>\n",
       "      <th>Img_link</th>\n",
       "    </tr>\n",
       "  </thead>\n",
       "  <tbody>\n",
       "  </tbody>\n",
       "</table>\n",
       "</div>"
      ],
      "text/plain": [
       "Empty DataFrame\n",
       "Columns: [Unnamed: 0, product_ID, product_name, product_link, product_brand, price, product_description, product_type, skin_type, skin_concern, Img_link]\n",
       "Index: []"
      ]
     },
     "execution_count": 6,
     "metadata": {},
     "output_type": "execute_result"
    }
   ],
   "source": [
    "df1 = df[df['product_ID'] == 4339086655557]\n",
    "df1.head()"
   ]
  },
  {
   "cell_type": "code",
   "execution_count": 9,
   "metadata": {},
   "outputs": [
    {
     "name": "stdout",
     "output_type": "stream",
     "text": [
      "Series([], Name: product_ID, dtype: int64)\n"
     ]
    }
   ],
   "source": [
    "top_product_ids = df1['product_ID'].value_counts().index[:10]\n",
    "top_products = df[df['product_ID'].isin(top_product_ids)]\n",
    "print(top_products['product_ID'])"
   ]
  },
  {
   "cell_type": "code",
   "execution_count": null,
   "metadata": {},
   "outputs": [],
   "source": []
  }
 ],
 "metadata": {
  "kernelspec": {
   "display_name": "Python 3",
   "language": "python",
   "name": "python3"
  },
  "language_info": {
   "codemirror_mode": {
    "name": "ipython",
    "version": 3
   },
   "file_extension": ".py",
   "mimetype": "text/x-python",
   "name": "python",
   "nbconvert_exporter": "python",
   "pygments_lexer": "ipython3",
   "version": "3.8.0"
  },
  "orig_nbformat": 4,
  "vscode": {
   "interpreter": {
    "hash": "38d0412196f94d4c049f4bd43b96b0ab2cdecb3d2ce5a3f704fc439e89250987"
   }
  }
 },
 "nbformat": 4,
 "nbformat_minor": 2
}
