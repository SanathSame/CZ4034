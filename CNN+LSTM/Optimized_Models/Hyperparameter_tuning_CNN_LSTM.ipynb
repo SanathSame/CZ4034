{
  "nbformat": 4,
  "nbformat_minor": 0,
  "metadata": {
    "colab": {
      "provenance": []
    },
    "kernelspec": {
      "name": "python3",
      "display_name": "Python 3"
    },
    "language_info": {
      "name": "python"
    },
    "accelerator": "GPU",
    "gpuClass": "standard"
  },
  "cells": [
    {
      "cell_type": "markdown",
      "source": [
        "# Hyperparameter Tuning - CNN+LSTM"
      ],
      "metadata": {
        "id": "vacJsEW1YXcu"
      }
    },
    {
      "cell_type": "markdown",
      "source": [
        "## Imports"
      ],
      "metadata": {
        "id": "06fywkE8Yjxf"
      }
    },
    {
      "cell_type": "code",
      "source": [
        "!pip install keras-tuner"
      ],
      "metadata": {
        "colab": {
          "base_uri": "https://localhost:8080/"
        },
        "id": "bhwh3oetZh_4",
        "outputId": "47bdc14d-3d41-4880-acd5-3e89f549523f"
      },
      "execution_count": 1,
      "outputs": [
        {
          "output_type": "stream",
          "name": "stdout",
          "text": [
            "Looking in indexes: https://pypi.org/simple, https://us-python.pkg.dev/colab-wheels/public/simple/\n",
            "Collecting keras-tuner\n",
            "  Downloading keras_tuner-1.3.3-py3-none-any.whl (172 kB)\n",
            "\u001b[2K     \u001b[90m━━━━━━━━━━━━━━━━━━━━━━━━━━━━━━━━━━━━━━━\u001b[0m \u001b[32m172.1/172.1 KB\u001b[0m \u001b[31m9.8 MB/s\u001b[0m eta \u001b[36m0:00:00\u001b[0m\n",
            "\u001b[?25hRequirement already satisfied: requests in /usr/local/lib/python3.9/dist-packages (from keras-tuner) (2.27.1)\n",
            "Requirement already satisfied: packaging in /usr/local/lib/python3.9/dist-packages (from keras-tuner) (23.0)\n",
            "Collecting kt-legacy\n",
            "  Downloading kt_legacy-1.0.4-py3-none-any.whl (9.6 kB)\n",
            "Requirement already satisfied: tensorflow>=2.0 in /usr/local/lib/python3.9/dist-packages (from keras-tuner) (2.12.0)\n",
            "Requirement already satisfied: protobuf<=3.20.3 in /usr/local/lib/python3.9/dist-packages (from keras-tuner) (3.20.3)\n",
            "Requirement already satisfied: termcolor>=1.1.0 in /usr/local/lib/python3.9/dist-packages (from tensorflow>=2.0->keras-tuner) (2.2.0)\n",
            "Requirement already satisfied: setuptools in /usr/local/lib/python3.9/dist-packages (from tensorflow>=2.0->keras-tuner) (67.6.1)\n",
            "Requirement already satisfied: tensorflow-estimator<2.13,>=2.12.0 in /usr/local/lib/python3.9/dist-packages (from tensorflow>=2.0->keras-tuner) (2.12.0)\n",
            "Requirement already satisfied: absl-py>=1.0.0 in /usr/local/lib/python3.9/dist-packages (from tensorflow>=2.0->keras-tuner) (1.4.0)\n",
            "Requirement already satisfied: typing-extensions>=3.6.6 in /usr/local/lib/python3.9/dist-packages (from tensorflow>=2.0->keras-tuner) (4.5.0)\n",
            "Requirement already satisfied: jax>=0.3.15 in /usr/local/lib/python3.9/dist-packages (from tensorflow>=2.0->keras-tuner) (0.4.7)\n",
            "Requirement already satisfied: h5py>=2.9.0 in /usr/local/lib/python3.9/dist-packages (from tensorflow>=2.0->keras-tuner) (3.8.0)\n",
            "Requirement already satisfied: gast<=0.4.0,>=0.2.1 in /usr/local/lib/python3.9/dist-packages (from tensorflow>=2.0->keras-tuner) (0.4.0)\n",
            "Requirement already satisfied: tensorflow-io-gcs-filesystem>=0.23.1 in /usr/local/lib/python3.9/dist-packages (from tensorflow>=2.0->keras-tuner) (0.32.0)\n",
            "Requirement already satisfied: numpy<1.24,>=1.22 in /usr/local/lib/python3.9/dist-packages (from tensorflow>=2.0->keras-tuner) (1.22.4)\n",
            "Requirement already satisfied: flatbuffers>=2.0 in /usr/local/lib/python3.9/dist-packages (from tensorflow>=2.0->keras-tuner) (23.3.3)\n",
            "Requirement already satisfied: tensorboard<2.13,>=2.12 in /usr/local/lib/python3.9/dist-packages (from tensorflow>=2.0->keras-tuner) (2.12.0)\n",
            "Requirement already satisfied: six>=1.12.0 in /usr/local/lib/python3.9/dist-packages (from tensorflow>=2.0->keras-tuner) (1.16.0)\n",
            "Requirement already satisfied: wrapt<1.15,>=1.11.0 in /usr/local/lib/python3.9/dist-packages (from tensorflow>=2.0->keras-tuner) (1.14.1)\n",
            "Requirement already satisfied: google-pasta>=0.1.1 in /usr/local/lib/python3.9/dist-packages (from tensorflow>=2.0->keras-tuner) (0.2.0)\n",
            "Requirement already satisfied: keras<2.13,>=2.12.0 in /usr/local/lib/python3.9/dist-packages (from tensorflow>=2.0->keras-tuner) (2.12.0)\n",
            "Requirement already satisfied: libclang>=13.0.0 in /usr/local/lib/python3.9/dist-packages (from tensorflow>=2.0->keras-tuner) (16.0.0)\n",
            "Requirement already satisfied: astunparse>=1.6.0 in /usr/local/lib/python3.9/dist-packages (from tensorflow>=2.0->keras-tuner) (1.6.3)\n",
            "Requirement already satisfied: opt-einsum>=2.3.2 in /usr/local/lib/python3.9/dist-packages (from tensorflow>=2.0->keras-tuner) (3.3.0)\n",
            "Requirement already satisfied: grpcio<2.0,>=1.24.3 in /usr/local/lib/python3.9/dist-packages (from tensorflow>=2.0->keras-tuner) (1.53.0)\n",
            "Requirement already satisfied: urllib3<1.27,>=1.21.1 in /usr/local/lib/python3.9/dist-packages (from requests->keras-tuner) (1.26.15)\n",
            "Requirement already satisfied: certifi>=2017.4.17 in /usr/local/lib/python3.9/dist-packages (from requests->keras-tuner) (2022.12.7)\n",
            "Requirement already satisfied: charset-normalizer~=2.0.0 in /usr/local/lib/python3.9/dist-packages (from requests->keras-tuner) (2.0.12)\n",
            "Requirement already satisfied: idna<4,>=2.5 in /usr/local/lib/python3.9/dist-packages (from requests->keras-tuner) (3.4)\n",
            "Requirement already satisfied: wheel<1.0,>=0.23.0 in /usr/local/lib/python3.9/dist-packages (from astunparse>=1.6.0->tensorflow>=2.0->keras-tuner) (0.40.0)\n",
            "Requirement already satisfied: scipy>=1.7 in /usr/local/lib/python3.9/dist-packages (from jax>=0.3.15->tensorflow>=2.0->keras-tuner) (1.10.1)\n",
            "Requirement already satisfied: ml-dtypes>=0.0.3 in /usr/local/lib/python3.9/dist-packages (from jax>=0.3.15->tensorflow>=2.0->keras-tuner) (0.0.4)\n",
            "Requirement already satisfied: google-auth<3,>=1.6.3 in /usr/local/lib/python3.9/dist-packages (from tensorboard<2.13,>=2.12->tensorflow>=2.0->keras-tuner) (2.17.0)\n",
            "Requirement already satisfied: google-auth-oauthlib<0.5,>=0.4.1 in /usr/local/lib/python3.9/dist-packages (from tensorboard<2.13,>=2.12->tensorflow>=2.0->keras-tuner) (0.4.6)\n",
            "Requirement already satisfied: tensorboard-plugin-wit>=1.6.0 in /usr/local/lib/python3.9/dist-packages (from tensorboard<2.13,>=2.12->tensorflow>=2.0->keras-tuner) (1.8.1)\n",
            "Requirement already satisfied: tensorboard-data-server<0.8.0,>=0.7.0 in /usr/local/lib/python3.9/dist-packages (from tensorboard<2.13,>=2.12->tensorflow>=2.0->keras-tuner) (0.7.0)\n",
            "Requirement already satisfied: markdown>=2.6.8 in /usr/local/lib/python3.9/dist-packages (from tensorboard<2.13,>=2.12->tensorflow>=2.0->keras-tuner) (3.4.3)\n",
            "Requirement already satisfied: werkzeug>=1.0.1 in /usr/local/lib/python3.9/dist-packages (from tensorboard<2.13,>=2.12->tensorflow>=2.0->keras-tuner) (2.2.3)\n",
            "Requirement already satisfied: rsa<5,>=3.1.4 in /usr/local/lib/python3.9/dist-packages (from google-auth<3,>=1.6.3->tensorboard<2.13,>=2.12->tensorflow>=2.0->keras-tuner) (4.9)\n",
            "Requirement already satisfied: pyasn1-modules>=0.2.1 in /usr/local/lib/python3.9/dist-packages (from google-auth<3,>=1.6.3->tensorboard<2.13,>=2.12->tensorflow>=2.0->keras-tuner) (0.2.8)\n",
            "Requirement already satisfied: cachetools<6.0,>=2.0.0 in /usr/local/lib/python3.9/dist-packages (from google-auth<3,>=1.6.3->tensorboard<2.13,>=2.12->tensorflow>=2.0->keras-tuner) (5.3.0)\n",
            "Requirement already satisfied: requests-oauthlib>=0.7.0 in /usr/local/lib/python3.9/dist-packages (from google-auth-oauthlib<0.5,>=0.4.1->tensorboard<2.13,>=2.12->tensorflow>=2.0->keras-tuner) (1.3.1)\n",
            "Requirement already satisfied: importlib-metadata>=4.4 in /usr/local/lib/python3.9/dist-packages (from markdown>=2.6.8->tensorboard<2.13,>=2.12->tensorflow>=2.0->keras-tuner) (6.1.0)\n",
            "Requirement already satisfied: MarkupSafe>=2.1.1 in /usr/local/lib/python3.9/dist-packages (from werkzeug>=1.0.1->tensorboard<2.13,>=2.12->tensorflow>=2.0->keras-tuner) (2.1.2)\n",
            "Requirement already satisfied: zipp>=0.5 in /usr/local/lib/python3.9/dist-packages (from importlib-metadata>=4.4->markdown>=2.6.8->tensorboard<2.13,>=2.12->tensorflow>=2.0->keras-tuner) (3.15.0)\n",
            "Requirement already satisfied: pyasn1<0.5.0,>=0.4.6 in /usr/local/lib/python3.9/dist-packages (from pyasn1-modules>=0.2.1->google-auth<3,>=1.6.3->tensorboard<2.13,>=2.12->tensorflow>=2.0->keras-tuner) (0.4.8)\n",
            "Requirement already satisfied: oauthlib>=3.0.0 in /usr/local/lib/python3.9/dist-packages (from requests-oauthlib>=0.7.0->google-auth-oauthlib<0.5,>=0.4.1->tensorboard<2.13,>=2.12->tensorflow>=2.0->keras-tuner) (3.2.2)\n",
            "Installing collected packages: kt-legacy, keras-tuner\n",
            "Successfully installed keras-tuner-1.3.3 kt-legacy-1.0.4\n"
          ]
        }
      ]
    },
    {
      "cell_type": "code",
      "source": [
        "!pip install clean-text"
      ],
      "metadata": {
        "colab": {
          "base_uri": "https://localhost:8080/"
        },
        "id": "RIzXkbXo-Nz3",
        "outputId": "50db3623-3a72-4a13-e440-ae33dd03685d"
      },
      "execution_count": 111,
      "outputs": [
        {
          "output_type": "stream",
          "name": "stdout",
          "text": [
            "Looking in indexes: https://pypi.org/simple, https://us-python.pkg.dev/colab-wheels/public/simple/\n",
            "Collecting clean-text\n",
            "  Downloading clean_text-0.6.0-py3-none-any.whl (11 kB)\n",
            "Collecting ftfy<7.0,>=6.0\n",
            "  Downloading ftfy-6.1.1-py3-none-any.whl (53 kB)\n",
            "\u001b[2K     \u001b[90m━━━━━━━━━━━━━━━━━━━━━━━━━━━━━━━━━━━━━━━━\u001b[0m \u001b[32m53.1/53.1 KB\u001b[0m \u001b[31m4.0 MB/s\u001b[0m eta \u001b[36m0:00:00\u001b[0m\n",
            "\u001b[?25hCollecting emoji<2.0.0,>=1.0.0\n",
            "  Downloading emoji-1.7.0.tar.gz (175 kB)\n",
            "\u001b[2K     \u001b[90m━━━━━━━━━━━━━━━━━━━━━━━━━━━━━━━━━━━━━━\u001b[0m \u001b[32m175.4/175.4 KB\u001b[0m \u001b[31m20.6 MB/s\u001b[0m eta \u001b[36m0:00:00\u001b[0m\n",
            "\u001b[?25h  Preparing metadata (setup.py) ... \u001b[?25l\u001b[?25hdone\n",
            "Requirement already satisfied: wcwidth>=0.2.5 in /usr/local/lib/python3.9/dist-packages (from ftfy<7.0,>=6.0->clean-text) (0.2.6)\n",
            "Building wheels for collected packages: emoji\n",
            "  Building wheel for emoji (setup.py) ... \u001b[?25l\u001b[?25hdone\n",
            "  Created wheel for emoji: filename=emoji-1.7.0-py3-none-any.whl size=171048 sha256=4696868f365064c421f7a731d719e10d2b868cfcd1b663abf6c7d3de094ef1fc\n",
            "  Stored in directory: /root/.cache/pip/wheels/fa/7a/e9/22dd0515e1bad255e51663ee513a2fa839c95934c5fc301090\n",
            "Successfully built emoji\n",
            "Installing collected packages: emoji, ftfy, clean-text\n",
            "Successfully installed clean-text-0.6.0 emoji-1.7.0 ftfy-6.1.1\n"
          ]
        }
      ]
    },
    {
      "cell_type": "code",
      "source": [
        "#importing necessary libraries\n",
        "import pandas as pd\n",
        "import numpy as np\n",
        "import matplotlib.pyplot as plt\n",
        "import seaborn as sb\n",
        "import matplotlib.pyplot as plt\n",
        "import nltk\n",
        "nltk.download('punkt')\n",
        "\n",
        "import tensorflow as tf\n",
        "from tensorflow.keras.callbacks import EarlyStopping\n",
        "from tensorflow.keras.preprocessing.sequence import pad_sequences\n",
        "from tensorflow.keras.preprocessing.text import Tokenizer\n",
        "from tensorflow.keras.losses import BinaryCrossentropy\n",
        "from tensorflow.keras.optimizers import Adam\n",
        "from sklearn.preprocessing import LabelEncoder\n",
        "from sklearn.model_selection import train_test_split\n",
        "from tensorflow.keras import layers\n",
        "from tensorflow.keras.models import *\n",
        "from tensorflow.keras.layers import *\n",
        "from tensorflow.keras.models import Sequential\n",
        "from tensorflow.keras.layers import Dense\n",
        "from tensorflow.keras.layers import Dropout\n",
        "from tensorflow.keras.layers import Flatten\n",
        "from collections import Counter\n",
        "from keras_tuner import RandomSearch\n",
        "from keras_tuner.engine.hyperparameters import hyperparameters\n",
        "import json"
      ],
      "metadata": {
        "colab": {
          "base_uri": "https://localhost:8080/"
        },
        "id": "O9zqvqDMYZoV",
        "outputId": "b7ac01f0-5ade-4bed-c00c-db9973369f01"
      },
      "execution_count": 75,
      "outputs": [
        {
          "output_type": "stream",
          "name": "stderr",
          "text": [
            "[nltk_data] Downloading package punkt to /root/nltk_data...\n",
            "[nltk_data]   Package punkt is already up-to-date!\n"
          ]
        }
      ]
    },
    {
      "cell_type": "markdown",
      "source": [
        "## Mounting the drive"
      ],
      "metadata": {
        "id": "_IkhzQsnYySb"
      }
    },
    {
      "cell_type": "code",
      "source": [
        "from google.colab import drive\n",
        "drive.mount('/content/drive')"
      ],
      "metadata": {
        "colab": {
          "base_uri": "https://localhost:8080/"
        },
        "id": "iJxZTjlEY0a3",
        "outputId": "9841232e-2f3a-4c2f-9394-2b9a68576e99"
      },
      "execution_count": 3,
      "outputs": [
        {
          "output_type": "stream",
          "name": "stdout",
          "text": [
            "Mounted at /content/drive\n"
          ]
        }
      ]
    },
    {
      "cell_type": "markdown",
      "source": [
        "## Loading the Data"
      ],
      "metadata": {
        "id": "-x5wcsQ3YsZ0"
      }
    },
    {
      "cell_type": "code",
      "source": [
        "#Loading the Dataset\n",
        "dataset = pd.read_csv('/content/drive/MyDrive/CZ4034/balanced_data.csv')\n",
        "dataset.drop('Unnamed: 0', axis=1, inplace=True)\n",
        "\n",
        "# # of rows = 5000, # of cols = 2\n",
        "print(dataset.shape)"
      ],
      "metadata": {
        "colab": {
          "base_uri": "https://localhost:8080/"
        },
        "id": "fIs4O7o9YlyG",
        "outputId": "056a1c27-27ef-4c38-f84b-525f0a044645"
      },
      "execution_count": 4,
      "outputs": [
        {
          "output_type": "stream",
          "name": "stdout",
          "text": [
            "(1960, 2)\n"
          ]
        }
      ]
    },
    {
      "cell_type": "code",
      "source": [
        "#Exploring the Dataset\n",
        "print(dataset['flair_labels'].value_counts())"
      ],
      "metadata": {
        "colab": {
          "base_uri": "https://localhost:8080/"
        },
        "id": "Mabw_j8VY79A",
        "outputId": "e555d241-6e32-4925-afe6-75cee3633692"
      },
      "execution_count": 5,
      "outputs": [
        {
          "output_type": "stream",
          "name": "stdout",
          "text": [
            "1    980\n",
            "0    980\n",
            "Name: flair_labels, dtype: int64\n"
          ]
        }
      ]
    },
    {
      "cell_type": "code",
      "source": [
        "#Count all the unique words - input to fxn: column [series]\n",
        "prev_list = []\n",
        "\n",
        "for review in dataset.Review:\n",
        "    string_list = review.split(' ')\n",
        "    string_list += prev_list\n",
        "    prev_list = string_list\n",
        "\n",
        "counter = Counter(string_list)\n",
        "\n",
        "#Getting the number of unique words\n",
        "num_unique_words = len(counter)\n",
        "\n",
        "#Getting the top 10 most commonly used words\n",
        "most_common = counter.most_common(10)\n",
        "\n",
        "most_common"
      ],
      "metadata": {
        "colab": {
          "base_uri": "https://localhost:8080/"
        },
        "id": "CcYZwoFCY9SN",
        "outputId": "25bf61c3-e600-410e-bd44-96527bdfb029"
      },
      "execution_count": 6,
      "outputs": [
        {
          "output_type": "execute_result",
          "data": {
            "text/plain": [
              "[('skin', 1908),\n",
              " ('product', 728),\n",
              " ('like', 588),\n",
              " ('using', 489),\n",
              " ('use', 485),\n",
              " ('really', 471),\n",
              " ('face', 463),\n",
              " ('love', 449),\n",
              " ('ive', 316),\n",
              " ('dry', 313)]"
            ]
          },
          "metadata": {},
          "execution_count": 6
        }
      ]
    },
    {
      "cell_type": "code",
      "source": [
        "#Splitting into trianing and validation splits\n",
        "x_train, x_val, y_train, y_val = train_test_split(dataset['Review'], dataset['flair_labels'], test_size=0.2, random_state=42)\n",
        "x_val, x_test, y_val, y_test = train_test_split(x_val, y_val, test_size=0.5, random_state=42)\n",
        "\n",
        "print(f\"Train: {len(x_train)}\")\n",
        "print(f\"Val: {len(x_val)}\")\n",
        "print(f\"Test: {len(x_test)}\")\n",
        "# Train - 1568 , Test - 392"
      ],
      "metadata": {
        "colab": {
          "base_uri": "https://localhost:8080/"
        },
        "id": "VT32ChBHY_8L",
        "outputId": "c2952785-8680-40ab-e55b-04602a230e76"
      },
      "execution_count": 7,
      "outputs": [
        {
          "output_type": "stream",
          "name": "stdout",
          "text": [
            "Train: 1568\n",
            "Val: 196\n",
            "Test: 196\n"
          ]
        }
      ]
    },
    {
      "cell_type": "code",
      "source": [
        "#Convert from Series into Numpy Array\n",
        "train_sentences = x_train.to_numpy()\n",
        "train_labels = y_train.to_numpy()\n",
        "\n",
        "val_sentences = x_val.to_numpy()\n",
        "val_labels = y_val.to_numpy()\n",
        "\n",
        "test_sentences = x_test.to_numpy()\n",
        "test_labels = y_test.to_numpy()"
      ],
      "metadata": {
        "id": "iJOvGWZQrYAY"
      },
      "execution_count": 8,
      "outputs": []
    },
    {
      "cell_type": "code",
      "source": [
        "#Tokenization - vectorise a text corpus by converting text into a sequence of integers\n",
        "#this also generates a word index\n",
        "tokenizer = Tokenizer(num_words=num_unique_words)\n",
        "tokenizer.fit_on_texts(train_sentences)\n",
        "\n",
        "word_index = tokenizer.word_index\n",
        "\n",
        "#writing the word index into a text file\n",
        "\n",
        "with open(\"/content/drive/MyDrive/CZ4034/balanced_data_word_idx.txt\", 'w') as f:\n",
        "    f.write(json.dumps(word_index))"
      ],
      "metadata": {
        "id": "KS0XXYEArX-m"
      },
      "execution_count": 9,
      "outputs": []
    },
    {
      "cell_type": "code",
      "source": [
        "#Converting the text into sequences\n",
        "train_sequences = tokenizer.texts_to_sequences(train_sentences)\n",
        "val_sequences = tokenizer.texts_to_sequences(val_sentences)\n",
        "test_sequences = tokenizer.texts_to_sequences(test_sentences)\n",
        "\n",
        "#Getting the longest review\n",
        "MAX_LEN = len(max(train_sequences))\n",
        "\n",
        "#Padding the Sequences\n",
        "train_padded = pad_sequences(train_sequences, maxlen=MAX_LEN, padding='post', truncating='post')\n",
        "val_padded = pad_sequences(val_sequences, maxlen=MAX_LEN, padding='post', truncating='post')\n",
        "test_padded = pad_sequences(test_sequences, maxlen=MAX_LEN, padding='post', truncating='post')"
      ],
      "metadata": {
        "id": "LkEKeiGwrX8e"
      },
      "execution_count": 10,
      "outputs": []
    },
    {
      "cell_type": "code",
      "source": [
        "print('Train:',train_padded.shape)\n",
        "print('Val:',val_padded.shape)\n",
        "print('Test:',test_padded.shape)\n",
        "\"\"\"\n",
        "NOTE: \n",
        "  • Train Padded Shape: (1568, 22)\n",
        "  • Valid Padded Shape: (196, 22)\n",
        "  • Test Padded Shape: (392, 22)\n",
        "\"\"\""
      ],
      "metadata": {
        "colab": {
          "base_uri": "https://localhost:8080/",
          "height": 89
        },
        "id": "mMOrigW7rX6Y",
        "outputId": "97105a1a-1500-48d0-fb12-fd2aeed7ee48"
      },
      "execution_count": 11,
      "outputs": [
        {
          "output_type": "stream",
          "name": "stdout",
          "text": [
            "Train: (1568, 22)\n",
            "Val: (196, 22)\n",
            "Test: (196, 22)\n"
          ]
        },
        {
          "output_type": "execute_result",
          "data": {
            "text/plain": [
              "'\\nNOTE: \\n  • Train Padded Shape: (1568, 22)\\n  • Valid Padded Shape: (196, 22)\\n  • Test Padded Shape: (392, 22)\\n'"
            ],
            "application/vnd.google.colaboratory.intrinsic+json": {
              "type": "string"
            }
          },
          "metadata": {},
          "execution_count": 11
        }
      ]
    },
    {
      "cell_type": "code",
      "source": [
        "le = LabelEncoder()\n",
        "train_labels = le.fit_transform(train_labels)\n",
        "val_labels = le.fit_transform(val_labels)\n",
        "test_labels = le.fit_transform(test_labels)"
      ],
      "metadata": {
        "id": "CKZRsbh6rX4S"
      },
      "execution_count": 12,
      "outputs": []
    },
    {
      "cell_type": "code",
      "source": [
        "print(f\"Training\")\n",
        "print(f\"0: {list(train_labels).count(0)}\")\n",
        "print(f\"1: {list(train_labels).count(1)}\\n\")\n",
        "\n",
        "print(\"Val\")\n",
        "print(f\"0: {list(val_labels).count(0)}\")\n",
        "print(f\"1: {list(val_labels).count(1)}\\n\")\n",
        "\n",
        "print(\"Test\")\n",
        "print(f\"0: {list(test_labels).count(0)}\")\n",
        "print(f\"1: {list(test_labels).count(1)}\\n\")"
      ],
      "metadata": {
        "colab": {
          "base_uri": "https://localhost:8080/"
        },
        "id": "bgs4VGmurX2N",
        "outputId": "dc1939fd-044c-4329-b4f5-79f310d215ea"
      },
      "execution_count": 13,
      "outputs": [
        {
          "output_type": "stream",
          "name": "stdout",
          "text": [
            "Training\n",
            "0: 792\n",
            "1: 776\n",
            "\n",
            "Val\n",
            "0: 96\n",
            "1: 100\n",
            "\n",
            "Test\n",
            "0: 92\n",
            "1: 104\n",
            "\n"
          ]
        }
      ]
    },
    {
      "cell_type": "markdown",
      "source": [
        "## Loading the Model"
      ],
      "metadata": {
        "id": "uD4NDgC1ZS1v"
      }
    },
    {
      "cell_type": "code",
      "source": [
        "loaded_model = tf.keras.models.load_model('/content/drive/MyDrive/CZ4034/CNN_LSTM/model.hdf5')\n",
        "loaded_model"
      ],
      "metadata": {
        "colab": {
          "base_uri": "https://localhost:8080/"
        },
        "id": "yWBzB7jmZPf5",
        "outputId": "03e747b8-b686-4c21-f268-e2808af63632"
      },
      "execution_count": 14,
      "outputs": [
        {
          "output_type": "execute_result",
          "data": {
            "text/plain": [
              "<keras.engine.sequential.Sequential at 0x7f5eb10a2b50>"
            ]
          },
          "metadata": {},
          "execution_count": 14
        }
      ]
    },
    {
      "cell_type": "code",
      "source": [
        "def build_model(hp):\n",
        "  model = Sequential([\n",
        "      Embedding(num_unique_words, \n",
        "                output_dim=hp.Int('num_embedding_neurons', min_value=50, max_value=200, step=50), \n",
        "                input_length=MAX_LEN, \n",
        "                trainable=True),\n",
        "      Conv1D(filters=hp.Int('conv1_filter', min_value=32, max_value=128, step=16), \n",
        "           kernel_size=hp.Choice('conv1_kernel_size', values=[3,5]),\n",
        "           padding='same', \n",
        "           activation='relu'),\n",
        "      MaxPooling1D(pool_size=2),\n",
        "      LSTM(hp.Int('num_LSTM_nodes',min_value=50, max_value=300, step=50)),\n",
        "      Dense(1, activation='sigmoid')])\n",
        "\n",
        "  model.compile(loss='binary_crossentropy', optimizer=Adam(hp.Choice('lr', values=[1e-2, 1e-3])), metrics=['accuracy'])\n",
        "\n",
        "  return model"
      ],
      "metadata": {
        "id": "SP_rq8U1Z-A3"
      },
      "execution_count": 85,
      "outputs": []
    },
    {
      "cell_type": "code",
      "source": [
        "random_search = RandomSearch(build_model, objective='val_accuracy', max_trials=10, directory='/content/drive/MyDrive/CZ4034/RandomSearch_CNNLSTM', project_name='CNN_LSTM')"
      ],
      "metadata": {
        "id": "NEDFHyQimpoo"
      },
      "execution_count": 86,
      "outputs": []
    },
    {
      "cell_type": "code",
      "source": [
        "#Getting a full summary\n",
        "random_search.search_space_summary()"
      ],
      "metadata": {
        "colab": {
          "base_uri": "https://localhost:8080/"
        },
        "id": "MsZ39sz9stiI",
        "outputId": "769b0a3b-1888-46f9-d607-f6fdedefc48a"
      },
      "execution_count": 87,
      "outputs": [
        {
          "output_type": "stream",
          "name": "stdout",
          "text": [
            "Search space summary\n",
            "Default search space size: 5\n",
            "num_embedding_neurons (Int)\n",
            "{'default': None, 'conditions': [], 'min_value': 50, 'max_value': 200, 'step': 50, 'sampling': 'linear'}\n",
            "conv1_filter (Int)\n",
            "{'default': None, 'conditions': [], 'min_value': 32, 'max_value': 128, 'step': 16, 'sampling': 'linear'}\n",
            "conv1_kernel_size (Choice)\n",
            "{'default': 3, 'conditions': [], 'values': [3, 5], 'ordered': True}\n",
            "num_LSTM_nodes (Int)\n",
            "{'default': None, 'conditions': [], 'min_value': 50, 'max_value': 300, 'step': 50, 'sampling': 'linear'}\n",
            "lr (Choice)\n",
            "{'default': 0.01, 'conditions': [], 'values': [0.01, 0.001], 'ordered': True}\n"
          ]
        }
      ]
    },
    {
      "cell_type": "code",
      "source": [
        "#runs the whole random search to get best hyperparamters\n",
        "random_search.search(train_padded, train_labels, epochs=10, validation_data=(val_padded, val_labels))"
      ],
      "metadata": {
        "colab": {
          "base_uri": "https://localhost:8080/"
        },
        "id": "6OjnnaSZrPwr",
        "outputId": "d1f05274-90dc-4294-aee8-e14f8610b346"
      },
      "execution_count": 88,
      "outputs": [
        {
          "output_type": "stream",
          "name": "stdout",
          "text": [
            "Trial 10 Complete [00h 00m 43s]\n",
            "val_accuracy: 0.7704081535339355\n",
            "\n",
            "Best val_accuracy So Far: 0.7908163070678711\n",
            "Total elapsed time: 00h 05m 41s\n"
          ]
        }
      ]
    },
    {
      "cell_type": "code",
      "source": [
        "best_hyp = random_search.get_best_hyperparameters()[0]\n",
        "optimized_model = random_search.hypermodel.build(best_hyp)\n",
        "optimized_model.summary()"
      ],
      "metadata": {
        "colab": {
          "base_uri": "https://localhost:8080/"
        },
        "id": "s7L6EhXz13S4",
        "outputId": "694c2f56-287b-47d4-bf00-817a90d69f3a"
      },
      "execution_count": 91,
      "outputs": [
        {
          "output_type": "stream",
          "name": "stdout",
          "text": [
            "Model: \"sequential_2\"\n",
            "_________________________________________________________________\n",
            " Layer (type)                Output Shape              Param #   \n",
            "=================================================================\n",
            " embedding_2 (Embedding)     (None, 22, 200)           943400    \n",
            "                                                                 \n",
            " conv1d_2 (Conv1D)           (None, 22, 80)            48080     \n",
            "                                                                 \n",
            " max_pooling1d_2 (MaxPooling  (None, 11, 80)           0         \n",
            " 1D)                                                             \n",
            "                                                                 \n",
            " lstm_2 (LSTM)               (None, 250)               331000    \n",
            "                                                                 \n",
            " dense_2 (Dense)             (None, 1)                 251       \n",
            "                                                                 \n",
            "=================================================================\n",
            "Total params: 1,322,731\n",
            "Trainable params: 1,322,731\n",
            "Non-trainable params: 0\n",
            "_________________________________________________________________\n"
          ]
        }
      ]
    },
    {
      "cell_type": "code",
      "source": [
        "trial02 = '{\"trial_id\": \"02\", \"hyperparameters\": {\"space\": [{\"class_name\": \"Int\", \"config\": {\"name\": \"num_embedding_neurons\", \"default\": null, \"conditions\": [], \"min_value\": 50, \"max_value\": 200, \"step\": 50, \"sampling\": \"linear\"}}, {\"class_name\": \"Int\", \"config\": {\"name\": \"conv1_filter\", \"default\": null, \"conditions\": [], \"min_value\": 32, \"max_value\": 128, \"step\": 16, \"sampling\": \"linear\"}}, {\"class_name\": \"Choice\", \"config\": {\"name\": \"conv1_kernel_size\", \"default\": 3, \"conditions\": [], \"values\": [3, 5], \"ordered\": true}}, {\"class_name\": \"Int\", \"config\": {\"name\": \"num_LSTM_nodes\", \"default\": null, \"conditions\": [], \"min_value\": 50, \"max_value\": 300, \"step\": 50, \"sampling\": \"linear\"}}, {\"class_name\": \"Choice\", \"config\": {\"name\": \"lr\", \"default\": 0.01, \"conditions\": [], \"values\": [0.01, 0.001], \"ordered\": true}}], \"values\": {\"num_embedding_neurons\": 200, \"conv1_filter\": 80, \"conv1_kernel_size\": 3, \"num_LSTM_nodes\": 250, \"lr\": 0.001}}, \"metrics\": {\"metrics\": {\"loss\": {\"direction\": \"min\", \"observations\": [{\"value\": [0.007286782842129469], \"step\": 5}]}, \"accuracy\": {\"direction\": \"max\", \"observations\": [{\"value\": [0.9974489808082581], \"step\": 5}]}, \"val_loss\": {\"direction\": \"min\", \"observations\": [{\"value\": [1.1164275407791138], \"step\": 5}]}, \"val_accuracy\": {\"direction\": \"max\", \"observations\": [{\"value\": [0.7908163070678711], \"step\": 5}]}}}, \"score\": 0.7908163070678711, \"best_step\": 5, \"status\": \"COMPLETED\", \"message\": null}'"
      ],
      "metadata": {
        "id": "gb8VJk5e64MQ"
      },
      "execution_count": 103,
      "outputs": []
    },
    {
      "cell_type": "markdown",
      "source": [
        "Optimized Model - trial02 in the current CNN_LSTM folder:\n",
        "\n",
        "1. num_embedding_neurons = 200\n",
        "2. conv1_filter = 80\n",
        "3. conv1_kernel_size = 3\n",
        "4. num_LSTM_nodes = 250\n",
        "5. lr = 0.001"
      ],
      "metadata": {
        "id": "wvXVTx4U7axg"
      }
    },
    {
      "cell_type": "markdown",
      "source": [
        "## Retraining Optimized Model on the Training Dataset"
      ],
      "metadata": {
        "id": "SmlEJeJ3y1_M"
      }
    },
    {
      "cell_type": "code",
      "source": [
        "history_opt = optimized_model.fit(train_padded, train_labels, epochs=10, validation_data=(val_padded, val_labels))"
      ],
      "metadata": {
        "colab": {
          "base_uri": "https://localhost:8080/"
        },
        "id": "KmjbKBFMwsbo",
        "outputId": "2e255b6c-2561-48ce-d7ea-88fa5c38e0a1"
      },
      "execution_count": 93,
      "outputs": [
        {
          "output_type": "stream",
          "name": "stdout",
          "text": [
            "Epoch 1/10\n",
            "49/49 [==============================] - 12s 157ms/step - loss: 0.6543 - accuracy: 0.5963 - val_loss: 0.5692 - val_accuracy: 0.7143\n",
            "Epoch 2/10\n",
            "49/49 [==============================] - 4s 71ms/step - loss: 0.3497 - accuracy: 0.8552 - val_loss: 0.5097 - val_accuracy: 0.7602\n",
            "Epoch 3/10\n",
            "49/49 [==============================] - 3s 50ms/step - loss: 0.1275 - accuracy: 0.9598 - val_loss: 0.6564 - val_accuracy: 0.8010\n",
            "Epoch 4/10\n",
            "49/49 [==============================] - 1s 30ms/step - loss: 0.0420 - accuracy: 0.9872 - val_loss: 0.7065 - val_accuracy: 0.7602\n",
            "Epoch 5/10\n",
            "49/49 [==============================] - 1s 15ms/step - loss: 0.0234 - accuracy: 0.9917 - val_loss: 1.1398 - val_accuracy: 0.7602\n",
            "Epoch 6/10\n",
            "49/49 [==============================] - 1s 18ms/step - loss: 0.0080 - accuracy: 0.9981 - val_loss: 1.1099 - val_accuracy: 0.7653\n",
            "Epoch 7/10\n",
            "49/49 [==============================] - 1s 21ms/step - loss: 0.0012 - accuracy: 1.0000 - val_loss: 1.5096 - val_accuracy: 0.7602\n",
            "Epoch 8/10\n",
            "49/49 [==============================] - 1s 21ms/step - loss: 1.5568e-04 - accuracy: 1.0000 - val_loss: 1.6177 - val_accuracy: 0.7755\n",
            "Epoch 9/10\n",
            "49/49 [==============================] - 0s 9ms/step - loss: 7.8826e-05 - accuracy: 1.0000 - val_loss: 1.6887 - val_accuracy: 0.7755\n",
            "Epoch 10/10\n",
            "49/49 [==============================] - 0s 9ms/step - loss: 4.5853e-05 - accuracy: 1.0000 - val_loss: 1.7261 - val_accuracy: 0.7755\n"
          ]
        }
      ]
    },
    {
      "cell_type": "code",
      "source": [
        "with open('/content/drive/MyDrive/CZ4034/RandomSearch_CNNLSTM/optimized_hist_cnn_lstm.txt', 'w') as convert_file:\n",
        "     convert_file.write(json.dumps(history_opt.history))"
      ],
      "metadata": {
        "id": "OP8B0AXMzGWq"
      },
      "execution_count": 94,
      "outputs": []
    },
    {
      "cell_type": "code",
      "source": [
        "random_search.get_best_hyperparameters"
      ],
      "metadata": {
        "colab": {
          "base_uri": "https://localhost:8080/"
        },
        "id": "b8p33X9O05E2",
        "outputId": "9a453be8-a1ae-49e9-dd54-98493d3197b6"
      },
      "execution_count": 95,
      "outputs": [
        {
          "output_type": "execute_result",
          "data": {
            "text/plain": [
              "<bound method BaseTuner.get_best_hyperparameters of <keras_tuner.tuners.randomsearch.RandomSearch object at 0x7f5d930d4e20>>"
            ]
          },
          "metadata": {},
          "execution_count": 95
        }
      ]
    },
    {
      "cell_type": "markdown",
      "source": [
        "## Plotting Loss and Accuracy Curves"
      ],
      "metadata": {
        "id": "QcAD4on4z68u"
      }
    },
    {
      "cell_type": "code",
      "source": [
        "#PLOTTING THE CURVES\n",
        "epochs = range(1,11)\n",
        "\n",
        "#Plotting the Accuracy Curves\n",
        "train_accuracy = history_opt.history['accuracy']\n",
        "val_accuracy = history_opt.history['val_accuracy']\n",
        "\n",
        "plt.plot(epochs,train_accuracy, 'b', label='Training Accuracy')\n",
        "plt.plot(epochs,val_accuracy, 'r', label='Validation Accuracy')\n",
        "plt.title('Accuracy Curves for Optimized CNN+LSTM')\n",
        "plt.legend()\n",
        "plt.figure()\n",
        "plt.savefig('/content/drive/MyDrive/CZ4034/RandomSearch_CNNLSTM/cnnlstm_opt_try1_Accuracy.jpg')"
      ],
      "metadata": {
        "colab": {
          "base_uri": "https://localhost:8080/",
          "height": 470
        },
        "id": "SvTSwSFmz2uS",
        "outputId": "6b89dca1-dacb-4fbd-94bf-06acce4df388"
      },
      "execution_count": 96,
      "outputs": [
        {
          "output_type": "display_data",
          "data": {
            "text/plain": [
              "<Figure size 640x480 with 1 Axes>"
            ],
            "image/png": "[encoded data removed]"
          },
          "metadata": {}
        },
        {
          "output_type": "display_data",
          "data": {
            "text/plain": [
              "<Figure size 640x480 with 0 Axes>"
            ]
          },
          "metadata": {}
        }
      ]
    },
    {
      "cell_type": "code",
      "source": [
        "#Plotting the Loss Curves\n",
        "train_loss = history_opt.history['loss']\n",
        "val_loss = history_opt.history['val_loss']\n",
        "\n",
        "plt.plot(epochs,train_loss, 'b', label='Training Loss')\n",
        "plt.plot(epochs,val_loss, 'r', label='Validation Loss')\n",
        "plt.title('Loss Curves for Optimized CNN+LSTM')\n",
        "plt.legend()\n",
        "plt.show()\n",
        "plt.savefig('/content/drive/MyDrive/CZ4034/RandomSearch_CNNLSTM/cnnlstm_opt_try1_Loss.jpg')"
      ],
      "metadata": {
        "colab": {
          "base_uri": "https://localhost:8080/",
          "height": 470
        },
        "id": "_n-n-ncY0MSj",
        "outputId": "c998949c-db58-42fc-8ab0-3eaef7be82a9"
      },
      "execution_count": 97,
      "outputs": [
        {
          "output_type": "display_data",
          "data": {
            "text/plain": [
              "<Figure size 640x480 with 1 Axes>"
            ],
            "image/png": "[encoded data removed]"
          },
          "metadata": {}
        },
        {
          "output_type": "display_data",
          "data": {
            "text/plain": [
              "<Figure size 640x480 with 0 Axes>"
            ]
          },
          "metadata": {}
        }
      ]
    },
    {
      "cell_type": "markdown",
      "source": [
        "## Evaluating the Optimized model"
      ],
      "metadata": {
        "id": "wpON9lTn0gEB"
      }
    },
    {
      "cell_type": "code",
      "source": [
        "prev_model_scores = loaded_model.evaluate(test_padded, test_labels, verbose=1,batch_size = 64)\n",
        "print(\"Accuracy: %.2f%%\" % (prev_model_scores[1]*100))"
      ],
      "metadata": {
        "colab": {
          "base_uri": "https://localhost:8080/"
        },
        "id": "FQIPAxGa0bvI",
        "outputId": "ce1cebda-37e2-4c4b-d063-9f81647f5911"
      },
      "execution_count": 98,
      "outputs": [
        {
          "output_type": "stream",
          "name": "stdout",
          "text": [
            "4/4 [==============================] - 0s 5ms/step - loss: 0.9772 - accuracy: 0.7551\n",
            "Accuracy: 75.51%\n"
          ]
        }
      ]
    },
    {
      "cell_type": "code",
      "source": [
        "optimized_model_scores = optimized_model.evaluate(test_padded, test_labels, verbose=1, batch_size=64)\n",
        "print(\"Accuracy: %.2f%%\" % (optimized_model_scores[1]*100))"
      ],
      "metadata": {
        "colab": {
          "base_uri": "https://localhost:8080/"
        },
        "id": "TOQY_3Xz3DH7",
        "outputId": "0f44435e-05f8-41c7-cca6-65c0c002532d"
      },
      "execution_count": 99,
      "outputs": [
        {
          "output_type": "stream",
          "name": "stdout",
          "text": [
            "4/4 [==============================] - 0s 8ms/step - loss: 1.9022 - accuracy: 0.7755\n",
            "Accuracy: 77.55%\n"
          ]
        }
      ]
    },
    {
      "cell_type": "code",
      "source": [
        "optimized_model.save('/content/drive/MyDrive/CZ4034/RandomSearch_CNNLSTM/optimized_model.hdf5')"
      ],
      "metadata": {
        "id": "P3s3dRvR3RZx"
      },
      "execution_count": 100,
      "outputs": []
    },
    {
      "cell_type": "markdown",
      "source": [
        "### Getting Components of the Confusion Matrix"
      ],
      "metadata": {
        "id": "70S5NwVA9XnG"
      }
    },
    {
      "cell_type": "markdown",
      "source": [
        "#### Previous Model"
      ],
      "metadata": {
        "id": "jVwL5c1L9dhf"
      }
    },
    {
      "cell_type": "code",
      "source": [
        "prev_predictions = loaded_model.predict(test_padded)\n",
        "prev_predictions = [1 if p > 0.5 else 0 for p in prev_predictions]"
      ],
      "metadata": {
        "colab": {
          "base_uri": "https://localhost:8080/"
        },
        "id": "P82CGZZ09RoT",
        "outputId": "30aa6da3-1977-4ef2-e4f8-b3060128e014"
      },
      "execution_count": 104,
      "outputs": [
        {
          "output_type": "stream",
          "name": "stdout",
          "text": [
            "7/7 [==============================] - 0s 3ms/step\n"
          ]
        }
      ]
    },
    {
      "cell_type": "code",
      "source": [
        "from sklearn.metrics import confusion_matrix\n",
        "\n",
        "prev_conf_matrix = confusion_matrix(test_labels, prev_predictions)\n",
        "p_tn, p_fp, p_fn, p_tp = prev_conf_matrix.ravel()\n",
        "\n",
        "print(\"Previous Model:\")\n",
        "\n",
        "print(f\"True Positives: {p_tp}\")\n",
        "print(f\"True Negatives: {p_tn}\")\n",
        "print(f\"False Positives: {p_fp}\")\n",
        "print(f\"False Negatives: {p_fn}\")"
      ],
      "metadata": {
        "colab": {
          "base_uri": "https://localhost:8080/"
        },
        "id": "MQYgINwP9rD7",
        "outputId": "0399f4af-5085-4912-e665-4079f1ec0d05"
      },
      "execution_count": 109,
      "outputs": [
        {
          "output_type": "stream",
          "name": "stdout",
          "text": [
            "Previous Model:\n",
            "True Positives: 83\n",
            "True Negatives: 65\n",
            "False Positives: 27\n",
            "False Negatives: 21\n"
          ]
        }
      ]
    },
    {
      "cell_type": "markdown",
      "source": [
        "#### Optimized Model"
      ],
      "metadata": {
        "id": "r1iBvJw89fva"
      }
    },
    {
      "cell_type": "code",
      "source": [
        "optimized_predictions = optimized_model.predict(test_padded)\n",
        "optimized_predictions = [1 if p > 0.5 else 0 for p in optimized_predictions]"
      ],
      "metadata": {
        "colab": {
          "base_uri": "https://localhost:8080/"
        },
        "id": "F3CZ0Wv89hS4",
        "outputId": "bfa8f7dc-9e3e-42cc-8790-7e9098d1c882"
      },
      "execution_count": 105,
      "outputs": [
        {
          "output_type": "stream",
          "name": "stdout",
          "text": [
            "7/7 [==============================] - 0s 3ms/step\n"
          ]
        }
      ]
    },
    {
      "cell_type": "code",
      "source": [
        "from sklearn.metrics import confusion_matrix\n",
        "\n",
        "opt_conf_matrix = confusion_matrix(test_labels, optimized_predictions)\n",
        "o_tn, o_fp, o_fn, o_tp = opt_conf_matrix.ravel()\n",
        "\n",
        "print(\"Optimized Model:\")\n",
        "\n",
        "print(f\"True Positives: {o_tp}\")\n",
        "print(f\"True Negatives: {o_tn}\")\n",
        "print(f\"False Positives: {o_fp}\")\n",
        "print(f\"False Negatives: {o_fn}\")"
      ],
      "metadata": {
        "colab": {
          "base_uri": "https://localhost:8080/"
        },
        "id": "bQc1BGIO95Rk",
        "outputId": "362e4d5d-75f0-4436-dbc2-150c1f298777"
      },
      "execution_count": 110,
      "outputs": [
        {
          "output_type": "stream",
          "name": "stdout",
          "text": [
            "Optimized Model:\n",
            "True Positives: 82\n",
            "True Negatives: 70\n",
            "False Positives: 22\n",
            "False Negatives: 22\n"
          ]
        }
      ]
    },
    {
      "cell_type": "markdown",
      "source": [
        "## Testing on Individual Texts"
      ],
      "metadata": {
        "id": "UYdTXcyE9HBH"
      }
    },
    {
      "cell_type": "code",
      "source": [
        "#Function to process the test sample in the same way as the data processing of training\n",
        "import numpy as np\n",
        "from cleantext import clean\n",
        "\n",
        "#takes in a string(text) and returns a padded sequence \n",
        "def process_eval_sample(text):\n",
        "  text = clean(text, no_emoji=True, no_punct=True, lower=True)\n",
        "  text = text.split(\" \")\n",
        "  sentence = np.array(text)\n",
        "  sequence = tokenizer.texts_to_sequences(sentence)\n",
        "  padded_sequence = pad_sequences(sequence, maxlen=MAX_LEN, padding='post', truncating='post')\n",
        "\n",
        "  return padded_sequence\n",
        "\n",
        "#takes in a padded sequence and returns an integer (0 or 1) for the label\n",
        "def pred_prev_model(padded_seq):\n",
        "  predictions = loaded_model.predict(padded_seq)[0]\n",
        "  print(f\"Predicted Value: {predictions}\")\n",
        "  pred_values = [1 if p>=0.5 else 0 for p in predictions]\n",
        "  pred_label = max(pred_values)\n",
        "\n",
        "  return pred_label\n",
        "\n",
        "def pred_optimized_model(padded_seq):\n",
        "  predictions = optimized_model.predict(padded_seq)[0]\n",
        "  print(f\"Predicted Value: {predictions}\")\n",
        "  pred_values = [1 if p>=0.5 else 0 for p in predictions]\n",
        "  pred_label = max(pred_values)\n",
        "\n",
        "  return pred_label"
      ],
      "metadata": {
        "id": "tQFgGtE49JQl"
      },
      "execution_count": 115,
      "outputs": []
    },
    {
      "cell_type": "markdown",
      "source": [
        "### Previous Model"
      ],
      "metadata": {
        "id": "9lOxyrfO-Zp8"
      }
    },
    {
      "cell_type": "code",
      "source": [
        "eval1_text = \"cured my acne scars. Worked miraculously\"\n",
        "gt1_label = '1'\n",
        "\n",
        "eval1 = process_eval_sample(eval1_text)\n",
        "eval1_label = pred_prev_model(eval1)\n",
        "\n",
        "print(f\"Eval Sample 1: {eval1_text}\")\n",
        "print(f\"Ground Truth Label: {gt1_label}\")\n",
        "print(f\"Predicted Label: {eval1_label}\")"
      ],
      "metadata": {
        "colab": {
          "base_uri": "https://localhost:8080/"
        },
        "id": "Un7QEBLG-9DF",
        "outputId": "e370f415-02f8-4562-a38c-f7752d3d0c11"
      },
      "execution_count": 119,
      "outputs": [
        {
          "output_type": "stream",
          "name": "stdout",
          "text": [
            "1/1 [==============================] - 0s 263ms/step\n",
            "Predicted Value: [0.33626953]\n",
            "Eval Sample 1: cured my acne scars. Worked miraculously\n",
            "Ground Truth Label: 1\n",
            "Predicted Label: 0\n"
          ]
        }
      ]
    },
    {
      "cell_type": "code",
      "source": [
        "eval2_text = \"I purchased this cream in hopes it would be good. It definitely hydrates my skin, but it does leave my face really shiny as if it’s oily. Not happy with this look and so I’ve ended up just using it only at night. Or, if I know I’m not venturing out anywhere, I’ll apply it on. May not purchase this again.\"\n",
        "gt2_label = '0'\n",
        "\n",
        "eval2 = process_eval_sample(eval2_text)\n",
        "eval2_label = pred_prev_model(eval2)\n",
        "\n",
        "print(f\"Predictions: {loaded_model.predict(eval2)[0]}\")\n",
        "print(f\"Eval Sample 2: {eval2_text}\")\n",
        "print(f\"Ground Truth Label: {gt2_label}\")\n",
        "print(f\"Predicted Label: {eval2_label}\")"
      ],
      "metadata": {
        "colab": {
          "base_uri": "https://localhost:8080/"
        },
        "id": "uZ4C0jM_-SPy",
        "outputId": "2811162d-74b9-416a-d42f-57b192b08b8c"
      },
      "execution_count": 117,
      "outputs": [
        {
          "output_type": "stream",
          "name": "stdout",
          "text": [
            "2/2 [==============================] - 0s 39ms/step\n",
            "Predicted Value: [0.3362695]\n",
            "2/2 [==============================] - 0s 9ms/step\n",
            "Predictions: [0.3362695]\n",
            "Eval Sample 2: I purchased this cream in hopes it would be good. It definitely hydrates my skin, but it does leave my face really shiny as if it’s oily. Not happy with this look and so I’ve ended up just using it only at night. Or, if I know I’m not venturing out anywhere, I’ll apply it on. May not purchase this again.\n",
            "Ground Truth Label: 0\n",
            "Predicted Label: 0\n"
          ]
        }
      ]
    },
    {
      "cell_type": "code",
      "source": [
        "eval3_text = \"best product ever!\"\n",
        "gt3_label = '1'\n",
        "\n",
        "eval3 = process_eval_sample(eval3_text)\n",
        "eval3_label = pred_prev_model(eval3)\n",
        "\n",
        "print(f\"Eval Sample 3: {eval3_text}\")\n",
        "print(f\"Ground Truth Label: {gt3_label}\")\n",
        "print(f\"Predicted Label: {eval3_label}\")"
      ],
      "metadata": {
        "colab": {
          "base_uri": "https://localhost:8080/"
        },
        "id": "NwcCCLxz-dGq",
        "outputId": "f8ab6b3b-c1d5-41d0-cdd1-d9212e3f3f99"
      },
      "execution_count": 118,
      "outputs": [
        {
          "output_type": "stream",
          "name": "stdout",
          "text": [
            "1/1 [==============================] - 0s 63ms/step\n",
            "Predicted Value: [0.82507575]\n",
            "Eval Sample 3: best product ever!\n",
            "Ground Truth Label: 1\n",
            "Predicted Label: 1\n"
          ]
        }
      ]
    },
    {
      "cell_type": "markdown",
      "source": [
        "### Optimized Model"
      ],
      "metadata": {
        "id": "ZIvcUjG7_LFv"
      }
    },
    {
      "cell_type": "code",
      "source": [
        "eval1_text = \"cured my acne scars. Worked miraculously\"\n",
        "gt1_label = '1'\n",
        "\n",
        "eval1 = process_eval_sample(eval1_text)\n",
        "eval1_label = pred_optimized_model(eval1)\n",
        "\n",
        "print(f\"Eval Sample 1: {eval1_text}\")\n",
        "print(f\"Ground Truth Label: {gt1_label}\")\n",
        "print(f\"Predicted Label: {eval1_label}\")"
      ],
      "metadata": {
        "colab": {
          "base_uri": "https://localhost:8080/"
        },
        "id": "k9zailHO-7Ej",
        "outputId": "a58f356a-df86-4b80-edf5-568a75ec4e85"
      },
      "execution_count": 120,
      "outputs": [
        {
          "output_type": "stream",
          "name": "stdout",
          "text": [
            "1/1 [==============================] - 0s 38ms/step\n",
            "Predicted Value: [0.92191094]\n",
            "Eval Sample 1: cured my acne scars. Worked miraculously\n",
            "Ground Truth Label: 1\n",
            "Predicted Label: 1\n"
          ]
        }
      ]
    },
    {
      "cell_type": "code",
      "source": [
        "eval2_text = \"I purchased this cream in hopes it would be good. It definitely hydrates my skin, but it does leave my face really shiny as if it’s oily. Not happy with this look and so I’ve ended up just using it only at night. Or, if I know I’m not venturing out anywhere, I’ll apply it on. May not purchase this again.\"\n",
        "gt2_label = '0'\n",
        "\n",
        "eval2 = process_eval_sample(eval2_text)\n",
        "eval2_label = pred_optimized_model(eval2)\n",
        "\n",
        "print(f\"Predictions: {loaded_model.predict(eval2)[0]}\")\n",
        "print(f\"Eval Sample 2: {eval2_text}\")\n",
        "print(f\"Ground Truth Label: {gt2_label}\")\n",
        "print(f\"Predicted Label: {eval2_label}\")"
      ],
      "metadata": {
        "colab": {
          "base_uri": "https://localhost:8080/"
        },
        "id": "mCsIe4mO_ZiH",
        "outputId": "fbab00cb-ef84-4b89-97e9-bbb7d201395f"
      },
      "execution_count": 130,
      "outputs": [
        {
          "output_type": "stream",
          "name": "stdout",
          "text": [
            "2/2 [==============================] - 0s 13ms/step\n",
            "Predicted Value: [0.92191094]\n",
            "2/2 [==============================] - 0s 5ms/step\n",
            "Predictions: [0.3362695]\n",
            "Eval Sample 2: I purchased this cream in hopes it would be good. It definitely hydrates my skin, but it does leave my face really shiny as if it’s oily. Not happy with this look and so I’ve ended up just using it only at night. Or, if I know I’m not venturing out anywhere, I’ll apply it on. May not purchase this again.\n",
            "Ground Truth Label: 0\n",
            "Predicted Label: 1\n"
          ]
        }
      ]
    },
    {
      "cell_type": "code",
      "source": [
        "eval3_text = \"best product ever!\"\n",
        "gt3_label = '1'\n",
        "\n",
        "eval3 = process_eval_sample(eval3_text)\n",
        "eval3_label = pred_optimized_model(eval3)\n",
        "\n",
        "print(f\"Eval Sample 3: {eval3_text}\")\n",
        "print(f\"Ground Truth Label: {gt3_label}\")\n",
        "print(f\"Predicted Label: {eval3_label}\")"
      ],
      "metadata": {
        "colab": {
          "base_uri": "https://localhost:8080/"
        },
        "id": "X9DnzeMW_cyj",
        "outputId": "913534e7-da56-4100-fdc9-a5bdb6bd6183"
      },
      "execution_count": 131,
      "outputs": [
        {
          "output_type": "stream",
          "name": "stdout",
          "text": [
            "1/1 [==============================] - 0s 66ms/step\n",
            "Predicted Value: [0.99958736]\n",
            "Eval Sample 3: best product ever!\n",
            "Ground Truth Label: 1\n",
            "Predicted Label: 1\n"
          ]
        }
      ]
    }
  ]
}