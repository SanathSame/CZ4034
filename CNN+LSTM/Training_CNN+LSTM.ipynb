{
  "nbformat": 4,
  "nbformat_minor": 0,
  "metadata": {
    "colab": {
      "provenance": []
    },
    "kernelspec": {
      "name": "python3",
      "display_name": "Python 3"
    },
    "language_info": {
      "name": "python"
    }
  },
  "cells": [
    {
      "cell_type": "markdown",
      "source": [
        "# CNN + LSTM"
      ],
      "metadata": {
        "id": "BcpxGhhmpXG6"
      }
    },
    {
      "cell_type": "markdown",
      "source": [
        "## Mounting Drive"
      ],
      "metadata": {
        "id": "NKfKydvjpaob"
      }
    },
    {
      "cell_type": "code",
      "source": [
        "from google.colab import drive\n",
        "drive.mount('/content/drive')"
      ],
      "metadata": {
        "colab": {
          "base_uri": "https://localhost:8080/"
        },
        "id": "gDB4ObMbpZHm",
        "outputId": "2a5dd69c-262e-49ac-fb44-c2d3343e02d3"
      },
      "execution_count": null,
      "outputs": [
        {
          "output_type": "stream",
          "name": "stdout",
          "text": [
            "Mounted at /content/drive\n"
          ]
        }
      ]
    },
    {
      "cell_type": "markdown",
      "source": [
        "## Imports"
      ],
      "metadata": {
        "id": "zFOblGeCqTAk"
      }
    },
    {
      "cell_type": "code",
      "source": [
        "import pandas as pd\n",
        "import numpy as np\n",
        "import seaborn as sb\n",
        "import matplotlib.pyplot as plt\n",
        "import nltk\n",
        "nltk.download('punkt')\n",
        "\n",
        "import tensorflow as tf\n",
        "from tensorflow.keras.callbacks import EarlyStopping\n",
        "from tensorflow.keras.preprocessing.sequence import pad_sequences\n",
        "from tensorflow.keras.preprocessing.text import Tokenizer\n",
        "from tensorflow.keras.losses import BinaryCrossentropy\n",
        "from tensorflow.keras.optimizers import Adam\n",
        "from sklearn.preprocessing import LabelEncoder\n",
        "from sklearn.model_selection import train_test_split\n",
        "from tensorflow.keras import layers\n",
        "from tensorflow.keras.models import *\n",
        "from tensorflow.keras.layers import *\n",
        "from collections import Counter\n",
        "import json"
      ],
      "metadata": {
        "colab": {
          "base_uri": "https://localhost:8080/"
        },
        "id": "1rwQcWz7pdtm",
        "outputId": "21f0e649-0726-42f5-dd29-4bfa35636468"
      },
      "execution_count": null,
      "outputs": [
        {
          "output_type": "stream",
          "name": "stderr",
          "text": [
            "[nltk_data] Downloading package punkt to /root/nltk_data...\n",
            "[nltk_data]   Unzipping tokenizers/punkt.zip.\n"
          ]
        }
      ]
    },
    {
      "cell_type": "code",
      "source": [
        "#Loading the Dataset\n",
        "dataset = pd.read_csv('/content/drive/MyDrive/CZ4034/balanced_data.csv')\n",
        "dataset.drop('Unnamed: 0', axis=1, inplace=True)\n",
        "\n",
        "# # of rows = 5000, # of cols = 2\n",
        "print(dataset.shape)"
      ],
      "metadata": {
        "colab": {
          "base_uri": "https://localhost:8080/"
        },
        "id": "GSLEVlp1qU4n",
        "outputId": "ece8c2d8-d389-4246-cc6d-ae30c0dcac9a"
      },
      "execution_count": null,
      "outputs": [
        {
          "output_type": "stream",
          "name": "stdout",
          "text": [
            "(1960, 2)\n"
          ]
        }
      ]
    },
    {
      "cell_type": "code",
      "source": [
        "#Exploring the Dataset\n",
        "print(dataset['flair_labels'].value_counts())"
      ],
      "metadata": {
        "colab": {
          "base_uri": "https://localhost:8080/"
        },
        "id": "DlrRZ0Q6rW35",
        "outputId": "262bdda6-e134-408d-cd7f-150dd6d40a1b"
      },
      "execution_count": null,
      "outputs": [
        {
          "output_type": "stream",
          "name": "stdout",
          "text": [
            "1    980\n",
            "0    980\n",
            "Name: flair_labels, dtype: int64\n"
          ]
        }
      ]
    },
    {
      "cell_type": "code",
      "source": [
        "#Count all the unique words - input to fxn: column [series]\n",
        "prev_list = []\n",
        "\n",
        "for review in dataset.Review:\n",
        "    string_list = review.split(' ')\n",
        "    string_list += prev_list\n",
        "    prev_list = string_list\n",
        "\n",
        "counter = Counter(string_list)\n",
        "\n",
        "#Getting the number of unique words\n",
        "num_unique_words = len(counter)\n",
        "\n",
        "#Getting the top 10 most commonly used words\n",
        "most_common = counter.most_common(10)\n",
        "\n",
        "most_common"
      ],
      "metadata": {
        "colab": {
          "base_uri": "https://localhost:8080/"
        },
        "id": "Y5kted6qrY7c",
        "outputId": "b6f8aa1b-e591-4f79-eda1-b30379595407"
      },
      "execution_count": null,
      "outputs": [
        {
          "output_type": "execute_result",
          "data": {
            "text/plain": [
              "[('skin', 1908),\n",
              " ('product', 728),\n",
              " ('like', 588),\n",
              " ('using', 489),\n",
              " ('use', 485),\n",
              " ('really', 471),\n",
              " ('face', 463),\n",
              " ('love', 449),\n",
              " ('ive', 316),\n",
              " ('dry', 313)]"
            ]
          },
          "metadata": {},
          "execution_count": 5
        }
      ]
    },
    {
      "cell_type": "code",
      "source": [
        "#Splitting into trianing and validation splits\n",
        "x_train, x_val, y_train, y_val = train_test_split(dataset['Review'], dataset['flair_labels'], test_size=0.2, random_state=42)\n",
        "x_val, x_test, y_val, y_test = train_test_split(x_val, y_val, test_size=0.5, random_state=42)\n",
        "\n",
        "print(f\"Train: {len(x_train)}\")\n",
        "print(f\"Val: {len(x_val)}\")\n",
        "print(f\"Test: {len(x_test)}\")\n",
        "# Train - 1568 , Test - 392"
      ],
      "metadata": {
        "colab": {
          "base_uri": "https://localhost:8080/"
        },
        "id": "_mJSRR0Mraah",
        "outputId": "3932e17f-e349-4866-a4c9-855da36b264a"
      },
      "execution_count": null,
      "outputs": [
        {
          "output_type": "stream",
          "name": "stdout",
          "text": [
            "Train: 1568\n",
            "Val: 196\n",
            "Test: 196\n"
          ]
        }
      ]
    },
    {
      "cell_type": "code",
      "source": [
        "#Convert from Series into Numpy Array\n",
        "train_sentences = x_train.to_numpy()\n",
        "train_labels = y_train.to_numpy()\n",
        "\n",
        "val_sentences = x_val.to_numpy()\n",
        "val_labels = y_val.to_numpy()\n",
        "\n",
        "test_sentences = x_test.to_numpy()\n",
        "test_labels = y_test.to_numpy()"
      ],
      "metadata": {
        "id": "ShqR3olkrcJ3"
      },
      "execution_count": null,
      "outputs": []
    },
    {
      "cell_type": "code",
      "source": [
        "#Tokenization - vectorise a text corpus by converting text into a sequence of integers\n",
        "#this also generates a word index\n",
        "tokenizer = Tokenizer(num_words=num_unique_words)\n",
        "tokenizer.fit_on_texts(train_sentences)\n",
        "\n",
        "word_index = tokenizer.word_index\n",
        "\n",
        "#writing the word index into a text file\n",
        "\n",
        "with open(\"/content/drive/MyDrive/CZ4034/balanced_data_word_idx.txt\", 'w') as f:\n",
        "    f.write(json.dumps(word_index))"
      ],
      "metadata": {
        "id": "SiV_EpQXreEa"
      },
      "execution_count": null,
      "outputs": []
    },
    {
      "cell_type": "code",
      "source": [
        "#Converting the text into sequences\n",
        "train_sequences = tokenizer.texts_to_sequences(train_sentences)\n",
        "val_sequences = tokenizer.texts_to_sequences(val_sentences)\n",
        "test_sequences = tokenizer.texts_to_sequences(test_sentences)\n",
        "\n",
        "#Getting the longest review\n",
        "MAX_LEN = len(max(train_sequences))\n",
        "\n",
        "#Padding the Sequences\n",
        "train_padded = pad_sequences(train_sequences, maxlen=MAX_LEN, padding='post', truncating='post')\n",
        "val_padded = pad_sequences(val_sequences, maxlen=MAX_LEN, padding='post', truncating='post')\n",
        "test_padded = pad_sequences(test_sequences, maxlen=MAX_LEN, padding='post', truncating='post')"
      ],
      "metadata": {
        "id": "vYNxVAH8rfib"
      },
      "execution_count": null,
      "outputs": []
    },
    {
      "cell_type": "code",
      "source": [
        "print('Train:',train_padded.shape)\n",
        "print('Val:',val_padded.shape)\n",
        "print('Test:',test_padded.shape)\n",
        "\"\"\"\n",
        "NOTE: \n",
        "  • Train Padded Shape: (1568, 22)\n",
        "  • Valid Padded Shape: (196, 22)\n",
        "  • Test Padded Shape: (392, 22)\n",
        "\"\"\""
      ],
      "metadata": {
        "colab": {
          "base_uri": "https://localhost:8080/",
          "height": 89
        },
        "id": "PW-YTZ3_rg-y",
        "outputId": "f9c80764-6528-4e78-d84a-dc9bf03da42a"
      },
      "execution_count": null,
      "outputs": [
        {
          "output_type": "stream",
          "name": "stdout",
          "text": [
            "Train: (1568, 22)\n",
            "Val: (196, 22)\n",
            "Test: (196, 22)\n"
          ]
        },
        {
          "output_type": "execute_result",
          "data": {
            "text/plain": [
              "'\\nNOTE: \\n  • Train Padded Shape: (1568, 22)\\n  • Valid Padded Shape: (196, 22)\\n  • Test Padded Shape: (392, 22)\\n'"
            ],
            "application/vnd.google.colaboratory.intrinsic+json": {
              "type": "string"
            }
          },
          "metadata": {},
          "execution_count": 10
        }
      ]
    },
    {
      "cell_type": "code",
      "source": [
        "le = LabelEncoder()\n",
        "train_labels = le.fit_transform(train_labels)\n",
        "val_labels = le.fit_transform(val_labels)\n",
        "test_labels = le.fit_transform(test_labels)"
      ],
      "metadata": {
        "id": "Fqgka1klris8"
      },
      "execution_count": null,
      "outputs": []
    },
    {
      "cell_type": "code",
      "source": [
        "print(f\"Training\")\n",
        "print(f\"0: {list(train_labels).count(0)}\")\n",
        "print(f\"1: {list(train_labels).count(1)}\\n\")\n",
        "\n",
        "print(\"Val\")\n",
        "print(f\"0: {list(val_labels).count(0)}\")\n",
        "print(f\"1: {list(val_labels).count(1)}\\n\")\n",
        "\n",
        "print(\"Test\")\n",
        "print(f\"0: {list(test_labels).count(0)}\")\n",
        "print(f\"1: {list(test_labels).count(1)}\\n\")"
      ],
      "metadata": {
        "colab": {
          "base_uri": "https://localhost:8080/"
        },
        "id": "2iAUGBTrrnXV",
        "outputId": "2683e7e0-c5bf-497b-d380-f3385c9b0867"
      },
      "execution_count": null,
      "outputs": [
        {
          "output_type": "stream",
          "name": "stdout",
          "text": [
            "Training\n",
            "0: 792\n",
            "1: 776\n",
            "\n",
            "Val\n",
            "0: 96\n",
            "1: 100\n",
            "\n",
            "Test\n",
            "0: 92\n",
            "1: 104\n",
            "\n"
          ]
        }
      ]
    },
    {
      "cell_type": "markdown",
      "source": [
        "## Model Building"
      ],
      "metadata": {
        "id": "SzE6b37crsQX"
      }
    },
    {
      "cell_type": "code",
      "source": [
        "#Creating base model\n",
        "model = Sequential()\n",
        "\n",
        "model.add(Embedding(num_unique_words, output_dim=100, input_length=MAX_LEN, trainable=True))\n",
        "#adding the CONV layer\n",
        "model.add(Conv1D(filters=32, kernel_size=3, padding='same', activation='relu'))\n",
        "model.add(MaxPooling1D(pool_size=2))\n",
        "model.add(LSTM(100))\n",
        "model.add(Dense(1, activation='sigmoid'))\n",
        "\n",
        "model.compile(loss='binary_crossentropy', optimizer='adam', metrics=['accuracy'])\n",
        "\n",
        "model.summary()"
      ],
      "metadata": {
        "colab": {
          "base_uri": "https://localhost:8080/"
        },
        "id": "HDHmmKFYrpCI",
        "outputId": "e2c10e11-0293-476a-8e33-bbdd3a92cd6e"
      },
      "execution_count": null,
      "outputs": [
        {
          "output_type": "stream",
          "name": "stdout",
          "text": [
            "Model: \"sequential_2\"\n",
            "_________________________________________________________________\n",
            " Layer (type)                Output Shape              Param #   \n",
            "=================================================================\n",
            " embedding_2 (Embedding)     (None, 22, 100)           471700    \n",
            "                                                                 \n",
            " conv1d_2 (Conv1D)           (None, 22, 32)            9632      \n",
            "                                                                 \n",
            " max_pooling1d_2 (MaxPooling  (None, 11, 32)           0         \n",
            " 1D)                                                             \n",
            "                                                                 \n",
            " lstm_2 (LSTM)               (None, 100)               53200     \n",
            "                                                                 \n",
            " dense_2 (Dense)             (None, 1)                 101       \n",
            "                                                                 \n",
            "=================================================================\n",
            "Total params: 534,633\n",
            "Trainable params: 534,633\n",
            "Non-trainable params: 0\n",
            "_________________________________________________________________\n"
          ]
        }
      ]
    },
    {
      "cell_type": "code",
      "source": [
        "history = model.fit(train_padded, train_labels, epochs=5, batch_size=64, validation_data=(val_padded, val_labels))"
      ],
      "metadata": {
        "colab": {
          "base_uri": "https://localhost:8080/"
        },
        "id": "ttPwFeF_uNc_",
        "outputId": "f738e6a4-f40c-490c-bf31-f0071be3c8df"
      },
      "execution_count": null,
      "outputs": [
        {
          "output_type": "stream",
          "name": "stdout",
          "text": [
            "Epoch 1/5\n",
            "25/25 [==============================] - 3s 39ms/step - loss: 0.6900 - accuracy: 0.5466 - val_loss: 0.6696 - val_accuracy: 0.6582\n",
            "Epoch 2/5\n",
            "25/25 [==============================] - 1s 24ms/step - loss: 0.5125 - accuracy: 0.7481 - val_loss: 0.6082 - val_accuracy: 0.6735\n",
            "Epoch 3/5\n",
            "25/25 [==============================] - 1s 23ms/step - loss: 0.2589 - accuracy: 0.9031 - val_loss: 0.5881 - val_accuracy: 0.7602\n",
            "Epoch 4/5\n",
            "25/25 [==============================] - 1s 22ms/step - loss: 0.1028 - accuracy: 0.9636 - val_loss: 0.8122 - val_accuracy: 0.7602\n",
            "Epoch 5/5\n",
            "25/25 [==============================] - 1s 21ms/step - loss: 0.0371 - accuracy: 0.9898 - val_loss: 0.9370 - val_accuracy: 0.7347\n"
          ]
        }
      ]
    },
    {
      "cell_type": "code",
      "source": [
        "with open('/content/drive/MyDrive/CZ4034/CNN+LSTM/hist_cnn_lstm.txt', 'w') as convert_file:\n",
        "     convert_file.write(json.dumps(history.history))"
      ],
      "metadata": {
        "id": "p-qysNvfunGK"
      },
      "execution_count": null,
      "outputs": []
    },
    {
      "cell_type": "code",
      "source": [
        "#PLOTTING THE CURVES\n",
        "epochs = range(1,6)\n",
        "\n",
        "#Plotting the Accuracy Curves\n",
        "train_accuracy = history.history['accuracy']\n",
        "val_accuracy = history.history['val_accuracy']\n",
        "\n",
        "plt.plot(epochs,train_accuracy, 'b', label='Training Accuracy')\n",
        "plt.plot(epochs,val_accuracy, 'r', label='Validation Accuracy')\n",
        "plt.title('Accuracy Curves for CNN+LSTM')\n",
        "plt.legend()\n",
        "plt.figure()\n",
        "plt.savefig('/content/drive/MyDrive/CZ4034/cnnlstmtry1_Accuracy.jpg')"
      ],
      "metadata": {
        "colab": {
          "base_uri": "https://localhost:8080/",
          "height": 470
        },
        "id": "60SHI2MevapS",
        "outputId": "e2c2aea3-6a74-42c0-817d-67f8145c5749"
      },
      "execution_count": null,
      "outputs": [
        {
          "output_type": "display_data",
          "data": {
            "text/plain": [
              "<Figure size 640x480 with 1 Axes>"
            ],
            "image/png": "[encoded data removed]"
          },
          "metadata": {}
        },
        {
          "output_type": "display_data",
          "data": {
            "text/plain": [
              "<Figure size 640x480 with 0 Axes>"
            ]
          },
          "metadata": {}
        }
      ]
    },
    {
      "cell_type": "code",
      "source": [
        "#Plotting the Loss Curves\n",
        "train_loss = history.history['loss']\n",
        "val_loss = history.history['val_loss']\n",
        "\n",
        "plt.plot(epochs,train_loss, 'b', label='Training Loss')\n",
        "plt.plot(epochs,val_loss, 'r', label='Validation Loss')\n",
        "plt.title('Loss Curves for CNN+LSTM')\n",
        "plt.legend()\n",
        "plt.show()\n",
        "plt.savefig('/content/drive/MyDrive/CZ4034/cnnlstm_try1_Loss.png')"
      ],
      "metadata": {
        "colab": {
          "base_uri": "https://localhost:8080/",
          "height": 470
        },
        "id": "GU9cwNF-vsT2",
        "outputId": "b726b352-7042-4a2f-bd92-422502effa54"
      },
      "execution_count": null,
      "outputs": [
        {
          "output_type": "display_data",
          "data": {
            "text/plain": [
              "<Figure size 640x480 with 1 Axes>"
            ],
            "image/png": "[encoded data removed]"
          },
          "metadata": {}
        },
        {
          "output_type": "display_data",
          "data": {
            "text/plain": [
              "<Figure size 640x480 with 0 Axes>"
            ]
          },
          "metadata": {}
        }
      ]
    },
    {
      "cell_type": "code",
      "source": [
        "scores = model.evaluate(test_padded, test_labels, verbose=1,batch_size = 64)\n",
        "print(\"Accuracy: %.2f%%\" % (scores[1]*100))"
      ],
      "metadata": {
        "colab": {
          "base_uri": "https://localhost:8080/"
        },
        "id": "fN5EECpYvu5u",
        "outputId": "d0fe4206-5bad-49e4-b615-dca4b05c0a2f"
      },
      "execution_count": null,
      "outputs": [
        {
          "output_type": "stream",
          "name": "stdout",
          "text": [
            "4/4 [==============================] - 0s 6ms/step - loss: 0.9772 - accuracy: 0.7551\n",
            "Accuracy: 75.51%\n"
          ]
        }
      ]
    },
    {
      "cell_type": "code",
      "source": [
        "predictions = model.predict(test_padded)\n",
        "predictions = [1 if p > 0.5 else 0 for p in predictions]"
      ],
      "metadata": {
        "colab": {
          "base_uri": "https://localhost:8080/"
        },
        "id": "ahP1BDeGv4i8",
        "outputId": "30b157c3-869e-46b8-da92-5342356f6f37"
      },
      "execution_count": null,
      "outputs": [
        {
          "output_type": "stream",
          "name": "stdout",
          "text": [
            "7/7 [==============================] - 0s 4ms/step\n"
          ]
        }
      ]
    },
    {
      "cell_type": "code",
      "source": [
        "from sklearn.metrics import confusion_matrix\n",
        "\n",
        "conf_matrix = confusion_matrix(test_labels, predictions)\n",
        "tn, fp, fn, tp = conf_matrix.ravel()"
      ],
      "metadata": {
        "id": "lI9o9fpKv8Tr"
      },
      "execution_count": null,
      "outputs": []
    },
    {
      "cell_type": "code",
      "source": [
        "print(f\"True Positives: {tp}\")\n",
        "print(f\"True Negatives: {tn}\")\n",
        "print(f\"False Positives: {fp}\")\n",
        "print(f\"False Negatives: {fn}\")"
      ],
      "metadata": {
        "colab": {
          "base_uri": "https://localhost:8080/"
        },
        "id": "sHoeft95v-RL",
        "outputId": "a1559b2e-9b96-4855-9fe9-8f324b088512"
      },
      "execution_count": null,
      "outputs": [
        {
          "output_type": "stream",
          "name": "stdout",
          "text": [
            "True Positives: 83\n",
            "True Negatives: 65\n",
            "False Positives: 27\n",
            "False Negatives: 21\n"
          ]
        }
      ]
    },
    {
      "cell_type": "code",
      "source": [
        "!pip install clean-text"
      ],
      "metadata": {
        "colab": {
          "base_uri": "https://localhost:8080/"
        },
        "id": "BoTzJQYYwABE",
        "outputId": "83764f86-736d-4fdb-eaf1-834c73faf124"
      },
      "execution_count": null,
      "outputs": [
        {
          "output_type": "stream",
          "name": "stdout",
          "text": [
            "Looking in indexes: https://pypi.org/simple, https://us-python.pkg.dev/colab-wheels/public/simple/\n",
            "Collecting clean-text\n",
            "  Downloading clean_text-0.6.0-py3-none-any.whl (11 kB)\n",
            "Collecting ftfy<7.0,>=6.0\n",
            "  Downloading ftfy-6.1.1-py3-none-any.whl (53 kB)\n",
            "\u001b[2K     \u001b[90m━━━━━━━━━━━━━━━━━━━━━━━━━━━━━━━━━━━━━━━━\u001b[0m \u001b[32m53.1/53.1 KB\u001b[0m \u001b[31m4.5 MB/s\u001b[0m eta \u001b[36m0:00:00\u001b[0m\n",
            "\u001b[?25hCollecting emoji<2.0.0,>=1.0.0\n",
            "  Downloading emoji-1.7.0.tar.gz (175 kB)\n",
            "\u001b[2K     \u001b[90m━━━━━━━━━━━━━━━━━━━━━━━━━━━━━━━━━━━━━━\u001b[0m \u001b[32m175.4/175.4 KB\u001b[0m \u001b[31m17.9 MB/s\u001b[0m eta \u001b[36m0:00:00\u001b[0m\n",
            "\u001b[?25h  Preparing metadata (setup.py) ... \u001b[?25l\u001b[?25hdone\n",
            "Requirement already satisfied: wcwidth>=0.2.5 in /usr/local/lib/python3.9/dist-packages (from ftfy<7.0,>=6.0->clean-text) (0.2.6)\n",
            "Building wheels for collected packages: emoji\n",
            "  Building wheel for emoji (setup.py) ... \u001b[?25l\u001b[?25hdone\n",
            "  Created wheel for emoji: filename=emoji-1.7.0-py3-none-any.whl size=171048 sha256=d610f6607d2a8fa78d6d1416afdf3eb7003d97ce485309e92ee87ebeb24b1c3a\n",
            "  Stored in directory: /root/.cache/pip/wheels/fa/7a/e9/22dd0515e1bad255e51663ee513a2fa839c95934c5fc301090\n",
            "Successfully built emoji\n",
            "Installing collected packages: emoji, ftfy, clean-text\n",
            "Successfully installed clean-text-0.6.0 emoji-1.7.0 ftfy-6.1.1\n"
          ]
        }
      ]
    },
    {
      "cell_type": "code",
      "source": [
        "#Function to process the test sample in the same way as the data processing of training\n",
        "import numpy as np\n",
        "from cleantext import clean\n",
        "\n",
        "#takes in a string(text) and returns a padded sequence \n",
        "def process_eval_sample(text):\n",
        "  text = clean(text, no_emoji=True, no_punct=True, lower=True)\n",
        "  text = text.split(\" \")\n",
        "  sentence = np.array(text)\n",
        "  sequence = tokenizer.texts_to_sequences(sentence)\n",
        "  padded_sequence = pad_sequences(sequence, maxlen=MAX_LEN, padding='post', truncating='post')\n",
        "\n",
        "  return padded_sequence\n",
        "\n",
        "#takes in a padded sequence and returns an integer (0 or 1) for the label\n",
        "def predict_test_sample(padded_seq):\n",
        "  predictions = model.predict(padded_seq)[0]\n",
        "  print(f\"Predicted Value: {predictions}\")\n",
        "  pred_values = [1 if p>=0.5 else 0 for p in predictions]\n",
        "  pred_label = max(pred_values)\n",
        "\n",
        "  return pred_label"
      ],
      "metadata": {
        "colab": {
          "base_uri": "https://localhost:8080/"
        },
        "id": "Lan7Ov3KwCNw",
        "outputId": "c1bf8e78-c4c8-482f-a668-c743d46d3fca"
      },
      "execution_count": null,
      "outputs": [
        {
          "output_type": "stream",
          "name": "stderr",
          "text": [
            "WARNING:root:Since the GPL-licensed package `unidecode` is not installed, using Python's `unicodedata` package which yields worse results.\n"
          ]
        }
      ]
    },
    {
      "cell_type": "code",
      "source": [
        "eval2_text = \"I purchased this cream in hopes it would be good. It definitely hydrates my skin, but it does leave my face really shiny as if it’s oily. Not happy with this look and so I’ve ended up just using it only at night. Or, if I know I’m not venturing out anywhere, I’ll apply it on. May not purchase this again.\"\n",
        "gt2_label = '0'\n",
        "\n",
        "eval2 = process_eval_sample(eval2_text)\n",
        "eval2_label = predict_test_sample(eval2)\n",
        "\n",
        "print(f\"Predictions: {model.predict(eval2)[0]}\")\n",
        "print(f\"Eval Sample 2: {eval2_text}\")\n",
        "print(f\"Ground Truth Label: {gt2_label}\")\n",
        "print(f\"Predicted Label: {eval2_label}\")"
      ],
      "metadata": {
        "colab": {
          "base_uri": "https://localhost:8080/"
        },
        "id": "ZcdKyv15wFVq",
        "outputId": "a908648a-d70c-4573-f4d0-ff8ce5c8d192"
      },
      "execution_count": null,
      "outputs": [
        {
          "output_type": "stream",
          "name": "stdout",
          "text": [
            "2/2 [==============================] - 0s 10ms/step\n",
            "Predicted Value: [0.33626968]\n",
            "2/2 [==============================] - 0s 7ms/step\n",
            "Predictions: [0.33626968]\n",
            "Eval Sample 2: I purchased this cream in hopes it would be good. It definitely hydrates my skin, but it does leave my face really shiny as if it’s oily. Not happy with this look and so I’ve ended up just using it only at night. Or, if I know I’m not venturing out anywhere, I’ll apply it on. May not purchase this again.\n",
            "Ground Truth Label: 0\n",
            "Predicted Label: 0\n"
          ]
        }
      ]
    },
    {
      "cell_type": "code",
      "source": [
        "eval3_text = \"best product ever!\"\n",
        "gt3_label = '1'\n",
        "\n",
        "eval3 = process_eval_sample(eval3_text)\n",
        "eval3_label = predict_test_sample(eval3)\n",
        "\n",
        "print(f\"Eval Sample 3: {eval3_text}\")\n",
        "print(f\"Ground Truth Label: {gt3_label}\")\n",
        "print(f\"Predicted Label: {eval3_label}\")"
      ],
      "metadata": {
        "colab": {
          "base_uri": "https://localhost:8080/"
        },
        "id": "D-gU2AyVwHwI",
        "outputId": "4afbc0d3-7359-49c2-b7b0-7625d2061057"
      },
      "execution_count": null,
      "outputs": [
        {
          "output_type": "stream",
          "name": "stdout",
          "text": [
            "1/1 [==============================] - 0s 18ms/step\n",
            "Predicted Value: [0.82507545]\n",
            "Eval Sample 3: best product ever!\n",
            "Ground Truth Label: 1\n",
            "Predicted Label: 1\n"
          ]
        }
      ]
    },
    {
      "cell_type": "code",
      "source": [
        "model.save('/content/drive/MyDrive/CZ4034/CNN+LSTM/model.hdf5')"
      ],
      "metadata": {
        "id": "GhwSIL5vwKHV"
      },
      "execution_count": null,
      "outputs": []
    },
    {
      "cell_type": "code",
      "source": [],
      "metadata": {
        "id": "oYRupgaewO65"
      },
      "execution_count": null,
      "outputs": []
    }
  ]
}