{
  "nbformat": 4,
  "nbformat_minor": 0,
  "metadata": {
    "colab": {
      "provenance": []
    },
    "kernelspec": {
      "name": "python3",
      "display_name": "Python 3"
    },
    "language_info": {
      "name": "python"
    }
  },
  "cells": [
    {
      "cell_type": "markdown",
      "source": [
        "# CNN + LSTM"
      ],
      "metadata": {
        "id": "BcpxGhhmpXG6"
      }
    },
    {
      "cell_type": "markdown",
      "source": [
        "## Mounting Drive"
      ],
      "metadata": {
        "id": "NKfKydvjpaob"
      }
    },
    {
      "cell_type": "code",
      "source": [
        "from google.colab import drive\n",
        "drive.mount('/content/drive')"
      ],
      "metadata": {
        "colab": {
          "base_uri": "https://localhost:8080/"
        },
        "id": "gDB4ObMbpZHm",
        "outputId": "669ac501-5f46-4616-95d2-80f18dafaefc"
      },
      "execution_count": null,
      "outputs": [
        {
          "output_type": "stream",
          "name": "stdout",
          "text": [
            "Mounted at /content/drive\n"
          ]
        }
      ]
    },
    {
      "cell_type": "markdown",
      "source": [
        "## Imports"
      ],
      "metadata": {
        "id": "zFOblGeCqTAk"
      }
    },
    {
      "cell_type": "code",
      "source": [
        "import pandas as pd\n",
        "import numpy as np\n",
        "import seaborn as sb\n",
        "import matplotlib.pyplot as plt\n",
        "import nltk\n",
        "nltk.download('punkt')\n",
        "\n",
        "import tensorflow as tf\n",
        "from tensorflow.keras.callbacks import EarlyStopping\n",
        "from tensorflow.keras.preprocessing.sequence import pad_sequences\n",
        "from tensorflow.keras.preprocessing.text import Tokenizer\n",
        "from tensorflow.keras.losses import BinaryCrossentropy\n",
        "from tensorflow.keras.optimizers import Adam\n",
        "from sklearn.preprocessing import LabelEncoder\n",
        "from sklearn.model_selection import train_test_split\n",
        "from tensorflow.keras import layers\n",
        "from tensorflow.keras.models import *\n",
        "from tensorflow.keras.layers import *\n",
        "from collections import Counter\n",
        "import json"
      ],
      "metadata": {
        "colab": {
          "base_uri": "https://localhost:8080/"
        },
        "id": "1rwQcWz7pdtm",
        "outputId": "6adb2815-7b40-4ec0-c19c-0829fde47c19"
      },
      "execution_count": null,
      "outputs": [
        {
          "output_type": "stream",
          "name": "stderr",
          "text": [
            "[nltk_data] Downloading package punkt to /root/nltk_data...\n",
            "[nltk_data]   Unzipping tokenizers/punkt.zip.\n"
          ]
        }
      ]
    },
    {
      "cell_type": "code",
      "source": [
        "#Loading the Dataset\n",
        "dataset = pd.read_csv('/content/drive/MyDrive/CZ4034/final_dataset.csv')\n",
        "dataset.drop('Unnamed: 0', axis=1, inplace=True)\n",
        "\n",
        "# # of rows = 5000, # of cols = 2\n",
        "print(dataset.shape)"
      ],
      "metadata": {
        "colab": {
          "base_uri": "https://localhost:8080/"
        },
        "id": "GSLEVlp1qU4n",
        "outputId": "a4d6bf9a-6d30-42c0-bfb3-978d09e89877"
      },
      "execution_count": null,
      "outputs": [
        {
          "output_type": "stream",
          "name": "stdout",
          "text": [
            "(1306, 2)\n"
          ]
        }
      ]
    },
    {
      "cell_type": "code",
      "source": [
        "#Exploring the Dataset\n",
        "print(dataset['flair_labels'].value_counts())"
      ],
      "metadata": {
        "colab": {
          "base_uri": "https://localhost:8080/"
        },
        "id": "DlrRZ0Q6rW35",
        "outputId": "df2d5c8b-8ac3-49c9-a1a7-13c88023d312"
      },
      "execution_count": null,
      "outputs": [
        {
          "output_type": "stream",
          "name": "stdout",
          "text": [
            "1    653\n",
            "0    653\n",
            "Name: flair_labels, dtype: int64\n"
          ]
        }
      ]
    },
    {
      "cell_type": "code",
      "source": [
        "#Count all the unique words - input to fxn: column [series]\n",
        "prev_list = []\n",
        "\n",
        "for review in dataset.Review:\n",
        "    string_list = review.split(' ')\n",
        "    string_list += prev_list\n",
        "    prev_list = string_list\n",
        "\n",
        "counter = Counter(string_list)\n",
        "\n",
        "#Getting the number of unique words\n",
        "num_unique_words = len(counter)\n",
        "\n",
        "#Getting the top 10 most commonly used words\n",
        "most_common = counter.most_common(10)\n",
        "\n",
        "most_common"
      ],
      "metadata": {
        "colab": {
          "base_uri": "https://localhost:8080/"
        },
        "id": "Y5kted6qrY7c",
        "outputId": "96e247cf-f610-416e-f4f7-e7f5013d201a"
      },
      "execution_count": null,
      "outputs": [
        {
          "output_type": "execute_result",
          "data": {
            "text/plain": [
              "[('skin', 1334),\n",
              " ('product', 458),\n",
              " ('like', 380),\n",
              " ('love', 330),\n",
              " ('using', 324),\n",
              " ('use', 324),\n",
              " ('face', 309),\n",
              " ('really', 275),\n",
              " ('dry', 229),\n",
              " ('im', 227)]"
            ]
          },
          "metadata": {},
          "execution_count": 5
        }
      ]
    },
    {
      "cell_type": "code",
      "source": [
        "#Splitting into trianing and validation splits\n",
        "x_train, x_test, y_train, y_test = train_test_split(dataset['Review'], dataset['flair_labels'], test_size=0.2, random_state=42)\n",
        "#x_val, x_test, y_val, y_test = train_test_split(x_val, y_val, test_size=0.5, random_state=42)\n",
        "\n",
        "print(f\"Train: {len(x_train)}\")\n",
        "#print(f\"Val: {len(x_val)}\")\n",
        "print(f\"Test: {len(x_test)}\")\n",
        "# Train - 1568 , Test - 392"
      ],
      "metadata": {
        "colab": {
          "base_uri": "https://localhost:8080/"
        },
        "id": "_mJSRR0Mraah",
        "outputId": "e90f67e0-59cd-40e8-8527-f5fbc84e77bf"
      },
      "execution_count": null,
      "outputs": [
        {
          "output_type": "stream",
          "name": "stdout",
          "text": [
            "Train: 1044\n",
            "Test: 262\n"
          ]
        }
      ]
    },
    {
      "cell_type": "code",
      "source": [
        "#Convert from Series into Numpy Array\n",
        "train_sentences = x_train.to_numpy()\n",
        "train_labels = y_train.to_numpy()\n",
        "\n",
        "#val_sentences = x_val.to_numpy()\n",
        "#val_labels = y_val.to_numpy()\n",
        "\n",
        "test_sentences = x_test.to_numpy()\n",
        "test_labels = y_test.to_numpy()"
      ],
      "metadata": {
        "id": "ShqR3olkrcJ3"
      },
      "execution_count": null,
      "outputs": []
    },
    {
      "cell_type": "code",
      "source": [
        "#Tokenization - vectorise a text corpus by converting text into a sequence of integers\n",
        "#this also generates a word index\n",
        "tokenizer = Tokenizer(num_words=num_unique_words)\n",
        "tokenizer.fit_on_texts(train_sentences)\n",
        "\n",
        "word_index = tokenizer.word_index\n",
        "\n",
        "#writing the word index into a text file\n",
        "\n",
        "with open(\"/content/drive/MyDrive/CZ4034/final_data_word_idx.txt\", 'w') as f:\n",
        "    f.write(json.dumps(word_index))"
      ],
      "metadata": {
        "id": "SiV_EpQXreEa"
      },
      "execution_count": null,
      "outputs": []
    },
    {
      "cell_type": "code",
      "source": [
        "#Converting the text into sequences\n",
        "train_sequences = tokenizer.texts_to_sequences(train_sentences)\n",
        "#val_sequences = tokenizer.texts_to_sequences(val_sentences)\n",
        "test_sequences = tokenizer.texts_to_sequences(test_sentences)\n",
        "\n",
        "#Getting the longest review\n",
        "MAX_LEN = len(max(train_sequences))\n",
        "\n",
        "#Padding the Sequences\n",
        "train_padded = pad_sequences(train_sequences, maxlen=MAX_LEN, padding='post', truncating='post')\n",
        "#val_padded = pad_sequences(val_sequences, maxlen=MAX_LEN, padding='post', truncating='post')\n",
        "test_padded = pad_sequences(test_sequences, maxlen=MAX_LEN, padding='post', truncating='post')"
      ],
      "metadata": {
        "id": "vYNxVAH8rfib"
      },
      "execution_count": null,
      "outputs": []
    },
    {
      "cell_type": "code",
      "source": [
        "print('Train:',train_padded.shape)\n",
        "#print('Val:',val_padded.shape)\n",
        "print('Test:',test_padded.shape)\n",
        "\"\"\"\n",
        "NOTE: \n",
        "  • Train Padded Shape: (1568, 22)\n",
        "  • Valid Padded Shape: (196, 22)\n",
        "  • Test Padded Shape: (392, 22)\n",
        "\"\"\""
      ],
      "metadata": {
        "colab": {
          "base_uri": "https://localhost:8080/",
          "height": 70
        },
        "id": "PW-YTZ3_rg-y",
        "outputId": "6980f622-3c6c-48ad-e6c7-190a8007f96f"
      },
      "execution_count": null,
      "outputs": [
        {
          "output_type": "stream",
          "name": "stdout",
          "text": [
            "Train: (1044, 40)\n",
            "Test: (262, 40)\n"
          ]
        },
        {
          "output_type": "execute_result",
          "data": {
            "text/plain": [
              "'\\nNOTE: \\n  • Train Padded Shape: (1568, 22)\\n  • Valid Padded Shape: (196, 22)\\n  • Test Padded Shape: (392, 22)\\n'"
            ],
            "application/vnd.google.colaboratory.intrinsic+json": {
              "type": "string"
            }
          },
          "metadata": {},
          "execution_count": 10
        }
      ]
    },
    {
      "cell_type": "code",
      "source": [
        "le = LabelEncoder()\n",
        "train_labels = le.fit_transform(train_labels)\n",
        "#val_labels = le.fit_transform(val_labels)\n",
        "test_labels = le.fit_transform(test_labels)"
      ],
      "metadata": {
        "id": "Fqgka1klris8"
      },
      "execution_count": null,
      "outputs": []
    },
    {
      "cell_type": "code",
      "source": [
        "print(f\"Training\")\n",
        "print(f\"0: {list(train_labels).count(0)}\")\n",
        "print(f\"1: {list(train_labels).count(1)}\\n\")\n",
        "\n",
        "#print(\"Val\")\n",
        "#print(f\"0: {list(val_labels).count(0)}\")\n",
        "#print(f\"1: {list(val_labels).count(1)}\\n\")\n",
        "\n",
        "print(\"Test\")\n",
        "print(f\"0: {list(test_labels).count(0)}\")\n",
        "print(f\"1: {list(test_labels).count(1)}\\n\")"
      ],
      "metadata": {
        "colab": {
          "base_uri": "https://localhost:8080/"
        },
        "id": "2iAUGBTrrnXV",
        "outputId": "3ca8de7b-014c-4f6c-813b-d4b32f56d6b5"
      },
      "execution_count": null,
      "outputs": [
        {
          "output_type": "stream",
          "name": "stdout",
          "text": [
            "Training\n",
            "0: 527\n",
            "1: 517\n",
            "\n",
            "Test\n",
            "0: 126\n",
            "1: 136\n",
            "\n"
          ]
        }
      ]
    },
    {
      "cell_type": "markdown",
      "source": [
        "## Model Building"
      ],
      "metadata": {
        "id": "SzE6b37crsQX"
      }
    },
    {
      "cell_type": "code",
      "source": [
        "#Creating base model\n",
        "model = Sequential()\n",
        "\n",
        "model.add(Embedding(num_unique_words, output_dim=100, input_length=MAX_LEN, trainable=True))\n",
        "#adding the CONV layer\n",
        "model.add(Conv1D(filters=32, kernel_size=3, padding='same', activation='relu'))\n",
        "model.add(MaxPooling1D(pool_size=2))\n",
        "model.add(LSTM(100))\n",
        "model.add(Dense(1, activation='sigmoid'))\n",
        "\n",
        "model.compile(loss='binary_crossentropy', optimizer='adam', metrics=['accuracy'])\n",
        "\n",
        "model.summary()"
      ],
      "metadata": {
        "colab": {
          "base_uri": "https://localhost:8080/"
        },
        "id": "HDHmmKFYrpCI",
        "outputId": "e03c2635-4144-4578-b6ef-95f4c35a8ea5"
      },
      "execution_count": null,
      "outputs": [
        {
          "output_type": "stream",
          "name": "stdout",
          "text": [
            "Model: \"sequential_9\"\n",
            "_________________________________________________________________\n",
            " Layer (type)                Output Shape              Param #   \n",
            "=================================================================\n",
            " embedding_9 (Embedding)     (None, 40, 100)           378900    \n",
            "                                                                 \n",
            " conv1d_8 (Conv1D)           (None, 40, 32)            9632      \n",
            "                                                                 \n",
            " max_pooling1d_8 (MaxPooling  (None, 20, 32)           0         \n",
            " 1D)                                                             \n",
            "                                                                 \n",
            " lstm_9 (LSTM)               (None, 100)               53200     \n",
            "                                                                 \n",
            " dense_13 (Dense)            (None, 1)                 101       \n",
            "                                                                 \n",
            "=================================================================\n",
            "Total params: 441,833\n",
            "Trainable params: 441,833\n",
            "Non-trainable params: 0\n",
            "_________________________________________________________________\n"
          ]
        }
      ]
    },
    {
      "cell_type": "code",
      "source": [
        "history = model.fit(train_padded, train_labels, epochs=5, batch_size=64, validation_data=(test_padded, test_labels))"
      ],
      "metadata": {
        "colab": {
          "base_uri": "https://localhost:8080/"
        },
        "id": "ttPwFeF_uNc_",
        "outputId": "c86144ff-31a5-4e9a-e462-37932c077743"
      },
      "execution_count": null,
      "outputs": [
        {
          "output_type": "stream",
          "name": "stdout",
          "text": [
            "Epoch 1/5\n",
            "17/17 [==============================] - 7s 214ms/step - loss: 0.6925 - accuracy: 0.5010 - val_loss: 0.6894 - val_accuracy: 0.5458\n",
            "Epoch 2/5\n",
            "17/17 [==============================] - 1s 46ms/step - loss: 0.6499 - accuracy: 0.5862 - val_loss: 0.7412 - val_accuracy: 0.6336\n",
            "Epoch 3/5\n",
            "17/17 [==============================] - 1s 47ms/step - loss: 0.4013 - accuracy: 0.8103 - val_loss: 0.5172 - val_accuracy: 0.7786\n",
            "Epoch 4/5\n",
            "17/17 [==============================] - 1s 45ms/step - loss: 0.1536 - accuracy: 0.9473 - val_loss: 0.8434 - val_accuracy: 0.7481\n",
            "Epoch 5/5\n",
            "17/17 [==============================] - 1s 45ms/step - loss: 0.0706 - accuracy: 0.9741 - val_loss: 0.7752 - val_accuracy: 0.7786\n"
          ]
        }
      ]
    },
    {
      "cell_type": "code",
      "source": [
        "with open('/content/drive/MyDrive/CZ4034/CNN_LSTM/hist_cnn_lstm.txt', 'w') as convert_file:\n",
        "     convert_file.write(json.dumps(history.history))"
      ],
      "metadata": {
        "id": "p-qysNvfunGK"
      },
      "execution_count": null,
      "outputs": []
    },
    {
      "cell_type": "code",
      "source": [
        "#PLOTTING THE CURVES\n",
        "epochs = range(1,6)\n",
        "\n",
        "#Plotting the Accuracy Curves\n",
        "train_accuracy = history.history['accuracy']\n",
        "val_accuracy = history.history['val_accuracy']\n",
        "\n",
        "plt.plot(epochs,train_accuracy, 'b', label='Training Accuracy')\n",
        "plt.plot(epochs,val_accuracy, 'r', label='Test Accuracy')\n",
        "plt.title('Accuracy Curves for CNN+LSTM')\n",
        "plt.legend()\n",
        "plt.figure()\n",
        "plt.savefig('/content/drive/MyDrive/CZ4034/CNN_LSTM/cnnlstmtry1_Accuracy.jpg')"
      ],
      "metadata": {
        "colab": {
          "base_uri": "https://localhost:8080/",
          "height": 470
        },
        "id": "60SHI2MevapS",
        "outputId": "891175cf-0bbb-4c62-9794-22dc47f49de4"
      },
      "execution_count": null,
      "outputs": [
        {
          "output_type": "display_data",
          "data": {
            "text/plain": [
              "<Figure size 640x480 with 1 Axes>"
            ],
            "image/png": "[encoded data removed]"
          },
          "metadata": {}
        },
        {
          "output_type": "display_data",
          "data": {
            "text/plain": [
              "<Figure size 640x480 with 0 Axes>"
            ]
          },
          "metadata": {}
        }
      ]
    },
    {
      "cell_type": "code",
      "source": [
        "#Plotting the Loss Curves\n",
        "train_loss = history.history['loss']\n",
        "val_loss = history.history['val_loss']\n",
        "\n",
        "plt.plot(epochs,train_loss, 'b', label='Training Loss')\n",
        "plt.plot(epochs,val_loss, 'r', label='Test Loss')\n",
        "plt.title('Loss Curves for CNN+LSTM')\n",
        "plt.legend()\n",
        "plt.show()\n",
        "plt.savefig('/content/drive/MyDrive/CZ4034/CNN_LSTM/cnnlstm_try1_Loss.png')"
      ],
      "metadata": {
        "colab": {
          "base_uri": "https://localhost:8080/",
          "height": 470
        },
        "id": "GU9cwNF-vsT2",
        "outputId": "8c908b5f-3e84-492a-bdab-639907555c63"
      },
      "execution_count": null,
      "outputs": [
        {
          "output_type": "display_data",
          "data": {
            "text/plain": [
              "<Figure size 640x480 with 1 Axes>"
            ],
            "image/png": "[encoded data removed]"
          },
          "metadata": {}
        },
        {
          "output_type": "display_data",
          "data": {
            "text/plain": [
              "<Figure size 640x480 with 0 Axes>"
            ]
          },
          "metadata": {}
        }
      ]
    },
    {
      "cell_type": "code",
      "source": [
        "model = load_model('/content/drive/MyDrive/CZ4034/CNN_LSTM/model.hdf5')\n",
        "model"
      ],
      "metadata": {
        "colab": {
          "base_uri": "https://localhost:8080/"
        },
        "id": "-JLM4o9mT61B",
        "outputId": "174b03b5-959a-429a-afe8-b1b4efa4c102"
      },
      "execution_count": null,
      "outputs": [
        {
          "output_type": "execute_result",
          "data": {
            "text/plain": [
              "<keras.engine.sequential.Sequential at 0x7f03003178b0>"
            ]
          },
          "metadata": {},
          "execution_count": 13
        }
      ]
    },
    {
      "cell_type": "code",
      "source": [
        "scores = model.evaluate(test_padded, test_labels, verbose=1,batch_size = 64)\n",
        "print(\"Accuracy: %.2f%%\" % (scores[1]*100))"
      ],
      "metadata": {
        "colab": {
          "base_uri": "https://localhost:8080/"
        },
        "id": "fN5EECpYvu5u",
        "outputId": "d947798f-f085-48f4-edbc-695166515872"
      },
      "execution_count": null,
      "outputs": [
        {
          "output_type": "stream",
          "name": "stdout",
          "text": [
            "5/5 [==============================] - 0s 12ms/step - loss: 0.7752 - accuracy: 0.7786\n",
            "Accuracy: 77.86%\n"
          ]
        }
      ]
    },
    {
      "cell_type": "code",
      "source": [
        "predictions = model.predict(test_padded)\n",
        "predictions = [1 if p > 0.5 else 0 for p in predictions]"
      ],
      "metadata": {
        "colab": {
          "base_uri": "https://localhost:8080/"
        },
        "id": "ahP1BDeGv4i8",
        "outputId": "5e4b15c4-3e85-4aa9-e873-b02376a20f82"
      },
      "execution_count": null,
      "outputs": [
        {
          "output_type": "stream",
          "name": "stdout",
          "text": [
            "9/9 [==============================] - 1s 9ms/step\n"
          ]
        }
      ]
    },
    {
      "cell_type": "code",
      "source": [
        "from sklearn.metrics import confusion_matrix, classification_report\n",
        "\n",
        "conf_matrix = confusion_matrix(test_labels, predictions)\n",
        "tn, fp, fn, tp = conf_matrix.ravel()"
      ],
      "metadata": {
        "id": "lI9o9fpKv8Tr"
      },
      "execution_count": null,
      "outputs": []
    },
    {
      "cell_type": "code",
      "source": [
        "print(classification_report(test_labels, predictions))"
      ],
      "metadata": {
        "colab": {
          "base_uri": "https://localhost:8080/"
        },
        "id": "c99PUMC2VRLy",
        "outputId": "b7aca563-8d1b-420d-e2be-38e597e96f19"
      },
      "execution_count": null,
      "outputs": [
        {
          "output_type": "stream",
          "name": "stdout",
          "text": [
            "              precision    recall  f1-score   support\n",
            "\n",
            "           0       0.79      0.74      0.76       126\n",
            "           1       0.77      0.82      0.79       136\n",
            "\n",
            "    accuracy                           0.78       262\n",
            "   macro avg       0.78      0.78      0.78       262\n",
            "weighted avg       0.78      0.78      0.78       262\n",
            "\n"
          ]
        }
      ]
    },
    {
      "cell_type": "code",
      "source": [
        "print(f\"True Positives: {tp}\")\n",
        "print(f\"True Negatives: {tn}\")\n",
        "print(f\"False Positives: {fp}\")\n",
        "print(f\"False Negatives: {fn}\")"
      ],
      "metadata": {
        "colab": {
          "base_uri": "https://localhost:8080/"
        },
        "id": "sHoeft95v-RL",
        "outputId": "23ec832d-b250-4a7e-d606-cccf1b758f3e"
      },
      "execution_count": null,
      "outputs": [
        {
          "output_type": "stream",
          "name": "stdout",
          "text": [
            "True Positives: 111\n",
            "True Negatives: 93\n",
            "False Positives: 33\n",
            "False Negatives: 25\n"
          ]
        }
      ]
    },
    {
      "cell_type": "code",
      "source": [
        "!pip install clean-text"
      ],
      "metadata": {
        "colab": {
          "base_uri": "https://localhost:8080/"
        },
        "id": "BoTzJQYYwABE",
        "outputId": "e4496e19-23bb-4ad6-d015-9ae8b24d185e"
      },
      "execution_count": null,
      "outputs": [
        {
          "output_type": "stream",
          "name": "stdout",
          "text": [
            "Looking in indexes: https://pypi.org/simple, https://us-python.pkg.dev/colab-wheels/public/simple/\n",
            "Collecting clean-text\n",
            "  Downloading clean_text-0.6.0-py3-none-any.whl (11 kB)\n",
            "Collecting emoji<2.0.0,>=1.0.0\n",
            "  Downloading emoji-1.7.0.tar.gz (175 kB)\n",
            "\u001b[2K     \u001b[90m━━━━━━━━━━━━━━━━━━━━━━━━━━━━━━━━━━━━━━━\u001b[0m \u001b[32m175.4/175.4 KB\u001b[0m \u001b[31m4.3 MB/s\u001b[0m eta \u001b[36m0:00:00\u001b[0m\n",
            "\u001b[?25h  Preparing metadata (setup.py) ... \u001b[?25l\u001b[?25hdone\n",
            "Collecting ftfy<7.0,>=6.0\n",
            "  Downloading ftfy-6.1.1-py3-none-any.whl (53 kB)\n",
            "\u001b[2K     \u001b[90m━━━━━━━━━━━━━━━━━━━━━━━━━━━━━━━━━━━━━━━━\u001b[0m \u001b[32m53.1/53.1 KB\u001b[0m \u001b[31m5.3 MB/s\u001b[0m eta \u001b[36m0:00:00\u001b[0m\n",
            "\u001b[?25hRequirement already satisfied: wcwidth>=0.2.5 in /usr/local/lib/python3.9/dist-packages (from ftfy<7.0,>=6.0->clean-text) (0.2.6)\n",
            "Building wheels for collected packages: emoji\n",
            "  Building wheel for emoji (setup.py) ... \u001b[?25l\u001b[?25hdone\n",
            "  Created wheel for emoji: filename=emoji-1.7.0-py3-none-any.whl size=171048 sha256=774d0334dd2a229d7aa3ea73460ef6776fe35b15c635aa993883b087b26d99ee\n",
            "  Stored in directory: /root/.cache/pip/wheels/fa/7a/e9/22dd0515e1bad255e51663ee513a2fa839c95934c5fc301090\n",
            "Successfully built emoji\n",
            "Installing collected packages: emoji, ftfy, clean-text\n",
            "Successfully installed clean-text-0.6.0 emoji-1.7.0 ftfy-6.1.1\n"
          ]
        }
      ]
    },
    {
      "cell_type": "code",
      "source": [
        "#Function to process the test sample in the same way as the data processing of training\n",
        "import numpy as np\n",
        "from cleantext import clean\n",
        "\n",
        "#takes in a string(text) and returns a padded sequence \n",
        "def process_eval_sample(text):\n",
        "  text = clean(text, no_emoji=True, no_punct=True, lower=True)\n",
        "  text = text.split(\" \")\n",
        "  sentence = np.array(text)\n",
        "  sequence = tokenizer.texts_to_sequences(sentence)\n",
        "  padded_sequence = pad_sequences(sequence, maxlen=MAX_LEN, padding='post', truncating='post')\n",
        "\n",
        "  return padded_sequence\n",
        "\n",
        "#takes in a padded sequence and returns an integer (0 or 1) for the label\n",
        "def predict_test_sample(padded_seq):\n",
        "  predictions = model.predict(padded_seq)[0]\n",
        "  print(f\"Predicted Value: {predictions}\")\n",
        "  pred_values = [1 if p>=0.5 else 0 for p in predictions]\n",
        "  pred_label = max(pred_values)\n",
        "\n",
        "  return pred_label"
      ],
      "metadata": {
        "colab": {
          "base_uri": "https://localhost:8080/"
        },
        "id": "Lan7Ov3KwCNw",
        "outputId": "4658c363-2dfe-4a1a-f140-76dc35223c01"
      },
      "execution_count": null,
      "outputs": [
        {
          "output_type": "stream",
          "name": "stderr",
          "text": [
            "WARNING:root:Since the GPL-licensed package `unidecode` is not installed, using Python's `unicodedata` package which yields worse results.\n"
          ]
        }
      ]
    },
    {
      "cell_type": "code",
      "source": [
        "eval2_text = \"I purchased this cream in hopes it would be good. It definitely hydrates my skin, but it does leave my face really shiny as if it’s oily. Not happy with this look and so I’ve ended up just using it only at night. Or, if I know I’m not venturing out anywhere, I’ll apply it on. May not purchase this again.\"\n",
        "gt2_label = '0'\n",
        "\n",
        "eval2 = process_eval_sample(eval2_text)\n",
        "eval2_label = predict_test_sample(eval2)\n",
        "\n",
        "print(f\"Predictions: {model.predict(eval2)[0]}\")\n",
        "print(f\"Eval Sample 2: {eval2_text}\")\n",
        "print(f\"Ground Truth Label: {gt2_label}\")\n",
        "print(f\"Predicted Label: {eval2_label}\")"
      ],
      "metadata": {
        "colab": {
          "base_uri": "https://localhost:8080/"
        },
        "id": "ZcdKyv15wFVq",
        "outputId": "9d84df30-564c-4f18-9407-9afad704a0c7"
      },
      "execution_count": null,
      "outputs": [
        {
          "output_type": "stream",
          "name": "stdout",
          "text": [
            "2/2 [==============================] - 0s 16ms/step\n",
            "Predicted Value: [0.98648775]\n",
            "2/2 [==============================] - 0s 16ms/step\n",
            "Predictions: [0.98648775]\n",
            "Eval Sample 2: I purchased this cream in hopes it would be good. It definitely hydrates my skin, but it does leave my face really shiny as if it’s oily. Not happy with this look and so I’ve ended up just using it only at night. Or, if I know I’m not venturing out anywhere, I’ll apply it on. May not purchase this again.\n",
            "Ground Truth Label: 0\n",
            "Predicted Label: 1\n"
          ]
        }
      ]
    },
    {
      "cell_type": "code",
      "source": [
        "eval3_text = \"best product ever!\"\n",
        "gt3_label = '1'\n",
        "\n",
        "eval3 = process_eval_sample(eval3_text)\n",
        "eval3_label = predict_test_sample(eval3)\n",
        "\n",
        "print(f\"Eval Sample 3: {eval3_text}\")\n",
        "print(f\"Ground Truth Label: {gt3_label}\")\n",
        "print(f\"Predicted Label: {eval3_label}\")"
      ],
      "metadata": {
        "colab": {
          "base_uri": "https://localhost:8080/"
        },
        "id": "D-gU2AyVwHwI",
        "outputId": "b9e5d10e-6209-43c8-b646-7571f76c0948"
      },
      "execution_count": null,
      "outputs": [
        {
          "output_type": "stream",
          "name": "stdout",
          "text": [
            "1/1 [==============================] - 0s 40ms/step\n",
            "Predicted Value: [0.98547864]\n",
            "Eval Sample 3: best product ever!\n",
            "Ground Truth Label: 1\n",
            "Predicted Label: 1\n"
          ]
        }
      ]
    },
    {
      "cell_type": "code",
      "source": [
        "model.save('/content/drive/MyDrive/CZ4034/CNN_LSTM/model.hdf5')"
      ],
      "metadata": {
        "id": "GhwSIL5vwKHV"
      },
      "execution_count": null,
      "outputs": []
    },
    {
      "cell_type": "code",
      "source": [],
      "metadata": {
        "id": "oYRupgaewO65"
      },
      "execution_count": null,
      "outputs": []
    }
  ]
}