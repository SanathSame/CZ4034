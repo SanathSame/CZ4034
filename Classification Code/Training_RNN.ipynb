{
  "nbformat": 4,
  "nbformat_minor": 0,
  "metadata": {
    "colab": {
      "provenance": []
    },
    "kernelspec": {
      "name": "python3",
      "display_name": "Python 3"
    },
    "language_info": {
      "name": "python"
    }
  },
  "cells": [
    {
      "cell_type": "markdown",
      "source": [
        "# RNN"
      ],
      "metadata": {
        "id": "OvPrDt_OjIkB"
      }
    },
    {
      "cell_type": "markdown",
      "source": [
        "## Mounting Drive"
      ],
      "metadata": {
        "id": "UGM-0VF9jKNx"
      }
    },
    {
      "cell_type": "code",
      "source": [
        "from google.colab import drive\n",
        "drive.mount('/content/drive')"
      ],
      "metadata": {
        "colab": {
          "base_uri": "https://localhost:8080/"
        },
        "id": "V1qw7jUfjJrz",
        "outputId": "5d542541-71b9-492a-85f2-a067252bf0aa"
      },
      "execution_count": null,
      "outputs": [
        {
          "output_type": "stream",
          "name": "stdout",
          "text": [
            "Mounted at /content/drive\n"
          ]
        }
      ]
    },
    {
      "cell_type": "markdown",
      "source": [
        "## Imports"
      ],
      "metadata": {
        "id": "lvsyLbQJjd4X"
      }
    },
    {
      "cell_type": "code",
      "source": [
        "import pandas as pd\n",
        "import numpy as np\n",
        "import seaborn as sb\n",
        "import matplotlib.pyplot as plt\n",
        "import nltk\n",
        "nltk.download('punkt')\n",
        "\n",
        "import tensorflow as tf\n",
        "from tensorflow.keras.callbacks import EarlyStopping\n",
        "from tensorflow.keras.preprocessing.sequence import pad_sequences\n",
        "from tensorflow.keras.preprocessing.text import Tokenizer\n",
        "from tensorflow.keras.losses import BinaryCrossentropy\n",
        "from tensorflow.keras.optimizers import Adam\n",
        "from sklearn.preprocessing import LabelEncoder\n",
        "from sklearn.model_selection import train_test_split\n",
        "from tensorflow.keras import layers\n",
        "from tensorflow.keras.models import *\n",
        "from tensorflow.keras.layers import *\n",
        "from collections import Counter\n",
        "import json\n",
        "import time"
      ],
      "metadata": {
        "colab": {
          "base_uri": "https://localhost:8080/"
        },
        "id": "rviyl0pvjMYK",
        "outputId": "79e4a927-fcc0-4eda-87fd-e2340bea5a9d"
      },
      "execution_count": null,
      "outputs": [
        {
          "output_type": "stream",
          "name": "stderr",
          "text": [
            "[nltk_data] Downloading package punkt to /root/nltk_data...\n",
            "[nltk_data]   Package punkt is already up-to-date!\n"
          ]
        }
      ]
    },
    {
      "cell_type": "code",
      "source": [
        "#Loading the Dataset\n",
        "dataset = pd.read_csv('/content/drive/MyDrive/CZ4034/final_dataset.csv')\n",
        "dataset.drop('Unnamed: 0', axis=1, inplace=True)\n",
        "\n",
        "# # of rows = 5000, # of cols = 2\n",
        "print(dataset.shape)\n"
      ],
      "metadata": {
        "colab": {
          "base_uri": "https://localhost:8080/"
        },
        "id": "3lYnLD0_kD3C",
        "outputId": "79020f22-a30b-4ffa-b05d-ceef609a7940"
      },
      "execution_count": null,
      "outputs": [
        {
          "output_type": "stream",
          "name": "stdout",
          "text": [
            "(1306, 2)\n"
          ]
        }
      ]
    },
    {
      "cell_type": "code",
      "source": [
        "#Exploring the Dataset\n",
        "print(dataset['flair_labels'].value_counts())"
      ],
      "metadata": {
        "colab": {
          "base_uri": "https://localhost:8080/"
        },
        "id": "BidNlld5kL1c",
        "outputId": "fb63dc7a-e758-49fd-9959-a5a477d7d744"
      },
      "execution_count": null,
      "outputs": [
        {
          "output_type": "stream",
          "name": "stdout",
          "text": [
            "1    653\n",
            "0    653\n",
            "Name: flair_labels, dtype: int64\n"
          ]
        }
      ]
    },
    {
      "cell_type": "code",
      "source": [
        "#Count all the unique words - input to fxn: column [series]\n",
        "prev_list = []\n",
        "\n",
        "for review in dataset.Review:\n",
        "    string_list = review.split(' ')\n",
        "    string_list += prev_list\n",
        "    prev_list = string_list\n",
        "\n",
        "counter = Counter(string_list)\n",
        "\n",
        "#Getting the number of unique words\n",
        "num_unique_words = len(counter)\n",
        "\n",
        "#Getting the top 10 most commonly used words\n",
        "most_common = counter.most_common(10)\n",
        "\n",
        "most_common"
      ],
      "metadata": {
        "colab": {
          "base_uri": "https://localhost:8080/"
        },
        "id": "gbzwYZ9lkN-1",
        "outputId": "f667c505-0890-45fb-cbd0-85f167742ead"
      },
      "execution_count": null,
      "outputs": [
        {
          "output_type": "execute_result",
          "data": {
            "text/plain": [
              "[('skin', 1334),\n",
              " ('product', 458),\n",
              " ('like', 380),\n",
              " ('love', 330),\n",
              " ('using', 324),\n",
              " ('use', 324),\n",
              " ('face', 309),\n",
              " ('really', 275),\n",
              " ('dry', 229),\n",
              " ('im', 227)]"
            ]
          },
          "metadata": {},
          "execution_count": 6
        }
      ]
    },
    {
      "cell_type": "code",
      "source": [
        "#Splitting into trianing and validation splits\n",
        "x_train, x_test, y_train, y_test = train_test_split(dataset['Review'], dataset['flair_labels'], test_size=0.2, random_state=42)\n",
        "#x_val, x_test, y_val, y_test = train_test_split(x_val, y_val, test_size=0.5, random_state=42)\n",
        "\n",
        "print(f\"Train: {len(x_train)}\")\n",
        "#print(f\"Val: {len(x_val)}\")\n",
        "print(f\"Test: {len(x_test)}\")\n",
        "# Train - 1568 , Test - 392"
      ],
      "metadata": {
        "colab": {
          "base_uri": "https://localhost:8080/"
        },
        "id": "MFSbYa7XkRxR",
        "outputId": "0cfdd1c5-cfd0-4bc8-8058-0be63de60c51"
      },
      "execution_count": null,
      "outputs": [
        {
          "output_type": "stream",
          "name": "stdout",
          "text": [
            "Train: 1044\n",
            "Test: 262\n"
          ]
        }
      ]
    },
    {
      "cell_type": "code",
      "source": [
        "num_unique_words"
      ],
      "metadata": {
        "colab": {
          "base_uri": "https://localhost:8080/"
        },
        "id": "8m__oEhlEA2D",
        "outputId": "8e87fd1d-8c25-4739-dfe9-d454d41cf649"
      },
      "execution_count": null,
      "outputs": [
        {
          "output_type": "execute_result",
          "data": {
            "text/plain": [
              "3789"
            ]
          },
          "metadata": {},
          "execution_count": 8
        }
      ]
    },
    {
      "cell_type": "code",
      "source": [
        "#Convert from Series into Numpy Array\n",
        "train_sentences = x_train.to_numpy()\n",
        "train_labels = y_train.to_numpy()\n",
        "\n",
        "#val_sentences = x_val.to_numpy()\n",
        "#val_labels = y_val.to_numpy()\n",
        "\n",
        "test_sentences = x_test.to_numpy()\n",
        "test_labels = y_test.to_numpy()"
      ],
      "metadata": {
        "id": "BP5i680Ikme7"
      },
      "execution_count": null,
      "outputs": []
    },
    {
      "cell_type": "code",
      "source": [
        "#Tokenization - vectorise a text corpus by converting text into a sequence of integers\n",
        "#this also generates a word index\n",
        "tokenizer = Tokenizer(num_words=num_unique_words)\n",
        "tokenizer.fit_on_texts(train_sentences)\n",
        "\n",
        "word_index = tokenizer.word_index\n",
        "\n",
        "#writing the word index into a text file\n",
        "\n",
        "with open(\"/content/drive/MyDrive/CZ4034/final_data_word_idx.txt\", 'w') as f:\n",
        "    f.write(json.dumps(word_index))"
      ],
      "metadata": {
        "id": "6gpqlJA9ksqh"
      },
      "execution_count": null,
      "outputs": []
    },
    {
      "cell_type": "code",
      "source": [
        "#Converting the text into sequences\n",
        "train_sequences = tokenizer.texts_to_sequences(train_sentences)\n",
        "#val_sequences = tokenizer.texts_to_sequences(val_sentences)\n",
        "test_sequences = tokenizer.texts_to_sequences(test_sentences)\n",
        "\n",
        "#Getting the longest review\n",
        "MAX_LEN = len(max(train_sequences))\n",
        "\n",
        "#Padding the Sequences\n",
        "train_padded = pad_sequences(train_sequences, maxlen=MAX_LEN, padding='post', truncating='post')\n",
        "#val_padded = pad_sequences(val_sequences, maxlen=MAX_LEN, padding='post', truncating='post')\n",
        "test_padded = pad_sequences(test_sequences, maxlen=MAX_LEN, padding='post', truncating='post')"
      ],
      "metadata": {
        "id": "CiDIwKS_kuck"
      },
      "execution_count": null,
      "outputs": []
    },
    {
      "cell_type": "code",
      "source": [
        "print('Train:',train_padded.shape)\n",
        "#print('Val:',val_padded.shape)\n",
        "print('Test:',test_padded.shape)\n",
        "\"\"\"\n",
        "NOTE: \n",
        "  • Train Padded Shape: (1568, 22)\n",
        "  • Valid Padded Shape: (196, 22)\n",
        "  • Test Padded Shape: (392, 22)\n",
        "\"\"\""
      ],
      "metadata": {
        "colab": {
          "base_uri": "https://localhost:8080/",
          "height": 70
        },
        "id": "VersJhRCkxz8",
        "outputId": "fb454173-d70e-43e2-db5d-5bd747fdd4ca"
      },
      "execution_count": null,
      "outputs": [
        {
          "output_type": "stream",
          "name": "stdout",
          "text": [
            "Train: (1044, 40)\n",
            "Test: (262, 40)\n"
          ]
        },
        {
          "output_type": "execute_result",
          "data": {
            "text/plain": [
              "'\\nNOTE: \\n  • Train Padded Shape: (1568, 22)\\n  • Valid Padded Shape: (196, 22)\\n  • Test Padded Shape: (392, 22)\\n'"
            ],
            "application/vnd.google.colaboratory.intrinsic+json": {
              "type": "string"
            }
          },
          "metadata": {},
          "execution_count": 12
        }
      ]
    },
    {
      "cell_type": "code",
      "source": [
        "le = LabelEncoder()\n",
        "train_labels = le.fit_transform(train_labels)\n",
        "#val_labels = le.fit_transform(val_labels)\n",
        "test_labels = le.fit_transform(test_labels)"
      ],
      "metadata": {
        "id": "OhUj1SNykz5U"
      },
      "execution_count": null,
      "outputs": []
    },
    {
      "cell_type": "code",
      "source": [
        "print(f\"Training\")\n",
        "print(f\"0: {list(train_labels).count(0)}\")\n",
        "print(f\"1: {list(train_labels).count(1)}\\n\")\n",
        "\n",
        "#print(\"Val\")\n",
        "#print(f\"0: {list(val_labels).count(0)}\")\n",
        "#print(f\"1: {list(val_labels).count(1)}\\n\")\n",
        "\n",
        "print(\"Test\")\n",
        "print(f\"0: {list(test_labels).count(0)}\")\n",
        "print(f\"1: {list(test_labels).count(1)}\\n\")"
      ],
      "metadata": {
        "colab": {
          "base_uri": "https://localhost:8080/"
        },
        "id": "jmLIYRRgl5yI",
        "outputId": "ab0eab48-7a4e-4692-e4c4-22c0a854e6ed"
      },
      "execution_count": null,
      "outputs": [
        {
          "output_type": "stream",
          "name": "stdout",
          "text": [
            "Training\n",
            "0: 527\n",
            "1: 517\n",
            "\n",
            "Test\n",
            "0: 126\n",
            "1: 136\n",
            "\n"
          ]
        }
      ]
    },
    {
      "cell_type": "markdown",
      "source": [
        "## Model Building"
      ],
      "metadata": {
        "id": "ItBYwhgzla4V"
      }
    },
    {
      "cell_type": "markdown",
      "source": [
        "### RNN"
      ],
      "metadata": {
        "id": "9u9A8l_voFG3"
      }
    },
    {
      "cell_type": "code",
      "source": [
        "#CREATING THE RNN\n",
        "#------------------\n",
        "model = Sequential()\n",
        "\n",
        "#Embedding Layer\n",
        "model.add(Embedding(num_unique_words, 32, input_length=MAX_LEN))\n",
        "model.add(SimpleRNN(128, activation='tanh')) # # of outputs = size of hidden cell = 128\n",
        "model.add(Dense(1, activation='sigmoid'))\n",
        "\n",
        "print(model.summary())\n",
        "\n",
        "#Loss and Optimizer\n",
        "loss = BinaryCrossentropy(from_logits=False) # cuz sigmoid activation fxn is used in the classification layer\n",
        "optimizer = Adam(learning_rate=0.001)\n",
        "metrics = ['accuracy']\n",
        "early_stopping = EarlyStopping(monitor='val_accuracy', min_delta=0, patience=5, mode='auto')\n",
        "\n",
        "#Compiling\n",
        "model.compile(loss=loss, optimizer=optimizer, metrics=metrics)"
      ],
      "metadata": {
        "colab": {
          "base_uri": "https://localhost:8080/"
        },
        "id": "eHbSAASPlX6e",
        "outputId": "e3f92e94-c6e6-497f-b0c6-9564f6a6594a"
      },
      "execution_count": null,
      "outputs": [
        {
          "output_type": "stream",
          "name": "stdout",
          "text": [
            "Model: \"sequential\"\n",
            "_________________________________________________________________\n",
            " Layer (type)                Output Shape              Param #   \n",
            "=================================================================\n",
            " embedding (Embedding)       (None, 40, 32)            121248    \n",
            "                                                                 \n",
            " simple_rnn (SimpleRNN)      (None, 128)               20608     \n",
            "                                                                 \n",
            " dense (Dense)               (None, 1)                 129       \n",
            "                                                                 \n",
            "=================================================================\n",
            "Total params: 141,985\n",
            "Trainable params: 141,985\n",
            "Non-trainable params: 0\n",
            "_________________________________________________________________\n",
            "None\n"
          ]
        }
      ]
    },
    {
      "cell_type": "code",
      "source": [
        "#FOR TIME\n",
        "t0 = time.time()\n",
        "history = model.fit(train_padded, train_labels, epochs=10, batch_size=64, validation_data=(test_padded, test_labels))\n",
        "print(f\"Training Time: {time.time()-t0}\")"
      ],
      "metadata": {
        "colab": {
          "base_uri": "https://localhost:8080/"
        },
        "id": "4deEItlJHoU_",
        "outputId": "9c59d1a2-fa93-4d78-dd05-e95b67b1a45a"
      },
      "execution_count": null,
      "outputs": [
        {
          "output_type": "stream",
          "name": "stdout",
          "text": [
            "Epoch 1/10\n",
            "17/17 [==============================] - 3s 52ms/step - loss: 0.6951 - accuracy: 0.5134 - val_loss: 0.6700 - val_accuracy: 0.6145\n",
            "Epoch 2/10\n",
            "17/17 [==============================] - 1s 31ms/step - loss: 0.5440 - accuracy: 0.7414 - val_loss: 0.7962 - val_accuracy: 0.5725\n",
            "Epoch 3/10\n",
            "17/17 [==============================] - 0s 27ms/step - loss: 0.3279 - accuracy: 0.8659 - val_loss: 0.7020 - val_accuracy: 0.6603\n",
            "Epoch 4/10\n",
            "17/17 [==============================] - 0s 29ms/step - loss: 0.1389 - accuracy: 0.9626 - val_loss: 0.7691 - val_accuracy: 0.6565\n",
            "Epoch 5/10\n",
            "17/17 [==============================] - 0s 28ms/step - loss: 0.0637 - accuracy: 0.9856 - val_loss: 0.8083 - val_accuracy: 0.6908\n",
            "Epoch 6/10\n",
            "17/17 [==============================] - 0s 29ms/step - loss: 0.0339 - accuracy: 0.9952 - val_loss: 0.8360 - val_accuracy: 0.7061\n",
            "Epoch 7/10\n",
            "17/17 [==============================] - 1s 30ms/step - loss: 0.0140 - accuracy: 0.9990 - val_loss: 0.8809 - val_accuracy: 0.6832\n",
            "Epoch 8/10\n",
            "17/17 [==============================] - 0s 28ms/step - loss: 0.0053 - accuracy: 1.0000 - val_loss: 0.9417 - val_accuracy: 0.6947\n",
            "Epoch 9/10\n",
            "17/17 [==============================] - 0s 29ms/step - loss: 0.0027 - accuracy: 1.0000 - val_loss: 0.9475 - val_accuracy: 0.6985\n",
            "Epoch 10/10\n",
            "17/17 [==============================] - 1s 29ms/step - loss: 0.0018 - accuracy: 1.0000 - val_loss: 0.9599 - val_accuracy: 0.7099\n",
            "Training Time: 12.708850383758545\n"
          ]
        }
      ]
    },
    {
      "cell_type": "code",
      "source": [
        "t0 = time.time()\n",
        "history = model.fit(train_padded, train_labels, epochs=10, batch_size=64, validation_data=(test_padded, test_labels))\n",
        "print(f\"Training Time: {time.time()-t0}\")"
      ],
      "metadata": {
        "colab": {
          "base_uri": "https://localhost:8080/"
        },
        "id": "Y88gUNAqlZdQ",
        "outputId": "c7736f36-05b2-4a12-ba26-8de6288ed8cd"
      },
      "execution_count": null,
      "outputs": [
        {
          "output_type": "stream",
          "name": "stdout",
          "text": [
            "Epoch 1/10\n",
            "17/17 [==============================] - 3s 47ms/step - loss: 0.6840 - accuracy: 0.5603 - val_loss: 0.6733 - val_accuracy: 0.5687\n",
            "Epoch 2/10\n",
            "17/17 [==============================] - 0s 28ms/step - loss: 0.4942 - accuracy: 0.7874 - val_loss: 0.7378 - val_accuracy: 0.6031\n",
            "Epoch 3/10\n",
            "17/17 [==============================] - 0s 29ms/step - loss: 0.2602 - accuracy: 0.9071 - val_loss: 0.6728 - val_accuracy: 0.6908\n",
            "Epoch 4/10\n",
            "17/17 [==============================] - 1s 31ms/step - loss: 0.1028 - accuracy: 0.9799 - val_loss: 0.8120 - val_accuracy: 0.6527\n",
            "Epoch 5/10\n",
            "17/17 [==============================] - 0s 28ms/step - loss: 0.0532 - accuracy: 0.9885 - val_loss: 0.8720 - val_accuracy: 0.6718\n",
            "Epoch 6/10\n",
            "17/17 [==============================] - 0s 29ms/step - loss: 0.0287 - accuracy: 0.9971 - val_loss: 0.8720 - val_accuracy: 0.6756\n",
            "Epoch 7/10\n",
            "17/17 [==============================] - 1s 34ms/step - loss: 0.0117 - accuracy: 0.9990 - val_loss: 1.0195 - val_accuracy: 0.6794\n",
            "Epoch 8/10\n",
            "17/17 [==============================] - 1s 43ms/step - loss: 0.0461 - accuracy: 0.9875 - val_loss: 1.2068 - val_accuracy: 0.5954\n",
            "Epoch 9/10\n",
            "17/17 [==============================] - 1s 40ms/step - loss: 0.0198 - accuracy: 0.9981 - val_loss: 0.9758 - val_accuracy: 0.6565\n",
            "Epoch 10/10\n",
            "17/17 [==============================] - 1s 43ms/step - loss: 0.0073 - accuracy: 0.9990 - val_loss: 1.0530 - val_accuracy: 0.6450\n"
          ]
        }
      ]
    },
    {
      "cell_type": "code",
      "source": [
        "with open('/content/drive/MyDrive/CZ4034/RNN/hist_RNN.txt', 'w') as convert_file:\n",
        "     convert_file.write(json.dumps(history.history))"
      ],
      "metadata": {
        "id": "THopSYKoosVO"
      },
      "execution_count": null,
      "outputs": []
    },
    {
      "cell_type": "code",
      "source": [
        "#PLOTTING THE CURVES\n",
        "epochs = range(1,11)\n",
        "\n",
        "#Plotting the Accuracy Curves\n",
        "train_accuracy = history.history['accuracy']\n",
        "val_accuracy = history.history['val_accuracy']\n",
        "\n",
        "plt.plot(epochs,train_accuracy, 'b', label='Training Accuracy')\n",
        "plt.plot(epochs,val_accuracy, 'r', label='Test Accuracy')\n",
        "plt.title('Accuracy Curves for RNN')\n",
        "plt.legend()\n",
        "plt.figure()\n",
        "plt.savefig('/content/drive/MyDrive/CZ4034/RNN/RNN_try1_Accuracy.png')"
      ],
      "metadata": {
        "colab": {
          "base_uri": "https://localhost:8080/",
          "height": 470
        },
        "id": "GR7NrWoDpIr9",
        "outputId": "ca91917e-c968-4836-c361-7d6575b19338"
      },
      "execution_count": null,
      "outputs": [
        {
          "output_type": "display_data",
          "data": {
            "text/plain": [
              "<Figure size 640x480 with 1 Axes>"
            ],
            "image/png": "[encoded data removed]"
          },
          "metadata": {}
        },
        {
          "output_type": "display_data",
          "data": {
            "text/plain": [
              "<Figure size 640x480 with 0 Axes>"
            ]
          },
          "metadata": {}
        }
      ]
    },
    {
      "cell_type": "code",
      "source": [
        "#Plotting the Loss Curves\n",
        "train_loss = history.history['loss']\n",
        "val_loss = history.history['val_loss']\n",
        "\n",
        "plt.plot(epochs,train_loss, 'b', label='Training Loss')\n",
        "plt.plot(epochs,val_loss, 'r', label='Test Loss')\n",
        "plt.title('Loss Curves for RNN')\n",
        "plt.legend()\n",
        "plt.show()\n",
        "plt.savefig('/content/drive/MyDrive/CZ4034/RNN/RNN_try1_Loss.png')"
      ],
      "metadata": {
        "colab": {
          "base_uri": "https://localhost:8080/",
          "height": 470
        },
        "id": "Fuyc7-SvpQ-F",
        "outputId": "12a4fdef-7a71-48df-e9b8-cdf78d9bd7cf"
      },
      "execution_count": null,
      "outputs": [
        {
          "output_type": "display_data",
          "data": {
            "text/plain": [
              "<Figure size 640x480 with 1 Axes>"
            ],
            "image/png": "[encoded data removed]"
          },
          "metadata": {}
        },
        {
          "output_type": "display_data",
          "data": {
            "text/plain": [
              "<Figure size 640x480 with 0 Axes>"
            ]
          },
          "metadata": {}
        }
      ]
    },
    {
      "cell_type": "code",
      "source": [
        "#FOR TIME - ran the inference just to know the time it takes\n",
        "t1 = time.time()\n",
        "scores = model.evaluate(test_padded, test_labels, verbose=1,batch_size = 64)\n",
        "print(\"Accuracy: %.2f%%\" % (scores[1]*100), f\"Inference Time: {time.time()-t1}\")"
      ],
      "metadata": {
        "colab": {
          "base_uri": "https://localhost:8080/"
        },
        "id": "UHFdn0vNH3sD",
        "outputId": "5f2dacd3-d2cd-4f10-ba82-ff1d616564b1"
      },
      "execution_count": null,
      "outputs": [
        {
          "output_type": "stream",
          "name": "stdout",
          "text": [
            "5/5 [==============================] - 0s 9ms/step - loss: 0.9599 - accuracy: 0.7099\n",
            "Accuracy: 70.99% Inference Time: 0.17435169219970703\n"
          ]
        }
      ]
    },
    {
      "cell_type": "code",
      "source": [
        "scores = model.evaluate(test_padded, test_labels, verbose=1,batch_size = 64)\n",
        "print(\"Accuracy: %.2f%%\" % (scores[1]*100))"
      ],
      "metadata": {
        "colab": {
          "base_uri": "https://localhost:8080/"
        },
        "id": "CYp8glANurGx",
        "outputId": "326bb838-35c0-4945-ee0c-d9dd78358bcc"
      },
      "execution_count": null,
      "outputs": [
        {
          "output_type": "stream",
          "name": "stdout",
          "text": [
            "5/5 [==============================] - 0s 11ms/step - loss: 1.0530 - accuracy: 0.6450\n",
            "Accuracy: 64.50%\n"
          ]
        }
      ]
    },
    {
      "cell_type": "code",
      "source": [
        "predictions = model.predict(test_padded)\n",
        "predictions = [1 if p > 0.5 else 0 for p in predictions]"
      ],
      "metadata": {
        "colab": {
          "base_uri": "https://localhost:8080/"
        },
        "id": "kNCS8TWgpWUr",
        "outputId": "c039a93d-eedc-4a4a-d0d4-65494ba24e9a"
      },
      "execution_count": null,
      "outputs": [
        {
          "output_type": "stream",
          "name": "stdout",
          "text": [
            "9/9 [==============================] - 0s 8ms/step\n"
          ]
        }
      ]
    },
    {
      "cell_type": "code",
      "source": [
        "from sklearn.metrics import confusion_matrix, classification_report\n",
        "\n",
        "conf_matrix = confusion_matrix(test_labels, predictions)\n",
        "tn, fp, fn, tp = conf_matrix.ravel()"
      ],
      "metadata": {
        "id": "6K7z5r14pmUM"
      },
      "execution_count": null,
      "outputs": []
    },
    {
      "cell_type": "code",
      "source": [
        "print(classification_report(test_labels, predictions))"
      ],
      "metadata": {
        "colab": {
          "base_uri": "https://localhost:8080/"
        },
        "id": "gdPDvUHEORik",
        "outputId": "43154b28-788f-44a1-aa37-f31ac2b95736"
      },
      "execution_count": null,
      "outputs": [
        {
          "output_type": "stream",
          "name": "stdout",
          "text": [
            "              precision    recall  f1-score   support\n",
            "\n",
            "           0       0.64      0.69      0.66       126\n",
            "           1       0.69      0.63      0.66       136\n",
            "\n",
            "    accuracy                           0.66       262\n",
            "   macro avg       0.66      0.66      0.66       262\n",
            "weighted avg       0.66      0.66      0.66       262\n",
            "\n"
          ]
        }
      ]
    },
    {
      "cell_type": "code",
      "source": [
        "print(f\"True Positives: {tp}\")\n",
        "print(f\"True Negatives: {tn}\")\n",
        "print(f\"False Positives: {fp}\")\n",
        "print(f\"False Negatives: {fn}\")"
      ],
      "metadata": {
        "colab": {
          "base_uri": "https://localhost:8080/"
        },
        "id": "_kL0eAP7polo",
        "outputId": "830e5d0c-78d1-4a59-adac-7bdee75c663e"
      },
      "execution_count": null,
      "outputs": [
        {
          "output_type": "stream",
          "name": "stdout",
          "text": [
            "True Positives: 86\n",
            "True Negatives: 87\n",
            "False Positives: 39\n",
            "False Negatives: 50\n"
          ]
        }
      ]
    },
    {
      "cell_type": "code",
      "source": [
        "!pip install clean-text"
      ],
      "metadata": {
        "colab": {
          "base_uri": "https://localhost:8080/"
        },
        "id": "RcT2_vJqpvv9",
        "outputId": "c6d0ee63-92f4-4d9a-c063-1c2ef8246528"
      },
      "execution_count": null,
      "outputs": [
        {
          "output_type": "stream",
          "name": "stdout",
          "text": [
            "Looking in indexes: https://pypi.org/simple, https://us-python.pkg.dev/colab-wheels/public/simple/\n",
            "Collecting clean-text\n",
            "  Downloading clean_text-0.6.0-py3-none-any.whl (11 kB)\n",
            "Collecting emoji<2.0.0,>=1.0.0\n",
            "  Downloading emoji-1.7.0.tar.gz (175 kB)\n",
            "\u001b[2K     \u001b[90m━━━━━━━━━━━━━━━━━━━━━━━━━━━━━━━━━━━━━━━\u001b[0m \u001b[32m175.4/175.4 KB\u001b[0m \u001b[31m4.3 MB/s\u001b[0m eta \u001b[36m0:00:00\u001b[0m\n",
            "\u001b[?25h  Preparing metadata (setup.py) ... \u001b[?25l\u001b[?25hdone\n",
            "Collecting ftfy<7.0,>=6.0\n",
            "  Downloading ftfy-6.1.1-py3-none-any.whl (53 kB)\n",
            "\u001b[2K     \u001b[90m━━━━━━━━━━━━━━━━━━━━━━━━━━━━━━━━━━━━━━━━\u001b[0m \u001b[32m53.1/53.1 KB\u001b[0m \u001b[31m6.0 MB/s\u001b[0m eta \u001b[36m0:00:00\u001b[0m\n",
            "\u001b[?25hRequirement already satisfied: wcwidth>=0.2.5 in /usr/local/lib/python3.9/dist-packages (from ftfy<7.0,>=6.0->clean-text) (0.2.6)\n",
            "Building wheels for collected packages: emoji\n",
            "  Building wheel for emoji (setup.py) ... \u001b[?25l\u001b[?25hdone\n",
            "  Created wheel for emoji: filename=emoji-1.7.0-py3-none-any.whl size=171048 sha256=e1466ca796935f0f6007acd456f48a5e3181ceaa60365cd2ed50e99da973f081\n",
            "  Stored in directory: /root/.cache/pip/wheels/fa/7a/e9/22dd0515e1bad255e51663ee513a2fa839c95934c5fc301090\n",
            "Successfully built emoji\n",
            "Installing collected packages: emoji, ftfy, clean-text\n",
            "Successfully installed clean-text-0.6.0 emoji-1.7.0 ftfy-6.1.1\n"
          ]
        }
      ]
    },
    {
      "cell_type": "code",
      "source": [
        "#Function to process the test sample in the same way as the data processing of training\n",
        "import numpy as np\n",
        "from cleantext import clean\n",
        "\n",
        "#takes in a string(text) and returns a padded sequence \n",
        "def process_eval_sample(text):\n",
        "  text = clean(text, no_emoji=True, no_punct=True, lower=True)\n",
        "  text = text.split(\" \")\n",
        "  sentence = np.array(text)\n",
        "  sequence = tokenizer.texts_to_sequences(sentence)\n",
        "  padded_sequence = pad_sequences(sequence, maxlen=MAX_LEN, padding='post', truncating='post')\n",
        "\n",
        "  return padded_sequence\n",
        "\n",
        "#takes in a padded sequence and returns an integer (0 or 1) for the label\n",
        "def predict_test_sample(padded_seq):\n",
        "  predictions = model.predict(padded_seq)[0]\n",
        "  print(f\"Predicted Value: {predictions}\")\n",
        "  pred_values = [1 if p>=0.5 else 0 for p in predictions]\n",
        "  pred_label = max(pred_values)\n",
        "\n",
        "  return pred_label"
      ],
      "metadata": {
        "id": "7LrjWqqppzaa",
        "colab": {
          "base_uri": "https://localhost:8080/"
        },
        "outputId": "2613cc57-a880-4fb7-8063-8f95496d8153"
      },
      "execution_count": null,
      "outputs": [
        {
          "output_type": "stream",
          "name": "stderr",
          "text": [
            "WARNING:root:Since the GPL-licensed package `unidecode` is not installed, using Python's `unicodedata` package which yields worse results.\n"
          ]
        }
      ]
    },
    {
      "cell_type": "code",
      "source": [
        "eval2_text = \"I purchased this cream in hopes it would be good. It definitely hydrates my skin, but it does leave my face really shiny as if it’s oily. Not happy with this look and so I’ve ended up just using it only at night. Or, if I know I’m not venturing out anywhere, I’ll apply it on. May not purchase this again.\"\n",
        "gt2_label = '0'\n",
        "\n",
        "eval2 = process_eval_sample(eval2_text)\n",
        "eval2_label = predict_test_sample(eval2)\n",
        "\n",
        "print(f\"Predictions: {model.predict(eval2)[0]}\")\n",
        "print(f\"Eval Sample 2: {eval2_text}\")\n",
        "print(f\"Ground Truth Label: {gt2_label}\")\n",
        "print(f\"Predicted Label: {eval2_label}\")"
      ],
      "metadata": {
        "colab": {
          "base_uri": "https://localhost:8080/"
        },
        "id": "agdE82Qmp4MC",
        "outputId": "18ced3d7-3104-447f-8f87-7ab246b61760"
      },
      "execution_count": null,
      "outputs": [
        {
          "output_type": "stream",
          "name": "stdout",
          "text": [
            "2/2 [==============================] - 0s 9ms/step\n",
            "Predicted Value: [0.03201269]\n",
            "2/2 [==============================] - 0s 8ms/step\n",
            "Predictions: [0.03201269]\n",
            "Eval Sample 2: I purchased this cream in hopes it would be good. It definitely hydrates my skin, but it does leave my face really shiny as if it’s oily. Not happy with this look and so I’ve ended up just using it only at night. Or, if I know I’m not venturing out anywhere, I’ll apply it on. May not purchase this again.\n",
            "Ground Truth Label: 0\n",
            "Predicted Label: 0\n"
          ]
        }
      ]
    },
    {
      "cell_type": "code",
      "source": [
        "eval3_text = \"Love this\"\n",
        "gt3_label = '1'\n",
        "\n",
        "eval3 = process_eval_sample(eval3_text)\n",
        "eval3_label = predict_test_sample(eval3)\n",
        "\n",
        "print(f\"Eval Sample 3: {eval3_text}\")\n",
        "print(f\"Ground Truth Label: {gt3_label}\")\n",
        "print(f\"Predicted Label: {eval3_label}\")"
      ],
      "metadata": {
        "colab": {
          "base_uri": "https://localhost:8080/"
        },
        "id": "h_dCuI9bp6Vp",
        "outputId": "dea6306b-40a5-4795-d3ba-1d451b2b9a89"
      },
      "execution_count": null,
      "outputs": [
        {
          "output_type": "stream",
          "name": "stdout",
          "text": [
            "1/1 [==============================] - 0s 27ms/step\n",
            "Predicted Value: [0.9999508]\n",
            "Eval Sample 3: Love this\n",
            "Ground Truth Label: 1\n",
            "Predicted Label: 1\n"
          ]
        }
      ]
    },
    {
      "cell_type": "code",
      "source": [
        "model.save('/content/drive/MyDrive/CZ4034/RNN/model.hdf5')"
      ],
      "metadata": {
        "id": "H1cMQcoy42x4"
      },
      "execution_count": null,
      "outputs": []
    },
    {
      "cell_type": "code",
      "source": [],
      "metadata": {
        "id": "fL_rcDcl48Pa"
      },
      "execution_count": null,
      "outputs": []
    }
  ]
}