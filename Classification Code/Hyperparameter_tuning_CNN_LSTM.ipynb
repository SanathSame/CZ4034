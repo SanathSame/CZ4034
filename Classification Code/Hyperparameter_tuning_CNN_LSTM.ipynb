{
  "nbformat": 4,
  "nbformat_minor": 0,
  "metadata": {
    "colab": {
      "provenance": []
    },
    "kernelspec": {
      "name": "python3",
      "display_name": "Python 3"
    },
    "language_info": {
      "name": "python"
    },
    "accelerator": "GPU",
    "gpuClass": "standard"
  },
  "cells": [
    {
      "cell_type": "markdown",
      "source": [
        "# Hyperparameter Tuning - CNN+LSTM"
      ],
      "metadata": {
        "id": "vacJsEW1YXcu"
      }
    },
    {
      "cell_type": "markdown",
      "source": [
        "## Imports"
      ],
      "metadata": {
        "id": "06fywkE8Yjxf"
      }
    },
    {
      "cell_type": "code",
      "source": [
        "!pip install keras-tuner"
      ],
      "metadata": {
        "colab": {
          "base_uri": "https://localhost:8080/"
        },
        "id": "bhwh3oetZh_4",
        "outputId": "eb244d77-3c09-401d-e610-4311dac673f2"
      },
      "execution_count": null,
      "outputs": [
        {
          "output_type": "stream",
          "name": "stdout",
          "text": [
            "Looking in indexes: https://pypi.org/simple, https://us-python.pkg.dev/colab-wheels/public/simple/\n",
            "Collecting keras-tuner\n",
            "  Downloading keras_tuner-1.3.4-py3-none-any.whl (172 kB)\n",
            "\u001b[2K     \u001b[90m━━━━━━━━━━━━━━━━━━━━━━━━━━━━━━━━━━━━━━━\u001b[0m \u001b[32m172.2/172.2 KB\u001b[0m \u001b[31m1.4 MB/s\u001b[0m eta \u001b[36m0:00:00\u001b[0m\n",
            "\u001b[?25hRequirement already satisfied: protobuf<=3.20.3 in /usr/local/lib/python3.9/dist-packages (from keras-tuner) (3.20.3)\n",
            "Requirement already satisfied: requests in /usr/local/lib/python3.9/dist-packages (from keras-tuner) (2.27.1)\n",
            "Collecting kt-legacy\n",
            "  Downloading kt_legacy-1.0.4-py3-none-any.whl (9.6 kB)\n",
            "Requirement already satisfied: packaging in /usr/local/lib/python3.9/dist-packages (from keras-tuner) (23.0)\n",
            "Requirement already satisfied: tensorflow>=2.0 in /usr/local/lib/python3.9/dist-packages (from keras-tuner) (2.12.0)\n",
            "Requirement already satisfied: tensorflow-io-gcs-filesystem>=0.23.1 in /usr/local/lib/python3.9/dist-packages (from tensorflow>=2.0->keras-tuner) (0.32.0)\n",
            "Requirement already satisfied: numpy<1.24,>=1.22 in /usr/local/lib/python3.9/dist-packages (from tensorflow>=2.0->keras-tuner) (1.22.4)\n",
            "Requirement already satisfied: setuptools in /usr/local/lib/python3.9/dist-packages (from tensorflow>=2.0->keras-tuner) (67.6.1)\n",
            "Requirement already satisfied: google-pasta>=0.1.1 in /usr/local/lib/python3.9/dist-packages (from tensorflow>=2.0->keras-tuner) (0.2.0)\n",
            "Requirement already satisfied: jax>=0.3.15 in /usr/local/lib/python3.9/dist-packages (from tensorflow>=2.0->keras-tuner) (0.4.7)\n",
            "Requirement already satisfied: typing-extensions>=3.6.6 in /usr/local/lib/python3.9/dist-packages (from tensorflow>=2.0->keras-tuner) (4.5.0)\n",
            "Requirement already satisfied: absl-py>=1.0.0 in /usr/local/lib/python3.9/dist-packages (from tensorflow>=2.0->keras-tuner) (1.4.0)\n",
            "Requirement already satisfied: flatbuffers>=2.0 in /usr/local/lib/python3.9/dist-packages (from tensorflow>=2.0->keras-tuner) (23.3.3)\n",
            "Requirement already satisfied: h5py>=2.9.0 in /usr/local/lib/python3.9/dist-packages (from tensorflow>=2.0->keras-tuner) (3.8.0)\n",
            "Requirement already satisfied: tensorboard<2.13,>=2.12 in /usr/local/lib/python3.9/dist-packages (from tensorflow>=2.0->keras-tuner) (2.12.1)\n",
            "Requirement already satisfied: tensorflow-estimator<2.13,>=2.12.0 in /usr/local/lib/python3.9/dist-packages (from tensorflow>=2.0->keras-tuner) (2.12.0)\n",
            "Requirement already satisfied: astunparse>=1.6.0 in /usr/local/lib/python3.9/dist-packages (from tensorflow>=2.0->keras-tuner) (1.6.3)\n",
            "Requirement already satisfied: six>=1.12.0 in /usr/local/lib/python3.9/dist-packages (from tensorflow>=2.0->keras-tuner) (1.16.0)\n",
            "Requirement already satisfied: libclang>=13.0.0 in /usr/local/lib/python3.9/dist-packages (from tensorflow>=2.0->keras-tuner) (16.0.0)\n",
            "Requirement already satisfied: wrapt<1.15,>=1.11.0 in /usr/local/lib/python3.9/dist-packages (from tensorflow>=2.0->keras-tuner) (1.14.1)\n",
            "Requirement already satisfied: termcolor>=1.1.0 in /usr/local/lib/python3.9/dist-packages (from tensorflow>=2.0->keras-tuner) (2.2.0)\n",
            "Requirement already satisfied: grpcio<2.0,>=1.24.3 in /usr/local/lib/python3.9/dist-packages (from tensorflow>=2.0->keras-tuner) (1.53.0)\n",
            "Requirement already satisfied: gast<=0.4.0,>=0.2.1 in /usr/local/lib/python3.9/dist-packages (from tensorflow>=2.0->keras-tuner) (0.4.0)\n",
            "Requirement already satisfied: opt-einsum>=2.3.2 in /usr/local/lib/python3.9/dist-packages (from tensorflow>=2.0->keras-tuner) (3.3.0)\n",
            "Requirement already satisfied: keras<2.13,>=2.12.0 in /usr/local/lib/python3.9/dist-packages (from tensorflow>=2.0->keras-tuner) (2.12.0)\n",
            "Requirement already satisfied: idna<4,>=2.5 in /usr/local/lib/python3.9/dist-packages (from requests->keras-tuner) (3.4)\n",
            "Requirement already satisfied: charset-normalizer~=2.0.0 in /usr/local/lib/python3.9/dist-packages (from requests->keras-tuner) (2.0.12)\n",
            "Requirement already satisfied: certifi>=2017.4.17 in /usr/local/lib/python3.9/dist-packages (from requests->keras-tuner) (2022.12.7)\n",
            "Requirement already satisfied: urllib3<1.27,>=1.21.1 in /usr/local/lib/python3.9/dist-packages (from requests->keras-tuner) (1.26.15)\n",
            "Requirement already satisfied: wheel<1.0,>=0.23.0 in /usr/local/lib/python3.9/dist-packages (from astunparse>=1.6.0->tensorflow>=2.0->keras-tuner) (0.40.0)\n",
            "Requirement already satisfied: scipy>=1.7 in /usr/local/lib/python3.9/dist-packages (from jax>=0.3.15->tensorflow>=2.0->keras-tuner) (1.10.1)\n",
            "Requirement already satisfied: ml-dtypes>=0.0.3 in /usr/local/lib/python3.9/dist-packages (from jax>=0.3.15->tensorflow>=2.0->keras-tuner) (0.0.4)\n",
            "Requirement already satisfied: tensorboard-data-server<0.8.0,>=0.7.0 in /usr/local/lib/python3.9/dist-packages (from tensorboard<2.13,>=2.12->tensorflow>=2.0->keras-tuner) (0.7.0)\n",
            "Requirement already satisfied: werkzeug>=1.0.1 in /usr/local/lib/python3.9/dist-packages (from tensorboard<2.13,>=2.12->tensorflow>=2.0->keras-tuner) (2.2.3)\n",
            "Requirement already satisfied: tensorboard-plugin-wit>=1.6.0 in /usr/local/lib/python3.9/dist-packages (from tensorboard<2.13,>=2.12->tensorflow>=2.0->keras-tuner) (1.8.1)\n",
            "Requirement already satisfied: markdown>=2.6.8 in /usr/local/lib/python3.9/dist-packages (from tensorboard<2.13,>=2.12->tensorflow>=2.0->keras-tuner) (3.4.3)\n",
            "Requirement already satisfied: google-auth-oauthlib<1.1,>=0.5 in /usr/local/lib/python3.9/dist-packages (from tensorboard<2.13,>=2.12->tensorflow>=2.0->keras-tuner) (1.0.0)\n",
            "Requirement already satisfied: google-auth<3,>=1.6.3 in /usr/local/lib/python3.9/dist-packages (from tensorboard<2.13,>=2.12->tensorflow>=2.0->keras-tuner) (2.17.1)\n",
            "Requirement already satisfied: cachetools<6.0,>=2.0.0 in /usr/local/lib/python3.9/dist-packages (from google-auth<3,>=1.6.3->tensorboard<2.13,>=2.12->tensorflow>=2.0->keras-tuner) (5.3.0)\n",
            "Requirement already satisfied: rsa<5,>=3.1.4 in /usr/local/lib/python3.9/dist-packages (from google-auth<3,>=1.6.3->tensorboard<2.13,>=2.12->tensorflow>=2.0->keras-tuner) (4.9)\n",
            "Requirement already satisfied: pyasn1-modules>=0.2.1 in /usr/local/lib/python3.9/dist-packages (from google-auth<3,>=1.6.3->tensorboard<2.13,>=2.12->tensorflow>=2.0->keras-tuner) (0.2.8)\n",
            "Requirement already satisfied: requests-oauthlib>=0.7.0 in /usr/local/lib/python3.9/dist-packages (from google-auth-oauthlib<1.1,>=0.5->tensorboard<2.13,>=2.12->tensorflow>=2.0->keras-tuner) (1.3.1)\n",
            "Requirement already satisfied: importlib-metadata>=4.4 in /usr/local/lib/python3.9/dist-packages (from markdown>=2.6.8->tensorboard<2.13,>=2.12->tensorflow>=2.0->keras-tuner) (6.1.0)\n",
            "Requirement already satisfied: MarkupSafe>=2.1.1 in /usr/local/lib/python3.9/dist-packages (from werkzeug>=1.0.1->tensorboard<2.13,>=2.12->tensorflow>=2.0->keras-tuner) (2.1.2)\n",
            "Requirement already satisfied: zipp>=0.5 in /usr/local/lib/python3.9/dist-packages (from importlib-metadata>=4.4->markdown>=2.6.8->tensorboard<2.13,>=2.12->tensorflow>=2.0->keras-tuner) (3.15.0)\n",
            "Requirement already satisfied: pyasn1<0.5.0,>=0.4.6 in /usr/local/lib/python3.9/dist-packages (from pyasn1-modules>=0.2.1->google-auth<3,>=1.6.3->tensorboard<2.13,>=2.12->tensorflow>=2.0->keras-tuner) (0.4.8)\n",
            "Requirement already satisfied: oauthlib>=3.0.0 in /usr/local/lib/python3.9/dist-packages (from requests-oauthlib>=0.7.0->google-auth-oauthlib<1.1,>=0.5->tensorboard<2.13,>=2.12->tensorflow>=2.0->keras-tuner) (3.2.2)\n",
            "Installing collected packages: kt-legacy, keras-tuner\n",
            "Successfully installed keras-tuner-1.3.4 kt-legacy-1.0.4\n"
          ]
        }
      ]
    },
    {
      "cell_type": "code",
      "source": [
        "!pip install clean-text"
      ],
      "metadata": {
        "colab": {
          "base_uri": "https://localhost:8080/"
        },
        "id": "RIzXkbXo-Nz3",
        "outputId": "e70d3d2d-a584-4ef3-a464-c542d7b27fa6"
      },
      "execution_count": null,
      "outputs": [
        {
          "output_type": "stream",
          "name": "stdout",
          "text": [
            "Looking in indexes: https://pypi.org/simple, https://us-python.pkg.dev/colab-wheels/public/simple/\n",
            "Collecting clean-text\n",
            "  Downloading clean_text-0.6.0-py3-none-any.whl (11 kB)\n",
            "Collecting emoji<2.0.0,>=1.0.0\n",
            "  Downloading emoji-1.7.0.tar.gz (175 kB)\n",
            "\u001b[2K     \u001b[90m━━━━━━━━━━━━━━━━━━━━━━━━━━━━━━━━━━━━━━━\u001b[0m \u001b[32m175.4/175.4 KB\u001b[0m \u001b[31m8.9 MB/s\u001b[0m eta \u001b[36m0:00:00\u001b[0m\n",
            "\u001b[?25h  Preparing metadata (setup.py) ... \u001b[?25l\u001b[?25hdone\n",
            "Collecting ftfy<7.0,>=6.0\n",
            "  Downloading ftfy-6.1.1-py3-none-any.whl (53 kB)\n",
            "\u001b[2K     \u001b[90m━━━━━━━━━━━━━━━━━━━━━━━━━━━━━━━━━━━━━━━━\u001b[0m \u001b[32m53.1/53.1 KB\u001b[0m \u001b[31m8.1 MB/s\u001b[0m eta \u001b[36m0:00:00\u001b[0m\n",
            "\u001b[?25hRequirement already satisfied: wcwidth>=0.2.5 in /usr/local/lib/python3.9/dist-packages (from ftfy<7.0,>=6.0->clean-text) (0.2.6)\n",
            "Building wheels for collected packages: emoji\n",
            "  Building wheel for emoji (setup.py) ... \u001b[?25l\u001b[?25hdone\n",
            "  Created wheel for emoji: filename=emoji-1.7.0-py3-none-any.whl size=171048 sha256=851c09c57553724da0530820230ddad8a3bd215f1bae5d7ce7cea121704d11ab\n",
            "  Stored in directory: /root/.cache/pip/wheels/fa/7a/e9/22dd0515e1bad255e51663ee513a2fa839c95934c5fc301090\n",
            "Successfully built emoji\n",
            "Installing collected packages: emoji, ftfy, clean-text\n",
            "Successfully installed clean-text-0.6.0 emoji-1.7.0 ftfy-6.1.1\n"
          ]
        }
      ]
    },
    {
      "cell_type": "code",
      "source": [
        "#importing necessary libraries\n",
        "import pandas as pd\n",
        "import numpy as np\n",
        "import matplotlib.pyplot as plt\n",
        "import seaborn as sb\n",
        "import matplotlib.pyplot as plt\n",
        "import nltk\n",
        "nltk.download('punkt')\n",
        "\n",
        "import tensorflow as tf\n",
        "from tensorflow.keras.callbacks import EarlyStopping\n",
        "from tensorflow.keras.preprocessing.sequence import pad_sequences\n",
        "from tensorflow.keras.preprocessing.text import Tokenizer\n",
        "from tensorflow.keras.losses import BinaryCrossentropy\n",
        "from tensorflow.keras.optimizers import Adam\n",
        "from sklearn.preprocessing import LabelEncoder\n",
        "from sklearn.model_selection import train_test_split\n",
        "from tensorflow.keras import layers\n",
        "from tensorflow.keras.models import *\n",
        "from tensorflow.keras.layers import *\n",
        "from tensorflow.keras.models import Sequential\n",
        "from tensorflow.keras.layers import Dense\n",
        "from tensorflow.keras.layers import Dropout\n",
        "from tensorflow.keras.layers import Flatten\n",
        "from collections import Counter\n",
        "from keras_tuner import RandomSearch\n",
        "from keras_tuner.engine.hyperparameters import hyperparameters\n",
        "import json"
      ],
      "metadata": {
        "colab": {
          "base_uri": "https://localhost:8080/"
        },
        "id": "O9zqvqDMYZoV",
        "outputId": "2bfad90f-1e03-4b44-8138-26acca11b78e"
      },
      "execution_count": null,
      "outputs": [
        {
          "output_type": "stream",
          "name": "stderr",
          "text": [
            "[nltk_data] Downloading package punkt to /root/nltk_data...\n",
            "[nltk_data]   Unzipping tokenizers/punkt.zip.\n"
          ]
        }
      ]
    },
    {
      "cell_type": "markdown",
      "source": [
        "## Mounting the drive"
      ],
      "metadata": {
        "id": "_IkhzQsnYySb"
      }
    },
    {
      "cell_type": "code",
      "source": [
        "from google.colab import drive\n",
        "drive.mount('/content/drive')"
      ],
      "metadata": {
        "colab": {
          "base_uri": "https://localhost:8080/"
        },
        "id": "iJxZTjlEY0a3",
        "outputId": "022bf4b5-f100-4dcd-e309-b9a89a313e87"
      },
      "execution_count": null,
      "outputs": [
        {
          "output_type": "stream",
          "name": "stdout",
          "text": [
            "Mounted at /content/drive\n"
          ]
        }
      ]
    },
    {
      "cell_type": "markdown",
      "source": [
        "## Loading the Data"
      ],
      "metadata": {
        "id": "-x5wcsQ3YsZ0"
      }
    },
    {
      "cell_type": "code",
      "source": [
        "#Loading the Dataset\n",
        "dataset = pd.read_csv('/content/drive/MyDrive/CZ4034/final_dataset.csv')\n",
        "dataset.drop('Unnamed: 0', axis=1, inplace=True)\n",
        "\n",
        "# # of rows = 5000, # of cols = 2\n",
        "print(dataset.shape)"
      ],
      "metadata": {
        "colab": {
          "base_uri": "https://localhost:8080/"
        },
        "id": "fIs4O7o9YlyG",
        "outputId": "15554555-07d2-4a5c-8b1e-31aae318e5f3"
      },
      "execution_count": null,
      "outputs": [
        {
          "output_type": "stream",
          "name": "stdout",
          "text": [
            "(1306, 2)\n"
          ]
        }
      ]
    },
    {
      "cell_type": "code",
      "source": [
        "#Exploring the Dataset\n",
        "print(dataset['flair_labels'].value_counts())"
      ],
      "metadata": {
        "colab": {
          "base_uri": "https://localhost:8080/"
        },
        "id": "Mabw_j8VY79A",
        "outputId": "bd3fc61a-891d-4177-c44d-a24e63d091b2"
      },
      "execution_count": null,
      "outputs": [
        {
          "output_type": "stream",
          "name": "stdout",
          "text": [
            "1    653\n",
            "0    653\n",
            "Name: flair_labels, dtype: int64\n"
          ]
        }
      ]
    },
    {
      "cell_type": "code",
      "source": [
        "#Count all the unique words - input to fxn: column [series]\n",
        "prev_list = []\n",
        "\n",
        "for review in dataset.Review:\n",
        "    string_list = review.split(' ')\n",
        "    string_list += prev_list\n",
        "    prev_list = string_list\n",
        "\n",
        "counter = Counter(string_list)\n",
        "\n",
        "#Getting the number of unique words\n",
        "num_unique_words = len(counter)\n",
        "\n",
        "#Getting the top 10 most commonly used words\n",
        "most_common = counter.most_common(10)\n",
        "\n",
        "most_common"
      ],
      "metadata": {
        "colab": {
          "base_uri": "https://localhost:8080/"
        },
        "id": "CcYZwoFCY9SN",
        "outputId": "add30f9b-e2ed-4f1b-c3bd-1815788f1492"
      },
      "execution_count": null,
      "outputs": [
        {
          "output_type": "execute_result",
          "data": {
            "text/plain": [
              "[('skin', 1334),\n",
              " ('product', 458),\n",
              " ('like', 380),\n",
              " ('love', 330),\n",
              " ('using', 324),\n",
              " ('use', 324),\n",
              " ('face', 309),\n",
              " ('really', 275),\n",
              " ('dry', 229),\n",
              " ('im', 227)]"
            ]
          },
          "metadata": {},
          "execution_count": 7
        }
      ]
    },
    {
      "cell_type": "code",
      "source": [
        "#Splitting into trianing and validation splits\n",
        "x_train, x_test, y_train, y_test = train_test_split(dataset['Review'], dataset['flair_labels'], test_size=0.2, random_state=42)\n",
        "#x_val, x_test, y_val, y_test = train_test_split(x_val, y_val, test_size=0.5, random_state=42)\n",
        "\n",
        "print(f\"Train: {len(x_train)}\")\n",
        "#print(f\"Val: {len(x_val)}\")\n",
        "print(f\"Test: {len(x_test)}\")\n",
        "# Train - 1568 , Test - 392"
      ],
      "metadata": {
        "colab": {
          "base_uri": "https://localhost:8080/"
        },
        "id": "VT32ChBHY_8L",
        "outputId": "c797da8d-54d5-4634-fab7-62eb1ed812b7"
      },
      "execution_count": null,
      "outputs": [
        {
          "output_type": "stream",
          "name": "stdout",
          "text": [
            "Train: 1044\n",
            "Test: 262\n"
          ]
        }
      ]
    },
    {
      "cell_type": "code",
      "source": [
        "#Convert from Series into Numpy Array\n",
        "train_sentences = x_train.to_numpy()\n",
        "train_labels = y_train.to_numpy()\n",
        "\n",
        "#val_sentences = x_val.to_numpy()\n",
        "#val_labels = y_val.to_numpy()\n",
        "\n",
        "test_sentences = x_test.to_numpy()\n",
        "test_labels = y_test.to_numpy()"
      ],
      "metadata": {
        "id": "iJOvGWZQrYAY"
      },
      "execution_count": null,
      "outputs": []
    },
    {
      "cell_type": "code",
      "source": [
        "#Tokenization - vectorise a text corpus by converting text into a sequence of integers\n",
        "#this also generates a word index\n",
        "tokenizer = Tokenizer(num_words=num_unique_words)\n",
        "tokenizer.fit_on_texts(train_sentences)\n",
        "\n",
        "word_index = tokenizer.word_index\n",
        "\n",
        "#writing the word index into a text file\n",
        "\n",
        "with open(\"/content/drive/MyDrive/CZ4034/final_data_word_idx.txt\", 'w') as f:\n",
        "    f.write(json.dumps(word_index))"
      ],
      "metadata": {
        "id": "KS0XXYEArX-m"
      },
      "execution_count": null,
      "outputs": []
    },
    {
      "cell_type": "code",
      "source": [
        "#Converting the text into sequences\n",
        "train_sequences = tokenizer.texts_to_sequences(train_sentences)\n",
        "#val_sequences = tokenizer.texts_to_sequences(val_sentences)\n",
        "test_sequences = tokenizer.texts_to_sequences(test_sentences)\n",
        "\n",
        "#Getting the longest review\n",
        "MAX_LEN = len(max(train_sequences))\n",
        "\n",
        "#Padding the Sequences\n",
        "train_padded = pad_sequences(train_sequences, maxlen=MAX_LEN, padding='post', truncating='post')\n",
        "#val_padded = pad_sequences(val_sequences, maxlen=MAX_LEN, padding='post', truncating='post')\n",
        "test_padded = pad_sequences(test_sequences, maxlen=MAX_LEN, padding='post', truncating='post')"
      ],
      "metadata": {
        "id": "LkEKeiGwrX8e"
      },
      "execution_count": null,
      "outputs": []
    },
    {
      "cell_type": "code",
      "source": [
        "print('Train:',train_padded.shape)\n",
        "#print('Val:',val_padded.shape)\n",
        "print('Test:',test_padded.shape)\n",
        "\"\"\"\n",
        "NOTE: \n",
        "  • Train Padded Shape: (1568, 22)\n",
        "  • Valid Padded Shape: (196, 22)\n",
        "  • Test Padded Shape: (392, 22)\n",
        "\"\"\""
      ],
      "metadata": {
        "colab": {
          "base_uri": "https://localhost:8080/",
          "height": 70
        },
        "id": "mMOrigW7rX6Y",
        "outputId": "5f9eb2d4-7c85-4e2a-e22c-dbd04518aaa5"
      },
      "execution_count": null,
      "outputs": [
        {
          "output_type": "stream",
          "name": "stdout",
          "text": [
            "Train: (1044, 40)\n",
            "Test: (262, 40)\n"
          ]
        },
        {
          "output_type": "execute_result",
          "data": {
            "text/plain": [
              "'\\nNOTE: \\n  • Train Padded Shape: (1568, 22)\\n  • Valid Padded Shape: (196, 22)\\n  • Test Padded Shape: (392, 22)\\n'"
            ],
            "application/vnd.google.colaboratory.intrinsic+json": {
              "type": "string"
            }
          },
          "metadata": {},
          "execution_count": 12
        }
      ]
    },
    {
      "cell_type": "code",
      "source": [
        "le = LabelEncoder()\n",
        "train_labels = le.fit_transform(train_labels)\n",
        "#val_labels = le.fit_transform(val_labels)\n",
        "test_labels = le.fit_transform(test_labels)"
      ],
      "metadata": {
        "id": "CKZRsbh6rX4S"
      },
      "execution_count": null,
      "outputs": []
    },
    {
      "cell_type": "code",
      "source": [
        "print(f\"Training\")\n",
        "print(f\"0: {list(train_labels).count(0)}\")\n",
        "print(f\"1: {list(train_labels).count(1)}\\n\")\n",
        "\n",
        "#print(\"Val\")\n",
        "#print(f\"0: {list(val_labels).count(0)}\")\n",
        "#print(f\"1: {list(val_labels).count(1)}\\n\")\n",
        "\n",
        "print(\"Test\")\n",
        "print(f\"0: {list(test_labels).count(0)}\")\n",
        "print(f\"1: {list(test_labels).count(1)}\\n\")"
      ],
      "metadata": {
        "colab": {
          "base_uri": "https://localhost:8080/"
        },
        "id": "bgs4VGmurX2N",
        "outputId": "45fc0ea0-7430-4170-a50f-201b421c89cc"
      },
      "execution_count": null,
      "outputs": [
        {
          "output_type": "stream",
          "name": "stdout",
          "text": [
            "Training\n",
            "0: 527\n",
            "1: 517\n",
            "\n",
            "Test\n",
            "0: 126\n",
            "1: 136\n",
            "\n"
          ]
        }
      ]
    },
    {
      "cell_type": "markdown",
      "source": [
        "## Loading the Model"
      ],
      "metadata": {
        "id": "uD4NDgC1ZS1v"
      }
    },
    {
      "cell_type": "code",
      "source": [
        "loaded_model = tf.keras.models.load_model('/content/drive/MyDrive/CZ4034/CNN_LSTM/model.hdf5')\n",
        "loaded_model"
      ],
      "metadata": {
        "colab": {
          "base_uri": "https://localhost:8080/"
        },
        "id": "yWBzB7jmZPf5",
        "outputId": "69509e34-017f-4a7c-b5a1-8d2323436bee"
      },
      "execution_count": null,
      "outputs": [
        {
          "output_type": "execute_result",
          "data": {
            "text/plain": [
              "<keras.engine.sequential.Sequential at 0x7f805cf45b50>"
            ]
          },
          "metadata": {},
          "execution_count": 17
        }
      ]
    },
    {
      "cell_type": "code",
      "source": [
        "def build_model(hp):\n",
        "  model = Sequential([\n",
        "      Embedding(num_unique_words, \n",
        "                output_dim=hp.Int('num_embedding_neurons', min_value=50, max_value=200, step=50), \n",
        "                input_length=MAX_LEN, \n",
        "                trainable=True),\n",
        "      Conv1D(filters=hp.Int('conv1_filter', min_value=32, max_value=128, step=16), \n",
        "           kernel_size=hp.Choice('conv1_kernel_size', values=[3,5]),\n",
        "           padding='same', \n",
        "           activation='relu'),\n",
        "      MaxPooling1D(pool_size=2),\n",
        "      LSTM(hp.Int('num_LSTM_nodes',min_value=50, max_value=300, step=50)),\n",
        "      Dense(1, activation='sigmoid')])\n",
        "\n",
        "  model.compile(loss='binary_crossentropy', optimizer=Adam(hp.Choice('lr', values=[1e-2, 1e-3])), metrics=['accuracy'])\n",
        "\n",
        "  return model"
      ],
      "metadata": {
        "id": "SP_rq8U1Z-A3"
      },
      "execution_count": null,
      "outputs": []
    },
    {
      "cell_type": "code",
      "source": [
        "random_search = RandomSearch(build_model, objective='val_accuracy', max_trials=10, directory='/content/drive/MyDrive/CZ4034/RandomSearch_CNNLSTM/final', project_name='CNN_LSTM')"
      ],
      "metadata": {
        "id": "NEDFHyQimpoo"
      },
      "execution_count": null,
      "outputs": []
    },
    {
      "cell_type": "code",
      "source": [
        "#Getting a full summary\n",
        "random_search.search_space_summary()"
      ],
      "metadata": {
        "colab": {
          "base_uri": "https://localhost:8080/"
        },
        "id": "MsZ39sz9stiI",
        "outputId": "f4ce825c-c40e-413b-d74e-170085525765"
      },
      "execution_count": null,
      "outputs": [
        {
          "output_type": "stream",
          "name": "stdout",
          "text": [
            "Search space summary\n",
            "Default search space size: 5\n",
            "num_embedding_neurons (Int)\n",
            "{'default': None, 'conditions': [], 'min_value': 50, 'max_value': 200, 'step': 50, 'sampling': 'linear'}\n",
            "conv1_filter (Int)\n",
            "{'default': None, 'conditions': [], 'min_value': 32, 'max_value': 128, 'step': 16, 'sampling': 'linear'}\n",
            "conv1_kernel_size (Choice)\n",
            "{'default': 3, 'conditions': [], 'values': [3, 5], 'ordered': True}\n",
            "num_LSTM_nodes (Int)\n",
            "{'default': None, 'conditions': [], 'min_value': 50, 'max_value': 300, 'step': 50, 'sampling': 'linear'}\n",
            "lr (Choice)\n",
            "{'default': 0.01, 'conditions': [], 'values': [0.01, 0.001], 'ordered': True}\n"
          ]
        }
      ]
    },
    {
      "cell_type": "code",
      "source": [
        "#runs the whole random search to get best hyperparamters\n",
        "random_search.search(train_padded, train_labels, epochs=10, validation_data=(test_padded, test_labels))"
      ],
      "metadata": {
        "colab": {
          "base_uri": "https://localhost:8080/"
        },
        "id": "6OjnnaSZrPwr",
        "outputId": "a233c9be-b5bd-48e2-9559-8288279b0b99"
      },
      "execution_count": null,
      "outputs": [
        {
          "output_type": "stream",
          "name": "stdout",
          "text": [
            "Trial 10 Complete [00h 00m 44s]\n",
            "val_accuracy: 0.7633587718009949\n",
            "\n",
            "Best val_accuracy So Far: 0.8206107020378113\n",
            "Total elapsed time: 00h 06m 49s\n"
          ]
        }
      ]
    },
    {
      "cell_type": "code",
      "source": [
        "best_hyp = random_search.get_best_hyperparameters()[0]\n",
        "optimized_model = random_search.hypermodel.build(best_hyp)\n",
        "optimized_model.summary()"
      ],
      "metadata": {
        "colab": {
          "base_uri": "https://localhost:8080/"
        },
        "id": "s7L6EhXz13S4",
        "outputId": "cbc7c94a-22de-491e-cd89-a2c5fec3149f"
      },
      "execution_count": null,
      "outputs": [
        {
          "output_type": "stream",
          "name": "stdout",
          "text": [
            "Model: \"sequential_4\"\n",
            "_________________________________________________________________\n",
            " Layer (type)                Output Shape              Param #   \n",
            "=================================================================\n",
            " embedding_4 (Embedding)     (None, 40, 150)           568350    \n",
            "                                                                 \n",
            " conv1d_4 (Conv1D)           (None, 40, 48)            36048     \n",
            "                                                                 \n",
            " max_pooling1d_4 (MaxPooling  (None, 20, 48)           0         \n",
            " 1D)                                                             \n",
            "                                                                 \n",
            " lstm_4 (LSTM)               (None, 250)               299000    \n",
            "                                                                 \n",
            " dense_4 (Dense)             (None, 1)                 251       \n",
            "                                                                 \n",
            "=================================================================\n",
            "Total params: 903,649\n",
            "Trainable params: 903,649\n",
            "Non-trainable params: 0\n",
            "_________________________________________________________________\n"
          ]
        }
      ]
    },
    {
      "cell_type": "code",
      "source": [
        "trial_02 = {\"trial_id\": \"02\", \"hyperparameters\": {\"space\": [{\"class_name\": \"Int\", \"config\": {\"name\": \"num_embedding_neurons\", \"default\": null, \"conditions\": [], \"min_value\": 50, \"max_value\": 200, \"step\": 50, \"sampling\": \"linear\"}}, {\"class_name\": \"Int\", \"config\": {\"name\": \"conv1_filter\", \"default\": null, \"conditions\": [], \"min_value\": 32, \"max_value\": 128, \"step\": 16, \"sampling\": \"linear\"}}, {\"class_name\": \"Choice\", \"config\": {\"name\": \"conv1_kernel_size\", \"default\": 3, \"conditions\": [], \"values\": [3, 5], \"ordered\": true}}, {\"class_name\": \"Int\", \"config\": {\"name\": \"num_LSTM_nodes\", \"default\": null, \"conditions\": [], \"min_value\": 50, \"max_value\": 300, \"step\": 50, \"sampling\": \"linear\"}}, {\"class_name\": \"Choice\", \"config\": {\"name\": \"lr\", \"default\": 0.01, \"conditions\": [], \"values\": [0.01, 0.001], \"ordered\": true}}], \"values\": {\"num_embedding_neurons\": 150, \"conv1_filter\": 48, \"conv1_kernel_size\": 5, \"num_LSTM_nodes\": 250, \"lr\": 0.001}}, \"metrics\": {\"metrics\": {\"loss\": {\"direction\": \"min\", \"observations\": [{\"value\": [0.1947953850030899], \"step\": 2}]}, \"accuracy\": {\"direction\": \"max\", \"observations\": [{\"value\": [0.9348658919334412], \"step\": 2}]}, \"val_loss\": {\"direction\": \"min\", \"observations\": [{\"value\": [0.5206506252288818], \"step\": 2}]}, \"val_accuracy\": {\"direction\": \"max\", \"observations\": [{\"value\": [0.8206107020378113], \"step\": 2}]}}}, \"score\": 0.8206107020378113, \"best_step\": 2, \"status\": \"COMPLETED\", \"message\": null}"
      ],
      "metadata": {
        "id": "gb8VJk5e64MQ"
      },
      "execution_count": null,
      "outputs": []
    },
    {
      "cell_type": "markdown",
      "source": [
        "For the Final Dataset - Trial02:\n",
        "\n",
        "1. Number of Neurons in the Embedding Layer - 150\n",
        "2. Number of Filters in the 1st Conv Layer - 48\n",
        "3. Kernel Size in the 1st Conv Layer - 5\n",
        "4. Number of Neurons in the LSTM Layer - 250\n",
        "5. Learning Rate - 0.001\n",
        "\n"
      ],
      "metadata": {
        "id": "wvXVTx4U7axg"
      }
    },
    {
      "cell_type": "markdown",
      "source": [
        "## Retraining Optimized Model on the Training Dataset"
      ],
      "metadata": {
        "id": "SmlEJeJ3y1_M"
      }
    },
    {
      "cell_type": "code",
      "source": [
        "#Creating base model\n",
        "model = Sequential()\n",
        "\n",
        "model.add(Embedding(num_unique_words, output_dim=150, input_length=MAX_LEN, trainable=True))\n",
        "#adding the CONV layer\n",
        "model.add(Conv1D(filters=48, kernel_size=5, padding='same', activation='relu'))\n",
        "model.add(MaxPooling1D(pool_size=2))\n",
        "model.add(LSTM(250))\n",
        "model.add(Dense(1, activation='sigmoid'))\n",
        "\n",
        "model.compile(loss='binary_crossentropy', optimizer='adam', metrics=['accuracy'])\n",
        "\n",
        "model.summary()"
      ],
      "metadata": {
        "colab": {
          "base_uri": "https://localhost:8080/"
        },
        "id": "zR6Lf69Q5eTJ",
        "outputId": "d3e55235-7074-4733-c77e-995dd2218809"
      },
      "execution_count": null,
      "outputs": [
        {
          "output_type": "stream",
          "name": "stdout",
          "text": [
            "Model: \"sequential\"\n",
            "_________________________________________________________________\n",
            " Layer (type)                Output Shape              Param #   \n",
            "=================================================================\n",
            " embedding (Embedding)       (None, 40, 150)           568350    \n",
            "                                                                 \n",
            " conv1d (Conv1D)             (None, 40, 48)            36048     \n",
            "                                                                 \n",
            " max_pooling1d (MaxPooling1D  (None, 20, 48)           0         \n",
            " )                                                               \n",
            "                                                                 \n",
            " lstm (LSTM)                 (None, 250)               299000    \n",
            "                                                                 \n",
            " dense (Dense)               (None, 1)                 251       \n",
            "                                                                 \n",
            "=================================================================\n",
            "Total params: 903,649\n",
            "Trainable params: 903,649\n",
            "Non-trainable params: 0\n",
            "_________________________________________________________________\n"
          ]
        }
      ]
    },
    {
      "cell_type": "code",
      "source": [
        "import time\n",
        "t0 = time.time()\n",
        "hist = model.fit(train_padded, train_labels, epochs=5, validation_data=(test_padded, test_labels))\n",
        "print(f\"Training TIme:{time.time()-t0}\")"
      ],
      "metadata": {
        "id": "f6KxknaSJck1"
      },
      "execution_count": null,
      "outputs": []
    },
    {
      "cell_type": "code",
      "source": [
        "hist = model.fit(train_padded, train_labels, epochs=5, validation_data=(test_padded, test_labels))"
      ],
      "metadata": {
        "colab": {
          "base_uri": "https://localhost:8080/"
        },
        "id": "6pwm_xWA6PA7",
        "outputId": "3bd86641-4a90-41e4-8ade-c37d7e315465"
      },
      "execution_count": null,
      "outputs": [
        {
          "output_type": "stream",
          "name": "stdout",
          "text": [
            "Epoch 1/5\n",
            "33/33 [==============================] - 10s 201ms/step - loss: 0.6899 - accuracy: 0.5431 - val_loss: 0.6843 - val_accuracy: 0.5382\n",
            "Epoch 2/5\n",
            "33/33 [==============================] - 7s 212ms/step - loss: 0.5540 - accuracy: 0.7050 - val_loss: 0.4488 - val_accuracy: 0.8053\n",
            "Epoch 3/5\n",
            "33/33 [==============================] - 4s 113ms/step - loss: 0.2515 - accuracy: 0.9052 - val_loss: 0.5063 - val_accuracy: 0.8053\n",
            "Epoch 4/5\n",
            "33/33 [==============================] - 3s 92ms/step - loss: 0.1046 - accuracy: 0.9684 - val_loss: 0.6275 - val_accuracy: 0.7977\n",
            "Epoch 5/5\n",
            "33/33 [==============================] - 3s 85ms/step - loss: 0.0300 - accuracy: 0.9895 - val_loss: 1.0805 - val_accuracy: 0.8015\n"
          ]
        }
      ]
    },
    {
      "cell_type": "code",
      "source": [
        "history_opt = optimized_model.fit(train_padded, train_labels, epochs=5, validation_data=(test_padded, test_labels))"
      ],
      "metadata": {
        "colab": {
          "base_uri": "https://localhost:8080/"
        },
        "id": "KmjbKBFMwsbo",
        "outputId": "ec3f0d87-14a3-44f8-bc09-90d340a756a3"
      },
      "execution_count": null,
      "outputs": [
        {
          "output_type": "stream",
          "name": "stdout",
          "text": [
            "Epoch 1/5\n",
            "33/33 [==============================] - 9s 178ms/step - loss: 0.6912 - accuracy: 0.5268 - val_loss: 0.6877 - val_accuracy: 0.5802\n",
            "Epoch 2/5\n",
            "33/33 [==============================] - 4s 114ms/step - loss: 0.6021 - accuracy: 0.6705 - val_loss: 0.5516 - val_accuracy: 0.7481\n",
            "Epoch 3/5\n",
            "33/33 [==============================] - 5s 137ms/step - loss: 0.3128 - accuracy: 0.8994 - val_loss: 0.5504 - val_accuracy: 0.8053\n",
            "Epoch 4/5\n",
            "33/33 [==============================] - 3s 84ms/step - loss: 0.1567 - accuracy: 0.9559 - val_loss: 0.5116 - val_accuracy: 0.8092\n",
            "Epoch 5/5\n",
            "33/33 [==============================] - 2s 60ms/step - loss: 0.0799 - accuracy: 0.9780 - val_loss: 0.6033 - val_accuracy: 0.7863\n"
          ]
        }
      ]
    },
    {
      "cell_type": "code",
      "source": [
        "with open('/content/drive/MyDrive/CZ4034/RandomSearch_CNNLSTM/final/optimized_hist_cnn_lstm.txt', 'w') as convert_file:\n",
        "     convert_file.write(json.dumps(history_opt.history))"
      ],
      "metadata": {
        "id": "OP8B0AXMzGWq"
      },
      "execution_count": null,
      "outputs": []
    },
    {
      "cell_type": "code",
      "source": [
        "random_search.get_best_hyperparameters"
      ],
      "metadata": {
        "colab": {
          "base_uri": "https://localhost:8080/"
        },
        "id": "b8p33X9O05E2",
        "outputId": "2b78aee2-57c5-4caf-fd0d-1bf49737a833"
      },
      "execution_count": null,
      "outputs": [
        {
          "output_type": "execute_result",
          "data": {
            "text/plain": [
              "<bound method BaseTuner.get_best_hyperparameters of <keras_tuner.tuners.randomsearch.RandomSearch object at 0x7f80e4491430>>"
            ]
          },
          "metadata": {},
          "execution_count": 49
        }
      ]
    },
    {
      "cell_type": "markdown",
      "source": [
        "## Plotting Loss and Accuracy Curves"
      ],
      "metadata": {
        "id": "QcAD4on4z68u"
      }
    },
    {
      "cell_type": "code",
      "source": [
        "#PLOTTING THE CURVES\n",
        "epochs = range(1,6)\n",
        "\n",
        "#Plotting the Accuracy Curves\n",
        "train_accuracy = history_opt.history['accuracy']\n",
        "val_accuracy = history_opt.history['val_accuracy']\n",
        "\n",
        "plt.plot(epochs,train_accuracy, 'b', label='Training Accuracy')\n",
        "plt.plot(epochs,val_accuracy, 'r', label='Validation Accuracy')\n",
        "plt.title('Accuracy Curves for Optimized CNN+LSTM')\n",
        "plt.legend()\n",
        "plt.figure()\n",
        "plt.savefig('/content/drive/MyDrive/CZ4034/RandomSearch_CNNLSTM/final/cnnlstm_opt_try1_Accuracy.jpg')"
      ],
      "metadata": {
        "colab": {
          "base_uri": "https://localhost:8080/",
          "height": 470
        },
        "id": "SvTSwSFmz2uS",
        "outputId": "10e27121-b066-4e4e-cfe9-5edf48e6ab1f"
      },
      "execution_count": null,
      "outputs": [
        {
          "output_type": "display_data",
          "data": {
            "text/plain": [
              "<Figure size 640x480 with 1 Axes>"
            ],
            "image/png": "[encoded data removed]"
          },
          "metadata": {}
        },
        {
          "output_type": "display_data",
          "data": {
            "text/plain": [
              "<Figure size 640x480 with 0 Axes>"
            ]
          },
          "metadata": {}
        }
      ]
    },
    {
      "cell_type": "code",
      "source": [
        "#Plotting the Loss Curves\n",
        "train_loss = hist.history['loss']\n",
        "val_loss = hist.history['val_loss']\n",
        "\n",
        "plt.plot(epochs,train_loss, 'b', label='Training Loss')\n",
        "plt.plot(epochs,val_loss, 'r', label='Validation Loss')\n",
        "plt.title('Loss Curves for Optimized CNN+LSTM')\n",
        "plt.legend()\n",
        "plt.show()\n",
        "#plt.savefig('/content/drive/MyDrive/CZ4034/RandomSearch_CNNLSTM/final/cnnlstm_opt_try1_Loss.jpg')"
      ],
      "metadata": {
        "colab": {
          "base_uri": "https://localhost:8080/",
          "height": 452
        },
        "id": "IzP_mXxr9K5o",
        "outputId": "5739555c-9fe1-4f7f-c21d-d65867e3f550"
      },
      "execution_count": null,
      "outputs": [
        {
          "output_type": "display_data",
          "data": {
            "text/plain": [
              "<Figure size 640x480 with 1 Axes>"
            ],
            "image/png": "[encoded data removed]"
          },
          "metadata": {}
        }
      ]
    },
    {
      "cell_type": "markdown",
      "source": [
        "## Evaluating the Optimized model"
      ],
      "metadata": {
        "id": "wpON9lTn0gEB"
      }
    },
    {
      "cell_type": "code",
      "source": [
        "prev_model_scores = loaded_model.evaluate(test_padded, test_labels, verbose=1,batch_size = 64)\n",
        "print(\"Accuracy: %.2f%%\" % (prev_model_scores[1]*100))"
      ],
      "metadata": {
        "colab": {
          "base_uri": "https://localhost:8080/"
        },
        "id": "FQIPAxGa0bvI",
        "outputId": "b9a182a3-76fd-46cf-e078-c69febc5bfd5"
      },
      "execution_count": null,
      "outputs": [
        {
          "output_type": "stream",
          "name": "stdout",
          "text": [
            "5/5 [==============================] - 0s 4ms/step - loss: 0.7752 - accuracy: 0.7786\n",
            "Accuracy: 77.86%\n"
          ]
        }
      ]
    },
    {
      "cell_type": "code",
      "source": [
        "optimized_model_scores = optimized_model.evaluate(test_padded, test_labels, verbose=1, batch_size=64)\n",
        "print(\"Accuracy: %.2f%%\" % (optimized_model_scores[1]*100))"
      ],
      "metadata": {
        "colab": {
          "base_uri": "https://localhost:8080/"
        },
        "id": "TOQY_3Xz3DH7",
        "outputId": "361a9b13-7df1-4a6e-fde2-5b5889a38b1f"
      },
      "execution_count": null,
      "outputs": [
        {
          "output_type": "stream",
          "name": "stdout",
          "text": [
            "5/5 [==============================] - 0s 7ms/step - loss: 1.5456 - accuracy: 0.7519\n",
            "Accuracy: 75.19%\n"
          ]
        }
      ]
    },
    {
      "cell_type": "code",
      "source": [
        "model_scores = model.evaluate(test_padded, test_labels, verbose=1, batch_size=64)\n",
        "print(\"Accuracy: %.2f%%\" % (model_scores[1]*100))"
      ],
      "metadata": {
        "colab": {
          "base_uri": "https://localhost:8080/"
        },
        "id": "rJUUHSW99QfN",
        "outputId": "b0baf76d-64e1-4fef-e7e1-592f466f8284"
      },
      "execution_count": null,
      "outputs": [
        {
          "output_type": "stream",
          "name": "stdout",
          "text": [
            "5/5 [==============================] - 0s 5ms/step - loss: 1.0805 - accuracy: 0.8015\n",
            "Accuracy: 80.15%\n"
          ]
        }
      ]
    },
    {
      "cell_type": "code",
      "source": [
        "model.save('/content/drive/MyDrive/CZ4034/RandomSearch_CNNLSTM/final/final_optimized_model.hdf5')"
      ],
      "metadata": {
        "id": "P3s3dRvR3RZx"
      },
      "execution_count": null,
      "outputs": []
    },
    {
      "cell_type": "markdown",
      "source": [
        "### Getting Components of the Confusion Matrix"
      ],
      "metadata": {
        "id": "70S5NwVA9XnG"
      }
    },
    {
      "cell_type": "markdown",
      "source": [
        "#### Previous Model"
      ],
      "metadata": {
        "id": "jVwL5c1L9dhf"
      }
    },
    {
      "cell_type": "code",
      "source": [
        "prev_predictions = loaded_model.predict(test_padded)\n",
        "prev_predictions = [1 if p > 0.5 else 0 for p in prev_predictions]"
      ],
      "metadata": {
        "colab": {
          "base_uri": "https://localhost:8080/"
        },
        "id": "P82CGZZ09RoT",
        "outputId": "94f6a7b5-b3e3-474f-e43d-e4ccbdc759d3"
      },
      "execution_count": null,
      "outputs": [
        {
          "output_type": "stream",
          "name": "stdout",
          "text": [
            "9/9 [==============================] - 0s 3ms/step\n"
          ]
        }
      ]
    },
    {
      "cell_type": "code",
      "source": [
        "from sklearn.metrics import confusion_matrix\n",
        "\n",
        "prev_conf_matrix = confusion_matrix(test_labels, prev_predictions)\n",
        "p_tn, p_fp, p_fn, p_tp = prev_conf_matrix.ravel()\n",
        "\n",
        "print(\"Previous Model:\")\n",
        "\n",
        "print(f\"True Positives: {p_tp}\")\n",
        "print(f\"True Negatives: {p_tn}\")\n",
        "print(f\"False Positives: {p_fp}\")\n",
        "print(f\"False Negatives: {p_fn}\")"
      ],
      "metadata": {
        "colab": {
          "base_uri": "https://localhost:8080/"
        },
        "id": "MQYgINwP9rD7",
        "outputId": "5214a558-3ab4-4237-e614-be157fd8c8f7"
      },
      "execution_count": null,
      "outputs": [
        {
          "output_type": "stream",
          "name": "stdout",
          "text": [
            "Previous Model:\n",
            "True Positives: 111\n",
            "True Negatives: 93\n",
            "False Positives: 33\n",
            "False Negatives: 25\n"
          ]
        }
      ]
    },
    {
      "cell_type": "markdown",
      "source": [
        "#### Optimized Model"
      ],
      "metadata": {
        "id": "r1iBvJw89fva"
      }
    },
    {
      "cell_type": "code",
      "source": [
        "#FOR TIME\n",
        "t1 = time.time()\n",
        "model_scores = model.evaluate(test_padded, test_labels, verbose=1, batch_size=64)\n",
        "print(\"Accuracy: %.2f%%\" % (model_scores[1]*100), f\"INference TIme: {time.time()-t1}\")"
      ],
      "metadata": {
        "id": "SvVUNGfdKMc5"
      },
      "execution_count": null,
      "outputs": []
    },
    {
      "cell_type": "code",
      "source": [
        "model = load_model('/content/drive/MyDrive/CZ4034/RandomSearch_CNNLSTM/final/final_optimized_model.hdf5')\n",
        "model"
      ],
      "metadata": {
        "colab": {
          "base_uri": "https://localhost:8080/"
        },
        "id": "qt7_FXR3eQCD",
        "outputId": "cf8f6d43-3e64-4333-c41d-8e24791cd745"
      },
      "execution_count": null,
      "outputs": [
        {
          "output_type": "execute_result",
          "data": {
            "text/plain": [
              "<keras.engine.sequential.Sequential at 0x7f7738c47b50>"
            ]
          },
          "metadata": {},
          "execution_count": 24
        }
      ]
    },
    {
      "cell_type": "code",
      "source": [
        "model_scores = model.evaluate(test_padded, test_labels, verbose=1, batch_size=64)\n",
        "print(\"Accuracy: %.2f%%\" % (model_scores[1]*100))"
      ],
      "metadata": {
        "colab": {
          "base_uri": "https://localhost:8080/"
        },
        "id": "YdnXu5q0ebvB",
        "outputId": "a2062355-0321-432f-e5c2-3b58458b78da"
      },
      "execution_count": null,
      "outputs": [
        {
          "output_type": "stream",
          "name": "stdout",
          "text": [
            "5/5 [==============================] - 10s 12ms/step - loss: 1.0805 - accuracy: 0.8015\n",
            "Accuracy: 80.15%\n"
          ]
        }
      ]
    },
    {
      "cell_type": "code",
      "source": [
        "optimized_model = tf.keras.models.load_model('/content/drive/MyDrive/CZ4034/RandomSearch_CNNLSTM/final/final_optimized_model.hdf5')"
      ],
      "metadata": {
        "id": "V-n-_UgP9hbk"
      },
      "execution_count": null,
      "outputs": []
    },
    {
      "cell_type": "code",
      "source": [
        "optimized_predictions = optimized_model.predict(test_padded)\n",
        "optimized_predictions = [1 if p > 0.5 else 0 for p in optimized_predictions]"
      ],
      "metadata": {
        "colab": {
          "base_uri": "https://localhost:8080/"
        },
        "id": "F3CZ0Wv89hS4",
        "outputId": "de001ed3-b15a-4541-b54b-e6f46dab5b96"
      },
      "execution_count": null,
      "outputs": [
        {
          "output_type": "stream",
          "name": "stdout",
          "text": [
            "9/9 [==============================] - 0s 3ms/step\n"
          ]
        }
      ]
    },
    {
      "cell_type": "code",
      "source": [
        "model_predictions = model.predict(test_padded)\n",
        "model_predictions = [1 if p > 0.5 else 0 for p in model_predictions]"
      ],
      "metadata": {
        "colab": {
          "base_uri": "https://localhost:8080/"
        },
        "id": "vsg8iEi6e2VD",
        "outputId": "9d1d2115-c821-437f-d7e2-44b5339dff37"
      },
      "execution_count": null,
      "outputs": [
        {
          "output_type": "stream",
          "name": "stdout",
          "text": [
            "9/9 [==============================] - 1s 4ms/step\n"
          ]
        }
      ]
    },
    {
      "cell_type": "code",
      "source": [
        "from sklearn.metrics import confusion_matrix, classification_report\n",
        "\n",
        "conf_matrix = confusion_matrix(test_labels, model_predictions)\n",
        "o_tn, o_fp, o_fn, o_tp = conf_matrix.ravel()\n",
        "\n",
        "print(\"Optimized Model:\")\n",
        "\n",
        "print(f\"True Positives: {o_tp}\")\n",
        "print(f\"True Negatives: {o_tn}\")\n",
        "print(f\"False Positives: {o_fp}\")\n",
        "print(f\"False Negatives: {o_fn}\")"
      ],
      "metadata": {
        "colab": {
          "base_uri": "https://localhost:8080/"
        },
        "id": "QrFkUu9ge8wT",
        "outputId": "2b313bca-2b49-4e25-ad4a-0bb9879d7a61"
      },
      "execution_count": null,
      "outputs": [
        {
          "output_type": "stream",
          "name": "stdout",
          "text": [
            "Optimized Model:\n",
            "True Positives: 113\n",
            "True Negatives: 97\n",
            "False Positives: 29\n",
            "False Negatives: 23\n"
          ]
        }
      ]
    },
    {
      "cell_type": "code",
      "source": [
        "print(classification_report(test_labels, model_predictions))"
      ],
      "metadata": {
        "colab": {
          "base_uri": "https://localhost:8080/"
        },
        "id": "rGmXpVszfDBB",
        "outputId": "70ab1b75-1e3e-42f4-f1ed-942097af7a42"
      },
      "execution_count": null,
      "outputs": [
        {
          "output_type": "stream",
          "name": "stdout",
          "text": [
            "              precision    recall  f1-score   support\n",
            "\n",
            "           0       0.81      0.77      0.79       126\n",
            "           1       0.80      0.83      0.81       136\n",
            "\n",
            "    accuracy                           0.80       262\n",
            "   macro avg       0.80      0.80      0.80       262\n",
            "weighted avg       0.80      0.80      0.80       262\n",
            "\n"
          ]
        }
      ]
    },
    {
      "cell_type": "code",
      "source": [
        "from sklearn.metrics import confusion_matrix, classification_report\n",
        "\n",
        "opt_conf_matrix = confusion_matrix(test_labels, optimized_predictions)\n",
        "o_tn, o_fp, o_fn, o_tp = opt_conf_matrix.ravel()\n",
        "\n",
        "print(\"Optimized Model:\")\n",
        "\n",
        "print(f\"True Positives: {o_tp}\")\n",
        "print(f\"True Negatives: {o_tn}\")\n",
        "print(f\"False Positives: {o_fp}\")\n",
        "print(f\"False Negatives: {o_fn}\")"
      ],
      "metadata": {
        "id": "bQc1BGIO95Rk"
      },
      "execution_count": null,
      "outputs": []
    },
    {
      "cell_type": "markdown",
      "source": [
        "## Testing on Individual Texts"
      ],
      "metadata": {
        "id": "UYdTXcyE9HBH"
      }
    },
    {
      "cell_type": "code",
      "source": [
        "#Function to process the test sample in the same way as the data processing of training\n",
        "import numpy as np\n",
        "from cleantext import clean\n",
        "\n",
        "#takes in a string(text) and returns a padded sequence \n",
        "def process_eval_sample(text):\n",
        "  text = clean(text, no_emoji=True, no_punct=True, lower=True)\n",
        "  text = text.split(\" \")\n",
        "  sentence = np.array(text)\n",
        "  sequence = tokenizer.texts_to_sequences(sentence)\n",
        "  padded_sequence = pad_sequences(sequence, maxlen=MAX_LEN, padding='post', truncating='post')\n",
        "\n",
        "  return padded_sequence\n",
        "\n",
        "#takes in a padded sequence and returns an integer (0 or 1) for the label\n",
        "def pred_prev_model(padded_seq):\n",
        "  predictions = loaded_model.predict(padded_seq)[0]\n",
        "  print(f\"Predicted Value: {predictions}\")\n",
        "  pred_values = [1 if p>=0.5 else 0 for p in predictions]\n",
        "  pred_label = max(pred_values)\n",
        "\n",
        "  return pred_label\n",
        "\n",
        "def pred_optimized_model(padded_seq):\n",
        "  predictions = optimized_model.predict(padded_seq)[0]\n",
        "  print(f\"Predicted Value: {predictions}\")\n",
        "  pred_values = [1 if p>=0.5 else 0 for p in predictions]\n",
        "  pred_label = max(pred_values)\n",
        "\n",
        "  return pred_label"
      ],
      "metadata": {
        "id": "tQFgGtE49JQl"
      },
      "execution_count": null,
      "outputs": []
    },
    {
      "cell_type": "markdown",
      "source": [
        "### Previous Model"
      ],
      "metadata": {
        "id": "9lOxyrfO-Zp8"
      }
    },
    {
      "cell_type": "code",
      "source": [
        "eval1_text = \"cured my acne scars. Worked miraculously\"\n",
        "gt1_label = '1'\n",
        "\n",
        "eval1 = process_eval_sample(eval1_text)\n",
        "eval1_label = pred_prev_model(eval1)\n",
        "\n",
        "print(f\"Eval Sample 1: {eval1_text}\")\n",
        "print(f\"Ground Truth Label: {gt1_label}\")\n",
        "print(f\"Predicted Label: {eval1_label}\")"
      ],
      "metadata": {
        "colab": {
          "base_uri": "https://localhost:8080/"
        },
        "id": "Un7QEBLG-9DF",
        "outputId": "1f7fa2ce-fb78-44d8-bf74-c56d8dcc1485"
      },
      "execution_count": null,
      "outputs": [
        {
          "output_type": "stream",
          "name": "stdout",
          "text": [
            "1/1 [==============================] - 0s 22ms/step\n",
            "Predicted Value: [0.9864878]\n",
            "Eval Sample 1: cured my acne scars. Worked miraculously\n",
            "Ground Truth Label: 1\n",
            "Predicted Label: 1\n"
          ]
        }
      ]
    },
    {
      "cell_type": "code",
      "source": [
        "eval2_text = \"I purchased this cream in hopes it would be good. It definitely hydrates my skin, but it does leave my face really shiny as if it’s oily. Not happy with this look and so I’ve ended up just using it only at night. Or, if I know I’m not venturing out anywhere, I’ll apply it on. May not purchase this again.\"\n",
        "gt2_label = '0'\n",
        "\n",
        "eval2 = process_eval_sample(eval2_text)\n",
        "eval2_label = pred_prev_model(eval2)\n",
        "\n",
        "print(f\"Predictions: {loaded_model.predict(eval2)[0]}\")\n",
        "print(f\"Eval Sample 2: {eval2_text}\")\n",
        "print(f\"Ground Truth Label: {gt2_label}\")\n",
        "print(f\"Predicted Label: {eval2_label}\")"
      ],
      "metadata": {
        "colab": {
          "base_uri": "https://localhost:8080/"
        },
        "id": "uZ4C0jM_-SPy",
        "outputId": "390a3696-0b9a-40d9-d3e7-d33cbef73369"
      },
      "execution_count": null,
      "outputs": [
        {
          "output_type": "stream",
          "name": "stdout",
          "text": [
            "2/2 [==============================] - 0s 9ms/step\n",
            "Predicted Value: [0.9864878]\n",
            "2/2 [==============================] - 0s 10ms/step\n",
            "Predictions: [0.9864878]\n",
            "Eval Sample 2: I purchased this cream in hopes it would be good. It definitely hydrates my skin, but it does leave my face really shiny as if it’s oily. Not happy with this look and so I’ve ended up just using it only at night. Or, if I know I’m not venturing out anywhere, I’ll apply it on. May not purchase this again.\n",
            "Ground Truth Label: 0\n",
            "Predicted Label: 1\n"
          ]
        }
      ]
    },
    {
      "cell_type": "code",
      "source": [
        "eval3_text = \"best product ever!\"\n",
        "gt3_label = '1'\n",
        "\n",
        "eval3 = process_eval_sample(eval3_text)\n",
        "eval3_label = pred_prev_model(eval3)\n",
        "\n",
        "print(f\"Eval Sample 3: {eval3_text}\")\n",
        "print(f\"Ground Truth Label: {gt3_label}\")\n",
        "print(f\"Predicted Label: {eval3_label}\")"
      ],
      "metadata": {
        "colab": {
          "base_uri": "https://localhost:8080/"
        },
        "id": "NwcCCLxz-dGq",
        "outputId": "94185650-a2e8-4932-d5cb-f71c2db3f976"
      },
      "execution_count": null,
      "outputs": [
        {
          "output_type": "stream",
          "name": "stdout",
          "text": [
            "1/1 [==============================] - 0s 21ms/step\n",
            "Predicted Value: [0.98547864]\n",
            "Eval Sample 3: best product ever!\n",
            "Ground Truth Label: 1\n",
            "Predicted Label: 1\n"
          ]
        }
      ]
    },
    {
      "cell_type": "markdown",
      "source": [
        "### Optimized Model"
      ],
      "metadata": {
        "id": "ZIvcUjG7_LFv"
      }
    },
    {
      "cell_type": "code",
      "source": [
        "eval1_text = \"cured my acne scars. Worked miraculously\"\n",
        "gt1_label = '1'\n",
        "\n",
        "eval1 = process_eval_sample(eval1_text)\n",
        "eval1_label = pred_optimized_model(eval1)\n",
        "\n",
        "print(f\"Eval Sample 1: {eval1_text}\")\n",
        "print(f\"Ground Truth Label: {gt1_label}\")\n",
        "print(f\"Predicted Label: {eval1_label}\")"
      ],
      "metadata": {
        "colab": {
          "base_uri": "https://localhost:8080/"
        },
        "id": "k9zailHO-7Ej",
        "outputId": "7f0ceab6-2a14-4894-d270-75f76d999a43"
      },
      "execution_count": null,
      "outputs": [
        {
          "output_type": "stream",
          "name": "stdout",
          "text": [
            "1/1 [==============================] - 0s 23ms/step\n",
            "Predicted Value: [0.9956344]\n",
            "Eval Sample 1: cured my acne scars. Worked miraculously\n",
            "Ground Truth Label: 1\n",
            "Predicted Label: 1\n"
          ]
        }
      ]
    },
    {
      "cell_type": "code",
      "source": [
        "eval2_text = \"I purchased this cream in hopes it would be good. It definitely hydrates my skin, but it does leave my face really shiny as if it’s oily. Not happy with this look and so I’ve ended up just using it only at night. Or, if I know I’m not venturing out anywhere, I’ll apply it on. May not purchase this again.\"\n",
        "gt2_label = '0'\n",
        "\n",
        "eval2 = process_eval_sample(eval2_text)\n",
        "eval2_label = pred_optimized_model(eval2)\n",
        "\n",
        "print(f\"Predictions: {loaded_model.predict(eval2)[0]}\")\n",
        "print(f\"Eval Sample 2: {eval2_text}\")\n",
        "print(f\"Ground Truth Label: {gt2_label}\")\n",
        "print(f\"Predicted Label: {eval2_label}\")"
      ],
      "metadata": {
        "colab": {
          "base_uri": "https://localhost:8080/"
        },
        "id": "mCsIe4mO_ZiH",
        "outputId": "c872c862-f7fd-4a68-9d64-90c4754d42b8"
      },
      "execution_count": null,
      "outputs": [
        {
          "output_type": "stream",
          "name": "stdout",
          "text": [
            "2/2 [==============================] - 0s 6ms/step\n",
            "Predicted Value: [0.9956344]\n",
            "2/2 [==============================] - 0s 6ms/step\n",
            "Predictions: [0.9864878]\n",
            "Eval Sample 2: I purchased this cream in hopes it would be good. It definitely hydrates my skin, but it does leave my face really shiny as if it’s oily. Not happy with this look and so I’ve ended up just using it only at night. Or, if I know I’m not venturing out anywhere, I’ll apply it on. May not purchase this again.\n",
            "Ground Truth Label: 0\n",
            "Predicted Label: 1\n"
          ]
        }
      ]
    },
    {
      "cell_type": "code",
      "source": [
        "eval3_text = \"best product ever!\"\n",
        "gt3_label = '1'\n",
        "\n",
        "eval3 = process_eval_sample(eval3_text)\n",
        "eval3_label = pred_optimized_model(eval3)\n",
        "\n",
        "print(f\"Eval Sample 3: {eval3_text}\")\n",
        "print(f\"Ground Truth Label: {gt3_label}\")\n",
        "print(f\"Predicted Label: {eval3_label}\")"
      ],
      "metadata": {
        "colab": {
          "base_uri": "https://localhost:8080/"
        },
        "id": "X9DnzeMW_cyj",
        "outputId": "1e13968c-2745-4e3b-8198-ba8480cf4b53"
      },
      "execution_count": null,
      "outputs": [
        {
          "output_type": "stream",
          "name": "stdout",
          "text": [
            "1/1 [==============================] - 0s 22ms/step\n",
            "Predicted Value: [0.94840926]\n",
            "Eval Sample 3: best product ever!\n",
            "Ground Truth Label: 1\n",
            "Predicted Label: 1\n"
          ]
        }
      ]
    },
    {
      "cell_type": "code",
      "source": [],
      "metadata": {
        "id": "DEHf1BIe514d"
      },
      "execution_count": null,
      "outputs": []
    }
  ]
}