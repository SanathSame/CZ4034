{
  "nbformat": 4,
  "nbformat_minor": 0,
  "metadata": {
    "colab": {
      "provenance": []
    },
    "kernelspec": {
      "name": "python3",
      "display_name": "Python 3"
    },
    "language_info": {
      "name": "python"
    }
  },
  "cells": [
    {
      "cell_type": "markdown",
      "source": [
        "# LSTM"
      ],
      "metadata": {
        "id": "OvPrDt_OjIkB"
      }
    },
    {
      "cell_type": "markdown",
      "source": [
        "## Mounting Drive"
      ],
      "metadata": {
        "id": "UGM-0VF9jKNx"
      }
    },
    {
      "cell_type": "code",
      "source": [
        "from google.colab import drive\n",
        "drive.mount('/content/drive')"
      ],
      "metadata": {
        "colab": {
          "base_uri": "https://localhost:8080/"
        },
        "id": "V1qw7jUfjJrz",
        "outputId": "f496cbe7-f4b4-4a0b-8025-9c994a341025"
      },
      "execution_count": null,
      "outputs": [
        {
          "output_type": "stream",
          "name": "stdout",
          "text": [
            "Mounted at /content/drive\n"
          ]
        }
      ]
    },
    {
      "cell_type": "markdown",
      "source": [
        "## Imports"
      ],
      "metadata": {
        "id": "lvsyLbQJjd4X"
      }
    },
    {
      "cell_type": "code",
      "source": [
        "import pandas as pd\n",
        "import numpy as np\n",
        "import seaborn as sb\n",
        "import matplotlib.pyplot as plt\n",
        "import nltk\n",
        "nltk.download('punkt')\n",
        "\n",
        "import tensorflow as tf\n",
        "from tensorflow.keras.callbacks import EarlyStopping\n",
        "from tensorflow.keras.preprocessing.sequence import pad_sequences\n",
        "from tensorflow.keras.preprocessing.text import Tokenizer\n",
        "from tensorflow.keras.losses import BinaryCrossentropy\n",
        "from tensorflow.keras.optimizers import Adam\n",
        "from sklearn.preprocessing import LabelEncoder\n",
        "from sklearn.model_selection import train_test_split\n",
        "from tensorflow.keras import layers\n",
        "from tensorflow.keras.models import *\n",
        "from tensorflow.keras.layers import *\n",
        "from collections import Counter\n",
        "import json\n",
        "import time"
      ],
      "metadata": {
        "colab": {
          "base_uri": "https://localhost:8080/"
        },
        "id": "rviyl0pvjMYK",
        "outputId": "2e147401-d820-47a0-cb45-02941898925c"
      },
      "execution_count": null,
      "outputs": [
        {
          "output_type": "stream",
          "name": "stderr",
          "text": [
            "[nltk_data] Downloading package punkt to /root/nltk_data...\n",
            "[nltk_data]   Unzipping tokenizers/punkt.zip.\n"
          ]
        }
      ]
    },
    {
      "cell_type": "code",
      "source": [
        "#Loading the Dataset\n",
        "dataset = pd.read_csv('/content/drive/MyDrive/CZ4034/final_dataset.csv')\n",
        "dataset.drop('Unnamed: 0', axis=1, inplace=True)\n",
        "\n",
        "# # of rows = 5000, # of cols = 2\n",
        "print(dataset.shape)\n"
      ],
      "metadata": {
        "colab": {
          "base_uri": "https://localhost:8080/"
        },
        "id": "3lYnLD0_kD3C",
        "outputId": "4bf322dd-7770-4479-e776-3252569629bd"
      },
      "execution_count": null,
      "outputs": [
        {
          "output_type": "stream",
          "name": "stdout",
          "text": [
            "(1306, 2)\n"
          ]
        }
      ]
    },
    {
      "cell_type": "code",
      "source": [
        "#Exploring the Dataset\n",
        "print(dataset['flair_labels'].value_counts())"
      ],
      "metadata": {
        "colab": {
          "base_uri": "https://localhost:8080/"
        },
        "id": "BidNlld5kL1c",
        "outputId": "7885e04f-4ac1-4556-efec-f3e305cef332"
      },
      "execution_count": null,
      "outputs": [
        {
          "output_type": "stream",
          "name": "stdout",
          "text": [
            "1    653\n",
            "0    653\n",
            "Name: flair_labels, dtype: int64\n"
          ]
        }
      ]
    },
    {
      "cell_type": "code",
      "source": [
        "#Count all the unique words - input to fxn: column [series]\n",
        "prev_list = []\n",
        "\n",
        "for review in dataset.Review:\n",
        "    string_list = review.split(' ')\n",
        "    string_list += prev_list\n",
        "    prev_list = string_list\n",
        "\n",
        "counter = Counter(string_list)\n",
        "\n",
        "#Getting the number of unique words\n",
        "num_unique_words = len(counter)\n",
        "\n",
        "#Getting the top 10 most commonly used words\n",
        "most_common = counter.most_common(10)\n",
        "\n",
        "most_common"
      ],
      "metadata": {
        "colab": {
          "base_uri": "https://localhost:8080/"
        },
        "id": "gbzwYZ9lkN-1",
        "outputId": "2a7af60e-4fbc-48d2-bd83-97c0157a6847"
      },
      "execution_count": null,
      "outputs": [
        {
          "output_type": "execute_result",
          "data": {
            "text/plain": [
              "[('skin', 1334),\n",
              " ('product', 458),\n",
              " ('like', 380),\n",
              " ('love', 330),\n",
              " ('using', 324),\n",
              " ('use', 324),\n",
              " ('face', 309),\n",
              " ('really', 275),\n",
              " ('dry', 229),\n",
              " ('im', 227)]"
            ]
          },
          "metadata": {},
          "execution_count": 5
        }
      ]
    },
    {
      "cell_type": "code",
      "source": [
        "#Splitting into trianing and validation splits\n",
        "x_train, x_test, y_train, y_test = train_test_split(dataset['Review'], dataset['flair_labels'], test_size=0.2, random_state=42)\n",
        "#x_val, x_test, y_val, y_test = train_test_split(x_val, y_val, test_size=0.5, random_state=42)\n",
        "\n",
        "print(f\"Train: {len(x_train)}\")\n",
        "#print(f\"Val: {len(x_val)}\")\n",
        "print(f\"Test: {len(x_test)}\")\n",
        "# Train - 1568 , Test - 392"
      ],
      "metadata": {
        "colab": {
          "base_uri": "https://localhost:8080/"
        },
        "id": "MFSbYa7XkRxR",
        "outputId": "f6977bff-276d-4dbc-80ca-e1bdf6f97032"
      },
      "execution_count": null,
      "outputs": [
        {
          "output_type": "stream",
          "name": "stdout",
          "text": [
            "Train: 1044\n",
            "Test: 262\n"
          ]
        }
      ]
    },
    {
      "cell_type": "code",
      "source": [
        "#Convert from Series into Numpy Array\n",
        "train_sentences = x_train.to_numpy()\n",
        "train_labels = y_train.to_numpy()\n",
        "\n",
        "#val_sentences = x_val.to_numpy()\n",
        "#val_labels = y_val.to_numpy()\n",
        "\n",
        "test_sentences = x_test.to_numpy()\n",
        "test_labels = y_test.to_numpy()"
      ],
      "metadata": {
        "id": "BP5i680Ikme7"
      },
      "execution_count": null,
      "outputs": []
    },
    {
      "cell_type": "code",
      "source": [
        "#Tokenization - vectorise a text corpus by converting text into a sequence of integers\n",
        "#this also generates a word index\n",
        "tokenizer = Tokenizer(num_words=num_unique_words)\n",
        "tokenizer.fit_on_texts(train_sentences)\n",
        "\n",
        "word_index = tokenizer.word_index\n",
        "\n",
        "#writing the word index into a text file\n",
        "\n",
        "with open(\"/content/drive/MyDrive/CZ4034/final_data_word_idx.txt\", 'w') as f:\n",
        "    f.write(json.dumps(word_index))"
      ],
      "metadata": {
        "id": "6gpqlJA9ksqh"
      },
      "execution_count": null,
      "outputs": []
    },
    {
      "cell_type": "code",
      "source": [
        "#Converting the text into sequences\n",
        "train_sequences = tokenizer.texts_to_sequences(train_sentences)\n",
        "#val_sequences = tokenizer.texts_to_sequences(val_sentences)\n",
        "test_sequences = tokenizer.texts_to_sequences(test_sentences)\n",
        "\n",
        "#Getting the longest review\n",
        "MAX_LEN = len(max(train_sequences))\n",
        "\n",
        "#Padding the Sequences\n",
        "train_padded = pad_sequences(train_sequences, maxlen=MAX_LEN, padding='post', truncating='post')\n",
        "#val_padded = pad_sequences(val_sequences, maxlen=MAX_LEN, padding='post', truncating='post')\n",
        "test_padded = pad_sequences(test_sequences, maxlen=MAX_LEN, padding='post', truncating='post')"
      ],
      "metadata": {
        "id": "CiDIwKS_kuck"
      },
      "execution_count": null,
      "outputs": []
    },
    {
      "cell_type": "code",
      "source": [
        "print('Train:',train_padded.shape)\n",
        "#print('Val:',val_padded.shape)\n",
        "print('Test:',test_padded.shape)\n",
        "\"\"\"\n",
        "NOTE: \n",
        "  • Train Padded Shape: (1568, 22)\n",
        "  • Valid Padded Shape: (196, 22)\n",
        "  • Test Padded Shape: (392, 22)\n",
        "\"\"\""
      ],
      "metadata": {
        "colab": {
          "base_uri": "https://localhost:8080/",
          "height": 70
        },
        "id": "VersJhRCkxz8",
        "outputId": "3b9ab439-80a4-45c6-af42-99a993f36230"
      },
      "execution_count": null,
      "outputs": [
        {
          "output_type": "stream",
          "name": "stdout",
          "text": [
            "Train: (1044, 40)\n",
            "Test: (262, 40)\n"
          ]
        },
        {
          "output_type": "execute_result",
          "data": {
            "text/plain": [
              "'\\nNOTE: \\n  • Train Padded Shape: (1568, 22)\\n  • Valid Padded Shape: (196, 22)\\n  • Test Padded Shape: (392, 22)\\n'"
            ],
            "application/vnd.google.colaboratory.intrinsic+json": {
              "type": "string"
            }
          },
          "metadata": {},
          "execution_count": 10
        }
      ]
    },
    {
      "cell_type": "code",
      "source": [
        "le = LabelEncoder()\n",
        "train_labels = le.fit_transform(train_labels)\n",
        "#val_labels = le.fit_transform(val_labels)\n",
        "test_labels = le.fit_transform(test_labels)"
      ],
      "metadata": {
        "id": "OhUj1SNykz5U"
      },
      "execution_count": null,
      "outputs": []
    },
    {
      "cell_type": "code",
      "source": [
        "print(f\"Training\")\n",
        "print(f\"0: {list(train_labels).count(0)}\")\n",
        "print(f\"1: {list(train_labels).count(1)}\\n\")\n",
        "\n",
        "#print(\"Val\")\n",
        "#print(f\"0: {list(val_labels).count(0)}\")\n",
        "#print(f\"1: {list(val_labels).count(1)}\\n\")\n",
        "\n",
        "print(\"Test\")\n",
        "print(f\"0: {list(test_labels).count(0)}\")\n",
        "print(f\"1: {list(test_labels).count(1)}\\n\")"
      ],
      "metadata": {
        "colab": {
          "base_uri": "https://localhost:8080/"
        },
        "id": "jmLIYRRgl5yI",
        "outputId": "f254255d-297d-40b7-9d88-0d268fbba410"
      },
      "execution_count": null,
      "outputs": [
        {
          "output_type": "stream",
          "name": "stdout",
          "text": [
            "Training\n",
            "0: 527\n",
            "1: 517\n",
            "\n",
            "Test\n",
            "0: 126\n",
            "1: 136\n",
            "\n"
          ]
        }
      ]
    },
    {
      "cell_type": "markdown",
      "source": [
        "## Model Building"
      ],
      "metadata": {
        "id": "ItBYwhgzla4V"
      }
    },
    {
      "cell_type": "markdown",
      "source": [
        "### LSTM "
      ],
      "metadata": {
        "id": "9u9A8l_voFG3"
      }
    },
    {
      "cell_type": "code",
      "source": [
        "#Creating a base model\n",
        "model = Sequential()\n",
        "\n",
        "#EMBEDDING LAYER:\n",
        "#input_dim = num_unique_words -> size of the vocabulary ie how many unique words exist\n",
        "#output_dim = 100, as in this case we take an LSTM with 100 neurons\n",
        "#input_length = 22 (MAX_LEN) -> the max length of each sentence (ie check the length of one padded sample)\n",
        "model.add(Embedding(num_unique_words, output_dim=100, input_length=MAX_LEN, trainable=True))\n",
        "#model.add(LSTM(100, dropout=0.2, return_sequences=True)) #the output of this layer is passed to the next layer cuz return sequence is TRUE\n",
        "model.add(LSTM(100, dropout=0.3, recurrent_dropout=0.3))\n",
        "model.add(Dense(1, activation='sigmoid')) #sigmoid for binary classifiation, sftmax for multi-classification\n",
        "\n",
        "model.compile(loss='binary_crossentropy', optimizer='adam', metrics=['accuracy'])\n",
        "\n",
        "model.summary()"
      ],
      "metadata": {
        "colab": {
          "base_uri": "https://localhost:8080/"
        },
        "id": "eHbSAASPlX6e",
        "outputId": "0d5ac759-8708-4c2c-ccc4-fc3a45456336"
      },
      "execution_count": null,
      "outputs": [
        {
          "output_type": "stream",
          "name": "stdout",
          "text": [
            "Model: \"sequential\"\n",
            "_________________________________________________________________\n",
            " Layer (type)                Output Shape              Param #   \n",
            "=================================================================\n",
            " embedding (Embedding)       (None, 40, 100)           378900    \n",
            "                                                                 \n",
            " lstm (LSTM)                 (None, 100)               80400     \n",
            "                                                                 \n",
            " dense (Dense)               (None, 1)                 101       \n",
            "                                                                 \n",
            "=================================================================\n",
            "Total params: 459,401\n",
            "Trainable params: 459,401\n",
            "Non-trainable params: 0\n",
            "_________________________________________________________________\n"
          ]
        }
      ]
    },
    {
      "cell_type": "code",
      "source": [
        "#FOR TIME\n",
        "t0 = time.time()\n",
        "history = model.fit(train_padded, train_labels, epochs=5, batch_size=64, validation_data=(test_padded, test_labels))\n",
        "print(f\"Training Time: {time.time()-t0}\")"
      ],
      "metadata": {
        "id": "-lBwgwLkGnpR"
      },
      "execution_count": null,
      "outputs": []
    },
    {
      "cell_type": "code",
      "source": [
        "history = model.fit(train_padded, train_labels, epochs=5, batch_size=64, validation_data=(test_padded, test_labels))"
      ],
      "metadata": {
        "colab": {
          "base_uri": "https://localhost:8080/"
        },
        "id": "Y88gUNAqlZdQ",
        "outputId": "1c48fff6-459a-4e7d-c346-6042620acf1c"
      },
      "execution_count": null,
      "outputs": [
        {
          "output_type": "stream",
          "name": "stdout",
          "text": [
            "Epoch 1/5\n",
            "17/17 [==============================] - 7s 221ms/step - loss: 0.6917 - accuracy: 0.5431 - val_loss: 0.6895 - val_accuracy: 0.5305\n",
            "Epoch 2/5\n",
            "17/17 [==============================] - 2s 115ms/step - loss: 0.6835 - accuracy: 0.5536 - val_loss: 0.7010 - val_accuracy: 0.5687\n",
            "Epoch 3/5\n",
            "17/17 [==============================] - 2s 115ms/step - loss: 0.6203 - accuracy: 0.6274 - val_loss: 0.7658 - val_accuracy: 0.7099\n",
            "Epoch 4/5\n",
            "17/17 [==============================] - 2s 123ms/step - loss: 0.4078 - accuracy: 0.8400 - val_loss: 0.4712 - val_accuracy: 0.7901\n",
            "Epoch 5/5\n",
            "17/17 [==============================] - 2s 114ms/step - loss: 0.2582 - accuracy: 0.9157 - val_loss: 0.5197 - val_accuracy: 0.7557\n"
          ]
        }
      ]
    },
    {
      "cell_type": "code",
      "source": [
        "with open('/content/drive/MyDrive/CZ4034/LSTM/hist_lstm.txt', 'w') as convert_file:\n",
        "     convert_file.write(json.dumps(history.history))"
      ],
      "metadata": {
        "id": "THopSYKoosVO"
      },
      "execution_count": null,
      "outputs": []
    },
    {
      "cell_type": "code",
      "source": [
        "with open('/content/drive/MyDrive/CZ4034/LSTM/hist_lstm.txt', 'r') as f:\n",
        "  history = json.load(f)\n",
        "\n",
        "print(history)"
      ],
      "metadata": {
        "colab": {
          "base_uri": "https://localhost:8080/"
        },
        "id": "fjjcBExjJGRR",
        "outputId": "665629c0-d729-41e9-b30b-755446e99967"
      },
      "execution_count": null,
      "outputs": [
        {
          "output_type": "stream",
          "name": "stdout",
          "text": [
            "{'loss': [0.6933476328849792, 0.6849475502967834, 0.5853480696678162, 0.35846564173698425, 0.18000194430351257], 'accuracy': [0.5201149582862854, 0.5565134286880493, 0.6772030591964722, 0.8505747318267822, 0.9367815852165222], 'val_loss': [0.6908380389213562, 0.6754482388496399, 0.5340678095817566, 0.49655163288116455, 0.6420997381210327], 'val_accuracy': [0.5458015203475952, 0.580152690410614, 0.7213740348815918, 0.7786259651184082, 0.8091602921485901]}\n"
          ]
        }
      ]
    },
    {
      "cell_type": "code",
      "source": [
        "type(history)"
      ],
      "metadata": {
        "colab": {
          "base_uri": "https://localhost:8080/"
        },
        "id": "pbjnMHudJVS8",
        "outputId": "a25e95f8-f796-4144-e839-d93bd14ac3f2"
      },
      "execution_count": null,
      "outputs": [
        {
          "output_type": "execute_result",
          "data": {
            "text/plain": [
              "dict"
            ]
          },
          "metadata": {},
          "execution_count": 20
        }
      ]
    },
    {
      "cell_type": "code",
      "source": [
        "#PLOTTING THE CURVES\n",
        "epochs = range(1,6)\n",
        "\n",
        "#Plotting the Accuracy Curves\n",
        "train_accuracy = history.history['accuracy']\n",
        "val_accuracy = history.history['val_accuracy']\n",
        "\n",
        "plt.plot(epochs,train_accuracy, 'b', label='Training Accuracy')\n",
        "plt.plot(epochs,val_accuracy, 'r', label='Test Accuracy')\n",
        "plt.title('Accuracy Curves for LSTM')\n",
        "plt.legend()\n",
        "plt.figure()\n",
        "plt.savefig('/content/drive/MyDrive/CZ4034/LSTM/LSTM_try1_Accuracy.png')"
      ],
      "metadata": {
        "colab": {
          "base_uri": "https://localhost:8080/",
          "height": 470
        },
        "id": "GR7NrWoDpIr9",
        "outputId": "8a6d53ab-cd2c-439a-83d5-42989989bff7"
      },
      "execution_count": null,
      "outputs": [
        {
          "output_type": "display_data",
          "data": {
            "text/plain": [
              "<Figure size 640x480 with 1 Axes>"
            ],
            "image/png": "[encoded data removed]"
          },
          "metadata": {}
        },
        {
          "output_type": "display_data",
          "data": {
            "text/plain": [
              "<Figure size 640x480 with 0 Axes>"
            ]
          },
          "metadata": {}
        }
      ]
    },
    {
      "cell_type": "code",
      "source": [
        "#Plotting the Loss Curves\n",
        "train_loss = history.history['loss']\n",
        "val_loss = history.history['val_loss']\n",
        "\n",
        "plt.plot(epochs,train_loss, 'b', label='Training Loss')\n",
        "plt.plot(epochs,val_loss, 'r', label='Test Loss')\n",
        "plt.title('Loss Curves for LSTM')\n",
        "plt.legend()\n",
        "plt.show()\n",
        "plt.savefig('/content/drive/MyDrive/CZ4034/LSTM/LSTM_try1_Loss.png')"
      ],
      "metadata": {
        "colab": {
          "base_uri": "https://localhost:8080/",
          "height": 470
        },
        "id": "Fuyc7-SvpQ-F",
        "outputId": "38e6cb4c-4e7f-469b-bd26-52caaf795bd8"
      },
      "execution_count": null,
      "outputs": [
        {
          "output_type": "display_data",
          "data": {
            "text/plain": [
              "<Figure size 640x480 with 1 Axes>"
            ],
            "image/png": "[encoded data removed]"
          },
          "metadata": {}
        },
        {
          "output_type": "display_data",
          "data": {
            "text/plain": [
              "<Figure size 640x480 with 0 Axes>"
            ]
          },
          "metadata": {}
        }
      ]
    },
    {
      "cell_type": "code",
      "source": [
        "model = load_model('/content/drive/MyDrive/CZ4034/LSTM.hdf5')\n",
        "model"
      ],
      "metadata": {
        "colab": {
          "base_uri": "https://localhost:8080/"
        },
        "id": "tc9KFCA5I95V",
        "outputId": "20651a64-710c-4b05-eea4-4a7bd7368180"
      },
      "execution_count": null,
      "outputs": [
        {
          "output_type": "execute_result",
          "data": {
            "text/plain": [
              "<keras.engine.sequential.Sequential at 0x7f1d14283c70>"
            ]
          },
          "metadata": {},
          "execution_count": 13
        }
      ]
    },
    {
      "cell_type": "code",
      "source": [
        "#FOR TIME\n",
        "t1 = time.time()\n",
        "scores = model.evaluate(test_padded, test_labels, verbose=1,batch_size = 64)\n",
        "print(\"Accuracy: %.2f%%\" % (scores[1]*100), f\"Inference Time: {time.time()-t1}\")"
      ],
      "metadata": {
        "id": "NMhjPnw7HBcE"
      },
      "execution_count": null,
      "outputs": []
    },
    {
      "cell_type": "code",
      "source": [
        "scores = model.evaluate(test_padded, test_labels, verbose=1,batch_size = 64)\n",
        "print(\"Accuracy: %.2f%%\" % (scores[1]*100))"
      ],
      "metadata": {
        "colab": {
          "base_uri": "https://localhost:8080/"
        },
        "id": "n3wGCEyRKFzI",
        "outputId": "9385ae00-9a94-4a86-e57c-7dc0d6bd06a9"
      },
      "execution_count": null,
      "outputs": [
        {
          "output_type": "stream",
          "name": "stdout",
          "text": [
            "5/5 [==============================] - 2s 63ms/step - loss: 0.5197 - accuracy: 0.7557\n",
            "Accuracy: 75.57%\n"
          ]
        }
      ]
    },
    {
      "cell_type": "code",
      "source": [
        "predictions = model.predict(test_padded)\n",
        "predictions = [1 if p > 0.5 else 0 for p in predictions]"
      ],
      "metadata": {
        "colab": {
          "base_uri": "https://localhost:8080/"
        },
        "id": "kNCS8TWgpWUr",
        "outputId": "4427c427-4427-4cd8-9f14-8fd70a0665b6"
      },
      "execution_count": null,
      "outputs": [
        {
          "output_type": "stream",
          "name": "stdout",
          "text": [
            "9/9 [==============================] - 0s 13ms/step\n"
          ]
        }
      ]
    },
    {
      "cell_type": "code",
      "source": [
        "from sklearn.metrics import confusion_matrix, classification_report\n",
        "\n",
        "conf_matrix = confusion_matrix(test_labels, predictions)\n",
        "tn, fp, fn, tp = conf_matrix.ravel()"
      ],
      "metadata": {
        "id": "6K7z5r14pmUM"
      },
      "execution_count": null,
      "outputs": []
    },
    {
      "cell_type": "code",
      "source": [
        "print(classification_report(test_labels, predictions))"
      ],
      "metadata": {
        "colab": {
          "base_uri": "https://localhost:8080/"
        },
        "id": "WmjclpTULj5e",
        "outputId": "5114c83a-b6a2-42f4-cf08-079264a3b037"
      },
      "execution_count": null,
      "outputs": [
        {
          "output_type": "stream",
          "name": "stdout",
          "text": [
            "              precision    recall  f1-score   support\n",
            "\n",
            "           0       0.71      0.84      0.77       126\n",
            "           1       0.82      0.68      0.74       136\n",
            "\n",
            "    accuracy                           0.76       262\n",
            "   macro avg       0.76      0.76      0.76       262\n",
            "weighted avg       0.77      0.76      0.75       262\n",
            "\n"
          ]
        }
      ]
    },
    {
      "cell_type": "code",
      "source": [
        "print(f\"True Positives: {tp}\")\n",
        "print(f\"True Negatives: {tn}\")\n",
        "print(f\"False Positives: {fp}\")\n",
        "print(f\"False Negatives: {fn}\")"
      ],
      "metadata": {
        "colab": {
          "base_uri": "https://localhost:8080/"
        },
        "id": "_kL0eAP7polo",
        "outputId": "08dab01f-72b0-4101-a297-55d945399302"
      },
      "execution_count": null,
      "outputs": [
        {
          "output_type": "stream",
          "name": "stdout",
          "text": [
            "True Positives: 92\n",
            "True Negatives: 106\n",
            "False Positives: 20\n",
            "False Negatives: 44\n"
          ]
        }
      ]
    },
    {
      "cell_type": "code",
      "source": [
        "!pip install clean-text"
      ],
      "metadata": {
        "colab": {
          "base_uri": "https://localhost:8080/"
        },
        "id": "RcT2_vJqpvv9",
        "outputId": "98a9b4bf-9a0e-4fb7-ad1e-e39558e62fd4"
      },
      "execution_count": null,
      "outputs": [
        {
          "output_type": "stream",
          "name": "stdout",
          "text": [
            "Looking in indexes: https://pypi.org/simple, https://us-python.pkg.dev/colab-wheels/public/simple/\n",
            "Collecting clean-text\n",
            "  Downloading clean_text-0.6.0-py3-none-any.whl (11 kB)\n",
            "Collecting emoji<2.0.0,>=1.0.0\n",
            "  Downloading emoji-1.7.0.tar.gz (175 kB)\n",
            "\u001b[2K     \u001b[90m━━━━━━━━━━━━━━━━━━━━━━━━━━━━━━━━━━━━━━\u001b[0m \u001b[32m175.4/175.4 KB\u001b[0m \u001b[31m14.7 MB/s\u001b[0m eta \u001b[36m0:00:00\u001b[0m\n",
            "\u001b[?25h  Preparing metadata (setup.py) ... \u001b[?25l\u001b[?25hdone\n",
            "Collecting ftfy<7.0,>=6.0\n",
            "  Downloading ftfy-6.1.1-py3-none-any.whl (53 kB)\n",
            "\u001b[2K     \u001b[90m━━━━━━━━━━━━━━━━━━━━━━━━━━━━━━━━━━━━━━━━\u001b[0m \u001b[32m53.1/53.1 KB\u001b[0m \u001b[31m7.9 MB/s\u001b[0m eta \u001b[36m0:00:00\u001b[0m\n",
            "\u001b[?25hRequirement already satisfied: wcwidth>=0.2.5 in /usr/local/lib/python3.9/dist-packages (from ftfy<7.0,>=6.0->clean-text) (0.2.6)\n",
            "Building wheels for collected packages: emoji\n",
            "  Building wheel for emoji (setup.py) ... \u001b[?25l\u001b[?25hdone\n",
            "  Created wheel for emoji: filename=emoji-1.7.0-py3-none-any.whl size=171048 sha256=820480d254e588463f1ccc9cf41234a8dcec2e5a582a1cff89bccab70ed3c731\n",
            "  Stored in directory: /root/.cache/pip/wheels/fa/7a/e9/22dd0515e1bad255e51663ee513a2fa839c95934c5fc301090\n",
            "Successfully built emoji\n",
            "Installing collected packages: emoji, ftfy, clean-text\n",
            "Successfully installed clean-text-0.6.0 emoji-1.7.0 ftfy-6.1.1\n"
          ]
        }
      ]
    },
    {
      "cell_type": "code",
      "source": [
        "#Function to process the test sample in the same way as the data processing of training\n",
        "import numpy as np\n",
        "from cleantext import clean\n",
        "\n",
        "#takes in a string(text) and returns a padded sequence \n",
        "def process_eval_sample(text):\n",
        "  text = clean(text, no_emoji=True, no_punct=True, lower=True)\n",
        "  text = text.split(\" \")\n",
        "  sentence = np.array(text)\n",
        "  sequence = tokenizer.texts_to_sequences(sentence)\n",
        "  padded_sequence = pad_sequences(sequence, maxlen=MAX_LEN, padding='post', truncating='post')\n",
        "\n",
        "  return padded_sequence\n",
        "\n",
        "#takes in a padded sequence and returns an integer (0 or 1) for the label\n",
        "def predict_test_sample(padded_seq):\n",
        "  predictions = model.predict(padded_seq)[0]\n",
        "  print(f\"Predicted Value: {predictions}\")\n",
        "  pred_values = [1 if p>=0.5 else 0 for p in predictions]\n",
        "  pred_label = max(pred_values)\n",
        "\n",
        "  return pred_label"
      ],
      "metadata": {
        "id": "7LrjWqqppzaa",
        "colab": {
          "base_uri": "https://localhost:8080/"
        },
        "outputId": "aee68806-7ada-4387-812b-b184987f6393"
      },
      "execution_count": null,
      "outputs": [
        {
          "output_type": "stream",
          "name": "stderr",
          "text": [
            "WARNING:root:Since the GPL-licensed package `unidecode` is not installed, using Python's `unicodedata` package which yields worse results.\n"
          ]
        }
      ]
    },
    {
      "cell_type": "code",
      "source": [
        "eval2_text = \"I purchased this cream in hopes it would be good. It definitely hydrates my skin, but it does leave my face really shiny as if it’s oily. Not happy with this look and so I’ve ended up just using it only at night. Or, if I know I’m not venturing out anywhere, I’ll apply it on. May not purchase this again.\"\n",
        "gt2_label = '0'\n",
        "\n",
        "eval2 = process_eval_sample(eval2_text)\n",
        "eval2_label = predict_test_sample(eval2)\n",
        "\n",
        "print(f\"Predictions: {model.predict(eval2)[0]}\")\n",
        "print(f\"Eval Sample 2: {eval2_text}\")\n",
        "print(f\"Ground Truth Label: {gt2_label}\")\n",
        "print(f\"Predicted Label: {eval2_label}\")"
      ],
      "metadata": {
        "colab": {
          "base_uri": "https://localhost:8080/"
        },
        "id": "agdE82Qmp4MC",
        "outputId": "a6ee1c14-6af7-4beb-d7e2-940476d08ed2"
      },
      "execution_count": null,
      "outputs": [
        {
          "output_type": "stream",
          "name": "stdout",
          "text": [
            "2/2 [==============================] - 0s 15ms/step\n",
            "Predicted Value: [0.91706085]\n",
            "2/2 [==============================] - 0s 15ms/step\n",
            "Predictions: [0.91706085]\n",
            "Eval Sample 2: I purchased this cream in hopes it would be good. It definitely hydrates my skin, but it does leave my face really shiny as if it’s oily. Not happy with this look and so I’ve ended up just using it only at night. Or, if I know I’m not venturing out anywhere, I’ll apply it on. May not purchase this again.\n",
            "Ground Truth Label: 0\n",
            "Predicted Label: 1\n"
          ]
        }
      ]
    },
    {
      "cell_type": "code",
      "source": [
        "eval3_text = \"Love this\"\n",
        "gt3_label = '1'\n",
        "\n",
        "eval3 = process_eval_sample(eval3_text)\n",
        "eval3_label = predict_test_sample(eval3)\n",
        "\n",
        "print(f\"Eval Sample 3: {eval3_text}\")\n",
        "print(f\"Ground Truth Label: {gt3_label}\")\n",
        "print(f\"Predicted Label: {eval3_label}\")"
      ],
      "metadata": {
        "colab": {
          "base_uri": "https://localhost:8080/"
        },
        "id": "h_dCuI9bp6Vp",
        "outputId": "56ee176c-855f-46a7-b2a4-9d1d5ecb8a7c"
      },
      "execution_count": null,
      "outputs": [
        {
          "output_type": "stream",
          "name": "stdout",
          "text": [
            "1/1 [==============================] - 0s 27ms/step\n",
            "Predicted Value: [0.9577858]\n",
            "Eval Sample 3: Love this\n",
            "Ground Truth Label: 1\n",
            "Predicted Label: 1\n"
          ]
        }
      ]
    },
    {
      "cell_type": "code",
      "source": [
        "model.save('/content/drive/MyDrive/CZ4034/LSTM.hdf5')"
      ],
      "metadata": {
        "id": "H1cMQcoy42x4"
      },
      "execution_count": null,
      "outputs": []
    },
    {
      "cell_type": "code",
      "source": [],
      "metadata": {
        "id": "fL_rcDcl48Pa"
      },
      "execution_count": null,
      "outputs": []
    }
  ]
}